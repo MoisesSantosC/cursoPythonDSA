{
 "cells": [
  {
   "cell_type": "markdown",
   "id": "2f20dcaa",
   "metadata": {},
   "source": [
    "## Enumerate"
   ]
  },
  {
   "cell_type": "code",
   "execution_count": 1,
   "id": "ca4ad651",
   "metadata": {},
   "outputs": [],
   "source": [
    "# criando uma lista\n",
    "seq = ['a', 'b', 'c']"
   ]
  },
  {
   "cell_type": "code",
   "execution_count": 2,
   "id": "7c8336e1",
   "metadata": {},
   "outputs": [
    {
     "data": {
      "text/plain": [
       "<enumerate at 0x1df8eae7900>"
      ]
     },
     "execution_count": 2,
     "metadata": {},
     "output_type": "execute_result"
    }
   ],
   "source": [
    "# a função enumerate() também retorna um iterator\n",
    "enumerate(seq)"
   ]
  },
  {
   "cell_type": "code",
   "execution_count": 3,
   "id": "f5905b9c",
   "metadata": {},
   "outputs": [
    {
     "data": {
      "text/plain": [
       "[(0, 'a'), (1, 'b'), (2, 'c')]"
      ]
     },
     "execution_count": 3,
     "metadata": {},
     "output_type": "execute_result"
    }
   ],
   "source": [
    "# transformando o retorno do enumerate em uma lista\n",
    "# o retorno do enumarate são tuplas\n",
    "# cada tupla tem o índice com o elemento\n",
    "list(enumerate(seq))"
   ]
  },
  {
   "cell_type": "code",
   "execution_count": 4,
   "id": "f60ecb8d",
   "metadata": {},
   "outputs": [
    {
     "name": "stdout",
     "output_type": "stream",
     "text": [
      "0 a\n",
      "1 b\n",
      "2 c\n"
     ]
    }
   ],
   "source": [
    "# imprimindo os valores de uma lista com a função enumerate() e seus índices\n",
    "for indice, valor in enumerate(seq):\n",
    "    print(indice, valor)"
   ]
  },
  {
   "cell_type": "code",
   "execution_count": 5,
   "id": "c0f64cad",
   "metadata": {},
   "outputs": [
    {
     "name": "stdout",
     "output_type": "stream",
     "text": [
      "a\n",
      "b\n"
     ]
    }
   ],
   "source": [
    "# parando o loop quando o índice chegar até determinado número\n",
    "for indice, valor in enumerate(seq):\n",
    "    if indice >= 2:\n",
    "        break\n",
    "    else:\n",
    "        print(valor)"
   ]
  },
  {
   "cell_type": "code",
   "execution_count": 6,
   "id": "749330e3",
   "metadata": {},
   "outputs": [],
   "source": [
    "# criando uma lista\n",
    "lista = ['Marketing', 'Tecnologia', 'Business']"
   ]
  },
  {
   "cell_type": "code",
   "execution_count": 7,
   "id": "08a09e6a",
   "metadata": {},
   "outputs": [
    {
     "name": "stdout",
     "output_type": "stream",
     "text": [
      "0 Marketing\n",
      "1 Tecnologia\n",
      "2 Business\n"
     ]
    }
   ],
   "source": [
    "# imprimindo o índice e o valor de cada elemento da lista\n",
    "for i, item in enumerate(lista):\n",
    "    print(i, item)"
   ]
  },
  {
   "cell_type": "code",
   "execution_count": 8,
   "id": "01666794",
   "metadata": {},
   "outputs": [
    {
     "name": "stdout",
     "output_type": "stream",
     "text": [
      "0 I\n",
      "1 s\n",
      "2 s\n",
      "3 o\n",
      "4  \n",
      "5 é\n",
      "6  \n",
      "7 u\n",
      "8 m\n",
      "9 a\n",
      "10  \n",
      "11 s\n",
      "12 t\n",
      "13 r\n",
      "14 i\n",
      "15 n\n",
      "16 g\n"
     ]
    }
   ],
   "source": [
    "# imprimindo o índice de cada caracter de uma string\n",
    "for i, item in enumerate('Isso é uma string'):\n",
    "    print(i, item)"
   ]
  },
  {
   "cell_type": "code",
   "execution_count": 9,
   "id": "37cb6edf",
   "metadata": {},
   "outputs": [
    {
     "name": "stdout",
     "output_type": "stream",
     "text": [
      "0 0\n",
      "1 1\n",
      "2 2\n",
      "3 3\n",
      "4 4\n"
     ]
    }
   ],
   "source": [
    "# imprimindo o índice de um range de elementos\n",
    "for i, item in enumerate(range(5)):\n",
    "    print(i, item)"
   ]
  }
 ],
 "metadata": {
  "kernelspec": {
   "display_name": "Python 3",
   "language": "python",
   "name": "python3"
  },
  "language_info": {
   "codemirror_mode": {
    "name": "ipython",
    "version": 3
   },
   "file_extension": ".py",
   "mimetype": "text/x-python",
   "name": "python",
   "nbconvert_exporter": "python",
   "pygments_lexer": "ipython3",
   "version": "3.8.8"
  }
 },
 "nbformat": 4,
 "nbformat_minor": 5
}
