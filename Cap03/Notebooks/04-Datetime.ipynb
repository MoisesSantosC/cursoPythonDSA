{
 "cells": [
  {
   "cell_type": "markdown",
   "id": "66feaa90",
   "metadata": {},
   "source": [
    "## Datetime\n",
    "\n",
    "Esse módulo permite a manipulação de datas em Python."
   ]
  },
  {
   "cell_type": "code",
   "execution_count": 1,
   "id": "4bb7e941",
   "metadata": {},
   "outputs": [],
   "source": [
    "# importando o módulo\n",
    "import datetime"
   ]
  },
  {
   "cell_type": "code",
   "execution_count": 2,
   "id": "ab9a26fd",
   "metadata": {},
   "outputs": [],
   "source": [
    "# salvando a data corrente em uma variável\n",
    "agora = datetime.datetime.now()"
   ]
  },
  {
   "cell_type": "code",
   "execution_count": 3,
   "id": "23574956",
   "metadata": {},
   "outputs": [
    {
     "name": "stdout",
     "output_type": "stream",
     "text": [
      "2021-10-02 07:25:06.750763\n"
     ]
    }
   ],
   "source": [
    "# o valor retornado é: ano, mes, dia, hora, minuto, segundo, milessegundo\n",
    "print(agora)"
   ]
  },
  {
   "cell_type": "code",
   "execution_count": 4,
   "id": "25f40590",
   "metadata": {},
   "outputs": [
    {
     "name": "stdout",
     "output_type": "stream",
     "text": [
      "07:43:28\n"
     ]
    }
   ],
   "source": [
    "# construindo um horário\n",
    "t = datetime.time(7, 43, 28)  # os parâmetros são: hora, minuto, segundo\n",
    "\n",
    "print(t)"
   ]
  },
  {
   "cell_type": "code",
   "execution_count": 5,
   "id": "c5e9ace3",
   "metadata": {},
   "outputs": [
    {
     "name": "stdout",
     "output_type": "stream",
     "text": [
      "Hora: 7\n",
      "Minuto: 43\n",
      "Segundo: 28\n",
      "Microssegundo: 0\n"
     ]
    }
   ],
   "source": [
    "# retornando cada um dos valores criados\n",
    "print('Hora:', t.hour)\n",
    "print('Minuto:', t.minute)\n",
    "print('Segundo:', t.second)\n",
    "print('Microssegundo:', t.microsecond)"
   ]
  },
  {
   "cell_type": "code",
   "execution_count": 6,
   "id": "e8e04f78",
   "metadata": {},
   "outputs": [
    {
     "name": "stdout",
     "output_type": "stream",
     "text": [
      "00:00:00\n"
     ]
    }
   ],
   "source": [
    "# retornando o minuto\n",
    "print(datetime.time.min)"
   ]
  },
  {
   "cell_type": "code",
   "execution_count": 7,
   "id": "eb6732eb",
   "metadata": {},
   "outputs": [],
   "source": [
    "# retornando o dia atual\n",
    "hoje = datetime.date.today()"
   ]
  },
  {
   "cell_type": "code",
   "execution_count": 8,
   "id": "cf8f4b70",
   "metadata": {},
   "outputs": [
    {
     "name": "stdout",
     "output_type": "stream",
     "text": [
      "2021-10-02\n",
      "Ctime: Sat Oct  2 00:00:00 2021\n",
      "Ano: 2021\n",
      "Mês: 10\n",
      "Dia: 2\n"
     ]
    }
   ],
   "source": [
    "# extraindo os dados da variável\n",
    "print(hoje)\n",
    "print('Ctime:', hoje.ctime())\n",
    "print('Ano:', hoje.year)\n",
    "print('Mês:', hoje.month)\n",
    "print('Dia:', hoje.day)"
   ]
  },
  {
   "cell_type": "code",
   "execution_count": 9,
   "id": "538c8f54",
   "metadata": {},
   "outputs": [
    {
     "name": "stdout",
     "output_type": "stream",
     "text": [
      "Data 1: 2015-05-14\n"
     ]
    }
   ],
   "source": [
    "# gerando uma data\n",
    "d1 = datetime.date(2015, 5, 14)\n",
    "print('Data 1:', d1)"
   ]
  },
  {
   "cell_type": "code",
   "execution_count": 10,
   "id": "aba86824",
   "metadata": {},
   "outputs": [
    {
     "name": "stdout",
     "output_type": "stream",
     "text": [
      "Data 2: 2019-05-14\n"
     ]
    }
   ],
   "source": [
    "# substituindo um elemento da data\n",
    "d2 = d1.replace(year=2019)\n",
    "print('Data 2:', d2)"
   ]
  },
  {
   "cell_type": "code",
   "execution_count": 11,
   "id": "467b4064",
   "metadata": {},
   "outputs": [
    {
     "data": {
      "text/plain": [
       "datetime.timedelta(days=1461)"
      ]
     },
     "execution_count": 11,
     "metadata": {},
     "output_type": "execute_result"
    }
   ],
   "source": [
    "# diferença em dias entre as duas datas\n",
    "d2 - d1"
   ]
  }
 ],
 "metadata": {
  "kernelspec": {
   "display_name": "Python 3",
   "language": "python",
   "name": "python3"
  },
  "language_info": {
   "codemirror_mode": {
    "name": "ipython",
    "version": 3
   },
   "file_extension": ".py",
   "mimetype": "text/x-python",
   "name": "python",
   "nbconvert_exporter": "python",
   "pygments_lexer": "ipython3",
   "version": "3.8.8"
  }
 },
 "nbformat": 4,
 "nbformat_minor": 5
}
