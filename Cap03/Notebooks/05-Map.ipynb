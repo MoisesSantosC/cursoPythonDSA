{
 "cells": [
  {
   "cell_type": "markdown",
   "id": "7f97cd1a",
   "metadata": {},
   "source": [
    "## Map"
   ]
  },
  {
   "cell_type": "code",
   "execution_count": 1,
   "id": "1a74b413",
   "metadata": {},
   "outputs": [],
   "source": [
    "# criando duas funções\n",
    "\n",
    "# Função 1 - Recebe uma temperatura como parâmetro e retorna a temperatura em Fahrenheit\n",
    "def fahrenheit(T):\n",
    "    return ((float(9) / 5) * T + 32)\n",
    "\n",
    "# Função 2 - Recebe uma temperatura como parâmetro e retorna a temperatura em Celsius\n",
    "def celsius(T):\n",
    "    return ((float(5) / 9) * (T - 32))"
   ]
  },
  {
   "cell_type": "code",
   "execution_count": 2,
   "id": "0d8d9d81",
   "metadata": {},
   "outputs": [],
   "source": [
    "# criando uma lista de temperaturas\n",
    "temperaturas = [0, 22.5, 40, 100]"
   ]
  },
  {
   "cell_type": "code",
   "execution_count": 3,
   "id": "55706667",
   "metadata": {},
   "outputs": [
    {
     "data": {
      "text/plain": [
       "<map at 0x15fd24e2cd0>"
      ]
     },
     "execution_count": 3,
     "metadata": {},
     "output_type": "execute_result"
    }
   ],
   "source": [
    "# aplicando a função a cada elemento da lista de temperaturas\n",
    "map(fahrenheit, temperaturas)  # em Python 3, a função map() retorna um iterator"
   ]
  },
  {
   "cell_type": "code",
   "execution_count": 4,
   "id": "cf275616",
   "metadata": {},
   "outputs": [
    {
     "data": {
      "text/plain": [
       "[32.0, 72.5, 104.0, 212.0]"
      ]
     },
     "execution_count": 4,
     "metadata": {},
     "output_type": "execute_result"
    }
   ],
   "source": [
    "# convertendo o iterator para uma lista\n",
    "list(map(fahrenheit, temperaturas))"
   ]
  },
  {
   "cell_type": "code",
   "execution_count": 5,
   "id": "09cab7a6",
   "metadata": {},
   "outputs": [
    {
     "name": "stdout",
     "output_type": "stream",
     "text": [
      "32.0\n",
      "72.5\n",
      "104.0\n",
      "212.0\n"
     ]
    }
   ],
   "source": [
    "# usando o loop for para imprimir cada elemento do resultado da função map()\n",
    "for temp in map(fahrenheit, temperaturas):\n",
    "    print(temp)"
   ]
  },
  {
   "cell_type": "code",
   "execution_count": 6,
   "id": "63866e35",
   "metadata": {},
   "outputs": [
    {
     "name": "stdout",
     "output_type": "stream",
     "text": [
      "<map object at 0x0000015FD24F1640>\n",
      "[-17.77777777777778, -5.277777777777778, 4.444444444444445, 37.77777777777778]\n"
     ]
    }
   ],
   "source": [
    "# convertendo para Celsius\n",
    "celsius_iterator = map(celsius, temperaturas)\n",
    "lista_celsius = list(celsius_iterator)\n",
    "\n",
    "print(celsius_iterator)\n",
    "print(lista_celsius)"
   ]
  },
  {
   "cell_type": "code",
   "execution_count": 7,
   "id": "04f337bb",
   "metadata": {},
   "outputs": [
    {
     "name": "stdout",
     "output_type": "stream",
     "text": [
      "<map object at 0x0000015FD24F1AF0>\n",
      "[-17.77777777777778, -5.277777777777778, 4.444444444444445, 37.77777777777778]\n"
     ]
    }
   ],
   "source": [
    "# usando a função lambda em celsius\n",
    "print(map(lambda x: (5.0 / 9)*(x - 32), temperaturas))\n",
    "print(list(map(lambda x: (5.0/9)*(x - 32), temperaturas)))"
   ]
  },
  {
   "cell_type": "code",
   "execution_count": 8,
   "id": "049027d8",
   "metadata": {},
   "outputs": [
    {
     "name": "stdout",
     "output_type": "stream",
     "text": [
      "<map object at 0x0000015FD24F14F0>\n",
      "[32.0, 72.5, 104.0, 212.0]\n"
     ]
    }
   ],
   "source": [
    "# usando a função lambda em fahrenheit\n",
    "print(map(lambda x: (9.0 / 5) * (x + 32), temperaturas))\n",
    "print(list(map(lambda x: (9.0 / 5) * x + 32, temperaturas)))"
   ]
  },
  {
   "cell_type": "code",
   "execution_count": 9,
   "id": "e1659a36",
   "metadata": {},
   "outputs": [
    {
     "data": {
      "text/plain": [
       "[6, 8, 10, 12]"
      ]
     },
     "execution_count": 9,
     "metadata": {},
     "output_type": "execute_result"
    }
   ],
   "source": [
    "# criando duas listas\n",
    "a = [1, 2, 3, 4]\n",
    "b = [5, 6, 7, 8]\n",
    "\n",
    "# somando os elementos de 2 listas\n",
    "list(map(lambda x, y: x + y, a, b))"
   ]
  },
  {
   "cell_type": "code",
   "execution_count": 10,
   "id": "aacafaea",
   "metadata": {},
   "outputs": [
    {
     "data": {
      "text/plain": [
       "[15, 18, 21, 24]"
      ]
     },
     "execution_count": 10,
     "metadata": {},
     "output_type": "execute_result"
    }
   ],
   "source": [
    "# criando três listas\n",
    "a = [1, 2, 3, 4]\n",
    "b = [5, 6, 7, 8]\n",
    "c = [9, 10, 11, 12]\n",
    "\n",
    "# somando os elementos de 3 listas\n",
    "list(map(lambda x, y, z: x + y + z, a, b, c))"
   ]
  }
 ],
 "metadata": {
  "kernelspec": {
   "display_name": "Python 3",
   "language": "python",
   "name": "python3"
  },
  "language_info": {
   "codemirror_mode": {
    "name": "ipython",
    "version": 3
   },
   "file_extension": ".py",
   "mimetype": "text/x-python",
   "name": "python",
   "nbconvert_exporter": "python",
   "pygments_lexer": "ipython3",
   "version": "3.8.8"
  }
 },
 "nbformat": 4,
 "nbformat_minor": 5
}
