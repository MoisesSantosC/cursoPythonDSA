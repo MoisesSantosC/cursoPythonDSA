{
 "cells": [
  {
   "cell_type": "markdown",
   "id": "f6c87ea8",
   "metadata": {},
   "source": [
    "## Manipulação de Arquivos"
   ]
  },
  {
   "cell_type": "markdown",
   "id": "0a0f21c5",
   "metadata": {},
   "source": [
    "- Arquivos TXT\n",
    "- Arquivos CSV\n",
    "- Arquivos JSON"
   ]
  },
  {
   "cell_type": "markdown",
   "id": "8adb1a46",
   "metadata": {},
   "source": [
    "## Manipulando Arquivos TXT"
   ]
  },
  {
   "cell_type": "code",
   "execution_count": 1,
   "id": "2cfa185d",
   "metadata": {},
   "outputs": [],
   "source": [
    "texto = 'Cientista de Dados é a profissão que mais tem crescido em todo mundo.\\n'\n",
    "texto = texto + 'Esses profissionais precisam se especializar em Programação, Estatística e Machine Learning.\\n'\n",
    "texto += 'E claro, em Big Data.'"
   ]
  },
  {
   "cell_type": "code",
   "execution_count": 2,
   "id": "31a721d8",
   "metadata": {},
   "outputs": [
    {
     "name": "stdout",
     "output_type": "stream",
     "text": [
      "Cientista de Dados é a profissão que mais tem crescido em todo mundo.\n",
      "Esses profissionais precisam se especializar em Programação, Estatística e Machine Learning.\n",
      "E claro, em Big Data.\n"
     ]
    }
   ],
   "source": [
    "print(texto)"
   ]
  },
  {
   "cell_type": "code",
   "execution_count": 3,
   "id": "e9efcbcd",
   "metadata": {},
   "outputs": [],
   "source": [
    "# Importando o módulo 'os' para manipular o sistema operacional\n",
    "import os"
   ]
  },
  {
   "cell_type": "code",
   "execution_count": 4,
   "id": "39e01f21",
   "metadata": {},
   "outputs": [],
   "source": [
    "# Criando um arquivo e entrando no modo escrita\n",
    "arquivo = open(os.path.join('arquivos/cientista.txt'),'w')"
   ]
  },
  {
   "cell_type": "code",
   "execution_count": 5,
   "id": "63061f83",
   "metadata": {},
   "outputs": [],
   "source": [
    "# Gravando os dados no arquivo\n",
    "for palavra in texto.split():\n",
    "    arquivo.write(palavra + ' ')"
   ]
  },
  {
   "cell_type": "code",
   "execution_count": 6,
   "id": "63a22a76",
   "metadata": {},
   "outputs": [],
   "source": [
    "# Fechando o arquivo no modo escrita\n",
    "arquivo.close()"
   ]
  },
  {
   "cell_type": "code",
   "execution_count": 7,
   "id": "5d9c0ada",
   "metadata": {},
   "outputs": [
    {
     "name": "stdout",
     "output_type": "stream",
     "text": [
      "Cientista de Dados é a profissão que mais tem crescido em todo mundo. Esses profissionais precisam se especializar em Programação, Estatística e Machine Learning. E claro, em Big Data. \n"
     ]
    }
   ],
   "source": [
    "# Lendo o arquivo\n",
    "arquivo = open('arquivos/cientista.txt', 'r')\n",
    "conteudo = arquivo.read() # atribuindo a leitura a uma variável\n",
    "arquivo.close()  # fechando o arquivo\n",
    "\n",
    "print(conteudo)"
   ]
  },
  {
   "cell_type": "markdown",
   "id": "bb536aec",
   "metadata": {},
   "source": [
    "### Usando a expressão `with`\n",
    "\n",
    "O método `close()` é executado automaticamente"
   ]
  },
  {
   "cell_type": "code",
   "execution_count": 8,
   "id": "374c2bb3",
   "metadata": {},
   "outputs": [],
   "source": [
    "# Abrindo o arquivo no modo de leitura\n",
    "with open('arquivos/cientista.txt', 'r') as arquivo:\n",
    "    conteudo = arquivo.read()"
   ]
  },
  {
   "cell_type": "code",
   "execution_count": 9,
   "id": "3e33f589",
   "metadata": {},
   "outputs": [
    {
     "name": "stdout",
     "output_type": "stream",
     "text": [
      "185\n"
     ]
    }
   ],
   "source": [
    "# Imprimindo a quantidade de caracteres do arquivo\n",
    "print(len(conteudo))"
   ]
  },
  {
   "cell_type": "code",
   "execution_count": 10,
   "id": "2fe0f87c",
   "metadata": {},
   "outputs": [
    {
     "name": "stdout",
     "output_type": "stream",
     "text": [
      "Cientista de Dados é a profissão que mais tem crescido em todo mundo. Esses profissionais precisam se especializar em Programação, Estatística e Machine Learning. E claro, em Big Data. \n"
     ]
    }
   ],
   "source": [
    "# Imprimindo o arquivo\n",
    "print(conteudo)"
   ]
  },
  {
   "cell_type": "code",
   "execution_count": 11,
   "id": "0d214f0b",
   "metadata": {},
   "outputs": [],
   "source": [
    "# Abrindo o arquivo em modo de escrita\n",
    "with open('arquivos/cientista.txt', 'w') as arquivo:\n",
    "    arquivo.write(texto[:21])  # escrevendo no arquivo através do slice\n",
    "    arquivo.write('\\n')  # Ao final da escrita, adicionando um enter\n",
    "    arquivo.write(texto[:33])  # escrevendo no arquivo através do slice"
   ]
  },
  {
   "cell_type": "code",
   "execution_count": 12,
   "id": "7259b3c1",
   "metadata": {},
   "outputs": [
    {
     "name": "stdout",
     "output_type": "stream",
     "text": [
      "Cientista de Dados é \n",
      "Cientista de Dados é a profissão \n"
     ]
    }
   ],
   "source": [
    "# Abrindo o arquivo em modo de leitura\n",
    "with open('arquivos/cientista.txt', 'r') as arquivo:\n",
    "    conteudo = arquivo.read()\n",
    "\n",
    "print(conteudo)"
   ]
  },
  {
   "cell_type": "markdown",
   "id": "8de0b8d5",
   "metadata": {},
   "source": [
    "## Manipulando Arquivos CSV (comma-separated values)"
   ]
  },
  {
   "cell_type": "code",
   "execution_count": 13,
   "id": "a7e5af8e",
   "metadata": {},
   "outputs": [],
   "source": [
    "# Importando o módulo csv\n",
    "import csv"
   ]
  },
  {
   "cell_type": "code",
   "execution_count": 14,
   "id": "4e16b251",
   "metadata": {},
   "outputs": [],
   "source": [
    "# abrindo/criando um arquivo csv no modo de escrta\n",
    "with open('arquivos/numeros.csv', 'w', encoding='utf-8') as arquivo:\n",
    "    writer = csv.writer(arquivo)  # atribuindo a função de escrita na variável\n",
    "    writer.writerow(('primeira', 'segunda', 'terceira'))  # escrevendo na linha\n",
    "    writer.writerow((55, 93, 76))\n",
    "    writer.writerow((62, 14, 86))"
   ]
  },
  {
   "cell_type": "code",
   "execution_count": 15,
   "id": "8c1d7ba7",
   "metadata": {},
   "outputs": [
    {
     "name": "stdout",
     "output_type": "stream",
     "text": [
      "Número de colunas: 3\n",
      "['primeira', 'segunda', 'terceira']\n",
      "Número de colunas: 3\n",
      "['55', '93', '76']\n",
      "Número de colunas: 3\n",
      "['62', '14', '86']\n"
     ]
    }
   ],
   "source": [
    "# abrindo o arquivo para leitura\n",
    "# o parâmetro newline='\\r\\n' evita as linhas em branco\n",
    "with open('arquivos/numeros.csv', 'r', encoding='utf-8', newline='\\r\\n') as arquivo:\n",
    "    leitor = csv.reader(arquivo)\n",
    "    for x in leitor:\n",
    "        print('Número de colunas:', len(x))\n",
    "        print(x)"
   ]
  },
  {
   "cell_type": "code",
   "execution_count": 16,
   "id": "53b2fdb8",
   "metadata": {},
   "outputs": [
    {
     "name": "stdout",
     "output_type": "stream",
     "text": [
      "[['primeira', 'segunda', 'terceira'], ['55', '93', '76'], ['62', '14', '86']]\n"
     ]
    }
   ],
   "source": [
    "# gerando uma lista com dados do arquivo csv\n",
    "# o parâmetro newline='\\r\\n' evita as linhas em branco\n",
    "with open('arquivos/numeros.csv', 'r', encoding='utf-8', newline='\\r\\n') as arquivo:\n",
    "    leitor = csv.reader(arquivo)\n",
    "    dados = list(leitor)  # convertendo o conteúdo do arquivo para uma lista\n",
    "\n",
    "print(dados)"
   ]
  },
  {
   "cell_type": "code",
   "execution_count": 17,
   "id": "105b7198",
   "metadata": {},
   "outputs": [
    {
     "name": "stdout",
     "output_type": "stream",
     "text": [
      "['55', '93', '76']\n",
      "['62', '14', '86']\n"
     ]
    }
   ],
   "source": [
    "# imprimindo a partir de uma determinada linha\n",
    "for linha in dados[1:]:\n",
    "    print(linha)"
   ]
  },
  {
   "cell_type": "code",
   "execution_count": null,
   "id": "66022466",
   "metadata": {},
   "outputs": [],
   "source": []
  }
 ],
 "metadata": {
  "kernelspec": {
   "display_name": "Python 3",
   "language": "python",
   "name": "python3"
  },
  "language_info": {
   "codemirror_mode": {
    "name": "ipython",
    "version": 3
   },
   "file_extension": ".py",
   "mimetype": "text/x-python",
   "name": "python",
   "nbconvert_exporter": "python",
   "pygments_lexer": "ipython3",
   "version": "3.8.8"
  }
 },
 "nbformat": 4,
 "nbformat_minor": 5
}
