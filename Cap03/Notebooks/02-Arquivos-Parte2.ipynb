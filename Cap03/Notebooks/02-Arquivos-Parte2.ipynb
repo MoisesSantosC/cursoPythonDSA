{
 "cells": [
  {
   "cell_type": "markdown",
   "id": "f6c87ea8",
   "metadata": {},
   "source": [
    "## Manipulação de Arquivos"
   ]
  },
  {
   "cell_type": "markdown",
   "id": "0a0f21c5",
   "metadata": {},
   "source": [
    "- Arquivos TXT\n",
    "- Arquivos CSV\n",
    "- Arquivos JSON"
   ]
  },
  {
   "cell_type": "markdown",
   "id": "8adb1a46",
   "metadata": {},
   "source": [
    "## Manipulando Arquivos TXT"
   ]
  },
  {
   "cell_type": "code",
   "execution_count": 1,
   "id": "2cfa185d",
   "metadata": {},
   "outputs": [],
   "source": [
    "texto = 'Cientista de Dados é a profissão que mais tem crescido em todo mundo.\\n'\n",
    "texto = texto + 'Esses profissionais precisam se especializar em Programação, Estatística e Machine Learning.\\n'\n",
    "texto += 'E claro, em Big Data.'"
   ]
  },
  {
   "cell_type": "code",
   "execution_count": 2,
   "id": "31a721d8",
   "metadata": {},
   "outputs": [
    {
     "name": "stdout",
     "output_type": "stream",
     "text": [
      "Cientista de Dados é a profissão que mais tem crescido em todo mundo.\n",
      "Esses profissionais precisam se especializar em Programação, Estatística e Machine Learning.\n",
      "E claro, em Big Data.\n"
     ]
    }
   ],
   "source": [
    "print(texto)"
   ]
  },
  {
   "cell_type": "code",
   "execution_count": 3,
   "id": "e9efcbcd",
   "metadata": {},
   "outputs": [],
   "source": [
    "# Importando o módulo 'os' para manipular o sistema operacional\n",
    "import os"
   ]
  },
  {
   "cell_type": "code",
   "execution_count": 4,
   "id": "39e01f21",
   "metadata": {},
   "outputs": [],
   "source": [
    "# Criando um arquivo e entrando no modo escrita\n",
    "arquivo = open(os.path.join('arquivos/cientista.txt'),'w')"
   ]
  },
  {
   "cell_type": "code",
   "execution_count": 5,
   "id": "63061f83",
   "metadata": {},
   "outputs": [],
   "source": [
    "# Gravando os dados no arquivo\n",
    "for palavra in texto.split():\n",
    "    arquivo.write(palavra + ' ')"
   ]
  },
  {
   "cell_type": "code",
   "execution_count": 6,
   "id": "63a22a76",
   "metadata": {},
   "outputs": [],
   "source": [
    "# Fechando o arquivo no modo escrita\n",
    "arquivo.close()"
   ]
  },
  {
   "cell_type": "code",
   "execution_count": 7,
   "id": "5d9c0ada",
   "metadata": {},
   "outputs": [
    {
     "name": "stdout",
     "output_type": "stream",
     "text": [
      "Cientista de Dados é a profissão que mais tem crescido em todo mundo. Esses profissionais precisam se especializar em Programação, Estatística e Machine Learning. E claro, em Big Data. \n"
     ]
    }
   ],
   "source": [
    "# Lendo o arquivo\n",
    "arquivo = open('arquivos/cientista.txt', 'r')\n",
    "conteudo = arquivo.read() # atribuindo a leitura a uma variável\n",
    "arquivo.close()  # fechando o arquivo\n",
    "\n",
    "print(conteudo)"
   ]
  },
  {
   "cell_type": "markdown",
   "id": "bb536aec",
   "metadata": {},
   "source": [
    "### Usando a expressão `with`\n",
    "\n",
    "O método `close()` é executado automaticamente"
   ]
  },
  {
   "cell_type": "code",
   "execution_count": 8,
   "id": "374c2bb3",
   "metadata": {},
   "outputs": [],
   "source": [
    "# Abrindo o arquivo no modo de leitura\n",
    "with open('arquivos/cientista.txt', 'r') as arquivo:\n",
    "    conteudo = arquivo.read()"
   ]
  },
  {
   "cell_type": "code",
   "execution_count": 9,
   "id": "3e33f589",
   "metadata": {},
   "outputs": [
    {
     "name": "stdout",
     "output_type": "stream",
     "text": [
      "185\n"
     ]
    }
   ],
   "source": [
    "# Imprimindo a quantidade de caracteres do arquivo\n",
    "print(len(conteudo))"
   ]
  },
  {
   "cell_type": "code",
   "execution_count": 10,
   "id": "2fe0f87c",
   "metadata": {},
   "outputs": [
    {
     "name": "stdout",
     "output_type": "stream",
     "text": [
      "Cientista de Dados é a profissão que mais tem crescido em todo mundo. Esses profissionais precisam se especializar em Programação, Estatística e Machine Learning. E claro, em Big Data. \n"
     ]
    }
   ],
   "source": [
    "# Imprimindo o arquivo\n",
    "print(conteudo)"
   ]
  },
  {
   "cell_type": "code",
   "execution_count": 11,
   "id": "0d214f0b",
   "metadata": {},
   "outputs": [],
   "source": [
    "# Abrindo o arquivo em modo de escrita\n",
    "with open('arquivos/cientista.txt', 'w') as arquivo:\n",
    "    arquivo.write(texto[:21])  # escrevendo no arquivo através do slice\n",
    "    arquivo.write('\\n')  # Ao final da escrita, adicionando um enter\n",
    "    arquivo.write(texto[:33])  # escrevendo no arquivo através do slice"
   ]
  },
  {
   "cell_type": "code",
   "execution_count": 12,
   "id": "7259b3c1",
   "metadata": {},
   "outputs": [
    {
     "name": "stdout",
     "output_type": "stream",
     "text": [
      "Cientista de Dados é \n",
      "Cientista de Dados é a profissão \n"
     ]
    }
   ],
   "source": [
    "# Abrindo o arquivo em modo de leitura\n",
    "with open('arquivos/cientista.txt', 'r') as arquivo:\n",
    "    conteudo = arquivo.read()\n",
    "\n",
    "print(conteudo)"
   ]
  },
  {
   "cell_type": "markdown",
   "id": "8de0b8d5",
   "metadata": {},
   "source": [
    "## Manipulando Arquivos CSV (comma-separated values)"
   ]
  },
  {
   "cell_type": "code",
   "execution_count": 13,
   "id": "a7e5af8e",
   "metadata": {},
   "outputs": [],
   "source": [
    "# Importando o módulo csv\n",
    "import csv"
   ]
  },
  {
   "cell_type": "code",
   "execution_count": 14,
   "id": "f85c594a",
   "metadata": {},
   "outputs": [],
   "source": [
    "# abrindo/criando um arquivo csv no modo de escrta\n",
    "with open('arquivos/numeros.csv', 'w', encoding='utf-8') as arquivo:\n",
    "    writer = csv.writer(arquivo)  # atribuindo a função de escrita na variável\n",
    "    writer.writerow(('primeira', 'segunda', 'terceira'))  # escrevendo na linha\n",
    "    writer.writerow((55, 93, 76))\n",
    "    writer.writerow((62, 14, 86))"
   ]
  },
  {
   "cell_type": "code",
   "execution_count": 15,
   "id": "a508ec51",
   "metadata": {},
   "outputs": [
    {
     "name": "stdout",
     "output_type": "stream",
     "text": [
      "Número de colunas: 3\n",
      "['primeira', 'segunda', 'terceira']\n",
      "Número de colunas: 3\n",
      "['55', '93', '76']\n",
      "Número de colunas: 3\n",
      "['62', '14', '86']\n"
     ]
    }
   ],
   "source": [
    "# abrindo o arquivo para leitura\n",
    "# o parâmetro newline='\\r\\n' evita as linhas em branco\n",
    "with open('arquivos/numeros.csv', 'r', encoding='utf-8', newline='\\r\\n') as arquivo:\n",
    "    leitor = csv.reader(arquivo)\n",
    "    for x in leitor:\n",
    "        print('Número de colunas:', len(x))\n",
    "        print(x)"
   ]
  },
  {
   "cell_type": "code",
   "execution_count": 16,
   "id": "61447ea2",
   "metadata": {},
   "outputs": [
    {
     "name": "stdout",
     "output_type": "stream",
     "text": [
      "[['primeira', 'segunda', 'terceira'], ['55', '93', '76'], ['62', '14', '86']]\n"
     ]
    }
   ],
   "source": [
    "# gerando uma lista com dados do arquivo csv\n",
    "# o parâmetro newline='\\r\\n' evita as linhas em branco\n",
    "with open('arquivos/numeros.csv', 'r', encoding='utf-8', newline='\\r\\n') as arquivo:\n",
    "    leitor = csv.reader(arquivo)\n",
    "    dados = list(leitor)  # convertendo o conteúdo do arquivo para uma lista\n",
    "\n",
    "print(dados)"
   ]
  },
  {
   "cell_type": "code",
   "execution_count": 17,
   "id": "69fc1eed",
   "metadata": {},
   "outputs": [
    {
     "name": "stdout",
     "output_type": "stream",
     "text": [
      "['55', '93', '76']\n",
      "['62', '14', '86']\n"
     ]
    }
   ],
   "source": [
    "# imprimindo a partir de uma determinada linha\n",
    "for linha in dados[1:]:\n",
    "    print(linha)"
   ]
  },
  {
   "cell_type": "markdown",
   "id": "5405570a",
   "metadata": {},
   "source": [
    "## Manipulando Arquivos JSON (JavaScript Object Notation)"
   ]
  },
  {
   "cell_type": "code",
   "execution_count": 18,
   "id": "8d7dc6a7",
   "metadata": {},
   "outputs": [],
   "source": [
    "# criando um dicionário\n",
    "dict = {'nome': 'Guido van Rossum',\n",
    "        'linguagem': 'Python',\n",
    "        'similar': ['c', 'Modula-3', 'lisp'],\n",
    "        'users': 1000000}"
   ]
  },
  {
   "cell_type": "code",
   "execution_count": 19,
   "id": "260374c4",
   "metadata": {},
   "outputs": [
    {
     "name": "stdout",
     "output_type": "stream",
     "text": [
      "nome Guido van Rossum\n",
      "linguagem Python\n",
      "similar ['c', 'Modula-3', 'lisp']\n",
      "users 1000000\n"
     ]
    }
   ],
   "source": [
    "# imprimindo cada chave e valor do dicionário\n",
    "for chave, valor in dict.items():\n",
    "    print(chave, valor)"
   ]
  },
  {
   "cell_type": "code",
   "execution_count": 20,
   "id": "ac7e22bf",
   "metadata": {},
   "outputs": [],
   "source": [
    "# importando o módulo JSON\n",
    "import json"
   ]
  },
  {
   "cell_type": "code",
   "execution_count": 21,
   "id": "e0b9a81f",
   "metadata": {},
   "outputs": [
    {
     "data": {
      "text/plain": [
       "'{\"nome\": \"Guido van Rossum\", \"linguagem\": \"Python\", \"similar\": [\"c\", \"Modula-3\", \"lisp\"], \"users\": 1000000}'"
      ]
     },
     "execution_count": 21,
     "metadata": {},
     "output_type": "execute_result"
    }
   ],
   "source": [
    "# convertendo o dicionário para um objeto json\n",
    "json.dumps(dict)"
   ]
  },
  {
   "cell_type": "code",
   "execution_count": 22,
   "id": "cbf598ff",
   "metadata": {},
   "outputs": [],
   "source": [
    "# criando um arquivo json\n",
    "with open('arquivos/dados.json', 'w') as arquivo:\n",
    "    arquivo.write(json.dumps(dict))"
   ]
  },
  {
   "cell_type": "code",
   "execution_count": 23,
   "id": "181be11a",
   "metadata": {},
   "outputs": [],
   "source": [
    "# abrindo o arquivo em modo leitura\n",
    "with open('arquivos/dados.json', 'r', encoding='utf-8') as arquivo:\n",
    "    texto = arquivo.read()\n",
    "    data = json.loads(texto)"
   ]
  },
  {
   "cell_type": "code",
   "execution_count": 24,
   "id": "ba619e4c",
   "metadata": {},
   "outputs": [
    {
     "name": "stdout",
     "output_type": "stream",
     "text": [
      "{'nome': 'Guido van Rossum', 'linguagem': 'Python', 'similar': ['c', 'Modula-3', 'lisp'], 'users': 1000000}\n"
     ]
    }
   ],
   "source": [
    "print(data)"
   ]
  },
  {
   "cell_type": "code",
   "execution_count": 25,
   "id": "8c1eff34",
   "metadata": {},
   "outputs": [
    {
     "name": "stdout",
     "output_type": "stream",
     "text": [
      "Guido van Rossum\n"
     ]
    }
   ],
   "source": [
    "# acessando uma chave do arquivo\n",
    "print(data['nome'])"
   ]
  },
  {
   "cell_type": "code",
   "execution_count": 26,
   "id": "024e7de6",
   "metadata": {},
   "outputs": [],
   "source": [
    "# importando um arquivo json copiado da internet\n",
    "from urllib.request import urlopen\n",
    "\n",
    "response = urlopen(\"http://vimeo.com/api/v2/video/57733101.json\").read().decode('utf8')\n",
    "data = json.loads(response)[0]"
   ]
  },
  {
   "cell_type": "code",
   "execution_count": 27,
   "id": "c976b06a",
   "metadata": {},
   "outputs": [
    {
     "name": "stdout",
     "output_type": "stream",
     "text": [
      "Título: The Good Man trailer\n",
      "URL: https://vimeo.com/57733101\n",
      "Duração: 143\n",
      "Número de visualizações: 6264\n"
     ]
    }
   ],
   "source": [
    "# extraindo e imprimindo os elementos do arquivo\n",
    "print('Título:', data['title'])\n",
    "print('URL:', data['url'])\n",
    "print('Duração:', data['duration'])\n",
    "print('Número de visualizações:', data['stats_number_of_plays'])"
   ]
  },
  {
   "cell_type": "code",
   "execution_count": 28,
   "id": "0ae104bf",
   "metadata": {},
   "outputs": [],
   "source": [
    "# copiando o conteúdo de um arquivo para outro\n",
    "import os\n",
    "\n",
    "arquivo_fonte = 'arquivos/dados.json'\n",
    "arquivo_destino = 'arquivos/json_data.txt'"
   ]
  },
  {
   "cell_type": "code",
   "execution_count": 29,
   "id": "7eeb99b3",
   "metadata": {},
   "outputs": [],
   "source": [
    "# método 1\n",
    "with open(arquivo_fonte, 'r') as infile:\n",
    "    text = infile.read()\n",
    "    with open(arquivo_destino, 'w') as outfile:\n",
    "        outfile.write(text)"
   ]
  },
  {
   "cell_type": "code",
   "execution_count": 30,
   "id": "07864878",
   "metadata": {},
   "outputs": [
    {
     "data": {
      "text/plain": [
       "107"
      ]
     },
     "execution_count": 30,
     "metadata": {},
     "output_type": "execute_result"
    }
   ],
   "source": [
    "# método 2\n",
    "open(arquivo_destino, 'w').write(open(arquivo_fonte,'r').read())"
   ]
  },
  {
   "cell_type": "code",
   "execution_count": 31,
   "id": "5d585fe6",
   "metadata": {},
   "outputs": [],
   "source": [
    "# leitura de arquivos json\n",
    "with open('arquivos/json_data.txt', 'r') as arquivo:\n",
    "    texto = arquivo.read()\n",
    "    data = json.loads(texto)"
   ]
  },
  {
   "cell_type": "code",
   "execution_count": 32,
   "id": "5f1c75f2",
   "metadata": {},
   "outputs": [
    {
     "name": "stdout",
     "output_type": "stream",
     "text": [
      "{'nome': 'Guido van Rossum', 'linguagem': 'Python', 'similar': ['c', 'Modula-3', 'lisp'], 'users': 1000000}\n"
     ]
    }
   ],
   "source": [
    "print(data)"
   ]
  }
 ],
 "metadata": {
  "kernelspec": {
   "display_name": "Python 3",
   "language": "python",
   "name": "python3"
  },
  "language_info": {
   "codemirror_mode": {
    "name": "ipython",
    "version": 3
   },
   "file_extension": ".py",
   "mimetype": "text/x-python",
   "name": "python",
   "nbconvert_exporter": "python",
   "pygments_lexer": "ipython3",
   "version": "3.8.8"
  }
 },
 "nbformat": 4,
 "nbformat_minor": 5
}
