{
 "cells": [
  {
   "cell_type": "markdown",
   "id": "3d01e9ce",
   "metadata": {},
   "source": [
    "<h1 align=\"center\">Exercícios</h1>"
   ]
  },
  {
   "cell_type": "markdown",
   "id": "1b5da1c6",
   "metadata": {},
   "source": [
    "## Exercício 01"
   ]
  },
  {
   "cell_type": "markdown",
   "id": "8842b694",
   "metadata": {},
   "source": [
    "Crie uma lista de 3 elementos e calcule a terceira potência de cada elemento."
   ]
  },
  {
   "cell_type": "code",
   "execution_count": 1,
   "id": "79cd99e6",
   "metadata": {},
   "outputs": [
    {
     "data": {
      "text/plain": [
       "[8, 64, 216]"
      ]
     },
     "execution_count": 1,
     "metadata": {},
     "output_type": "execute_result"
    }
   ],
   "source": [
    "# criando a lista\n",
    "lista = [2, 4, 6]\n",
    "\n",
    "# calculando a terceira potência de cada elemento\n",
    "list(map(lambda x: x**3, lista))"
   ]
  },
  {
   "cell_type": "code",
   "execution_count": null,
   "id": "b77d2a88",
   "metadata": {},
   "outputs": [],
   "source": []
  }
 ],
 "metadata": {
  "kernelspec": {
   "display_name": "Python 3",
   "language": "python",
   "name": "python3"
  },
  "language_info": {
   "codemirror_mode": {
    "name": "ipython",
    "version": 3
   },
   "file_extension": ".py",
   "mimetype": "text/x-python",
   "name": "python",
   "nbconvert_exporter": "python",
   "pygments_lexer": "ipython3",
   "version": "3.8.8"
  }
 },
 "nbformat": 4,
 "nbformat_minor": 5
}
