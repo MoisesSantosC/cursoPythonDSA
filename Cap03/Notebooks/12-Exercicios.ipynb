{
 "cells": [
  {
   "cell_type": "markdown",
   "id": "273b719d",
   "metadata": {},
   "source": [
    "<h1 align=\"center\">Exercícios</h1>"
   ]
  },
  {
   "cell_type": "markdown",
   "id": "c9fec3ce",
   "metadata": {},
   "source": [
    "## Exercício 01"
   ]
  },
  {
   "cell_type": "markdown",
   "id": "3f7aaacc",
   "metadata": {},
   "source": [
    "Crie uma lista de 3 elementos e calcule a terceira potência de cada elemento."
   ]
  },
  {
   "cell_type": "code",
   "execution_count": 1,
   "id": "73c5acb2",
   "metadata": {},
   "outputs": [
    {
     "data": {
      "text/plain": [
       "[8, 64, 216]"
      ]
     },
     "execution_count": 1,
     "metadata": {},
     "output_type": "execute_result"
    }
   ],
   "source": [
    "# criando a lista\n",
    "lista = [2, 4, 6]\n",
    "\n",
    "# calculando a terceira potência de cada elemento\n",
    "list(map(lambda x: x**3, lista))"
   ]
  },
  {
   "cell_type": "markdown",
   "id": "927a7e04",
   "metadata": {},
   "source": [
    "## Exercício 02"
   ]
  },
  {
   "cell_type": "markdown",
   "id": "3ee31e7b",
   "metadata": {},
   "source": [
    "Reescreva o código abaixo, usando a função map(). O resultado final deve ser o mesmo!\n",
    "\n"
   ]
  },
  {
   "cell_type": "code",
   "execution_count": 2,
   "id": "70a09d4d",
   "metadata": {},
   "outputs": [
    {
     "name": "stdout",
     "output_type": "stream",
     "text": [
      "['A', 'a', 1]\n",
      "['DATA', 'data', 4]\n",
      "['SCIENCE', 'science', 7]\n",
      "['ACADEMY', 'academy', 7]\n",
      "['OFERCE', 'oferce', 6]\n",
      "['OS', 'os', 2]\n",
      "['MELHORES', 'melhores', 8]\n",
      "['CURSOS', 'cursos', 6]\n",
      "['DE', 'de', 2]\n",
      "['ANÁLISE', 'análise', 7]\n",
      "['DE', 'de', 2]\n",
      "['DADOS', 'dados', 5]\n",
      "['DO', 'do', 2]\n",
      "['BRASIL', 'brasil', 6]\n"
     ]
    }
   ],
   "source": [
    "# Código do exercício\n",
    "palavras = 'A Data Science Academy oferce os melhores cursos de análise de dados do Brasil'.split()\n",
    "resultado = [[w.upper(), w.lower(), len(w)] for w in palavras]\n",
    "for i in resultado:\n",
    "    print (i)"
   ]
  },
  {
   "cell_type": "code",
   "execution_count": 3,
   "id": "96a199ca",
   "metadata": {},
   "outputs": [
    {
     "data": {
      "text/plain": [
       "[('A', 'a', 1),\n",
       " ('DATA', 'data', 4),\n",
       " ('SCIENCE', 'science', 7),\n",
       " ('ACADEMY', 'academy', 7),\n",
       " ('OFERCE', 'oferce', 6),\n",
       " ('OS', 'os', 2),\n",
       " ('MELHORES', 'melhores', 8),\n",
       " ('CURSOS', 'cursos', 6),\n",
       " ('DE', 'de', 2),\n",
       " ('ANÁLISE', 'análise', 7),\n",
       " ('DE', 'de', 2),\n",
       " ('DADOS', 'dados', 5),\n",
       " ('DO', 'do', 2),\n",
       " ('BRASIL', 'brasil', 6)]"
      ]
     },
     "execution_count": 3,
     "metadata": {},
     "output_type": "execute_result"
    }
   ],
   "source": [
    "# Exercício Resolvido\n",
    "palavras = 'A Data Science Academy oferce os melhores cursos de análise de dados do Brasil'.split()\n",
    "\n",
    "# criando a função\n",
    "def t(x):\n",
    "    return x.upper(), x.lower(), len(x)\n",
    "\n",
    "# aplicando a função em cada item da lista\n",
    "list(map(t, palavras))"
   ]
  },
  {
   "cell_type": "code",
   "execution_count": null,
   "id": "f816305f",
   "metadata": {},
   "outputs": [],
   "source": []
  }
 ],
 "metadata": {
  "kernelspec": {
   "display_name": "Python 3",
   "language": "python",
   "name": "python3"
  },
  "language_info": {
   "codemirror_mode": {
    "name": "ipython",
    "version": 3
   },
   "file_extension": ".py",
   "mimetype": "text/x-python",
   "name": "python",
   "nbconvert_exporter": "python",
   "pygments_lexer": "ipython3",
   "version": "3.8.8"
  }
 },
 "nbformat": 4,
 "nbformat_minor": 5
}
