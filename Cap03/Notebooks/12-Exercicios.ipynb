{
 "cells": [
  {
   "cell_type": "markdown",
   "id": "b991fc56",
   "metadata": {},
   "source": [
    "<h1 align=\"center\">Exercícios</h1>"
   ]
  },
  {
   "cell_type": "markdown",
   "id": "f4e775e2",
   "metadata": {},
   "source": [
    "## Exercício 01"
   ]
  },
  {
   "cell_type": "markdown",
   "id": "0e8311d5",
   "metadata": {},
   "source": [
    "Crie uma lista de 3 elementos e calcule a terceira potência de cada elemento."
   ]
  },
  {
   "cell_type": "code",
   "execution_count": 1,
   "id": "4b59c22a",
   "metadata": {},
   "outputs": [
    {
     "data": {
      "text/plain": [
       "[8, 64, 216]"
      ]
     },
     "execution_count": 1,
     "metadata": {},
     "output_type": "execute_result"
    }
   ],
   "source": [
    "# criando a lista\n",
    "lista = [2, 4, 6]\n",
    "\n",
    "# calculando a terceira potência de cada elemento\n",
    "list(map(lambda x: x**3, lista))"
   ]
  },
  {
   "cell_type": "markdown",
   "id": "5f3f7c08",
   "metadata": {},
   "source": [
    "## Exercício 02"
   ]
  },
  {
   "cell_type": "markdown",
   "id": "374e3c5f",
   "metadata": {},
   "source": [
    "Reescreva o código abaixo, usando a função map(). O resultado final deve ser o mesmo!\n",
    "\n"
   ]
  },
  {
   "cell_type": "code",
   "execution_count": 2,
   "id": "13d0d27a",
   "metadata": {},
   "outputs": [
    {
     "name": "stdout",
     "output_type": "stream",
     "text": [
      "['A', 'a', 1]\n",
      "['DATA', 'data', 4]\n",
      "['SCIENCE', 'science', 7]\n",
      "['ACADEMY', 'academy', 7]\n",
      "['OFERCE', 'oferce', 6]\n",
      "['OS', 'os', 2]\n",
      "['MELHORES', 'melhores', 8]\n",
      "['CURSOS', 'cursos', 6]\n",
      "['DE', 'de', 2]\n",
      "['ANÁLISE', 'análise', 7]\n",
      "['DE', 'de', 2]\n",
      "['DADOS', 'dados', 5]\n",
      "['DO', 'do', 2]\n",
      "['BRASIL', 'brasil', 6]\n"
     ]
    }
   ],
   "source": [
    "# Código do exercício\n",
    "palavras = 'A Data Science Academy oferce os melhores cursos de análise de dados do Brasil'.split()\n",
    "resultado = [[w.upper(), w.lower(), len(w)] for w in palavras]\n",
    "for i in resultado:\n",
    "    print (i)"
   ]
  },
  {
   "cell_type": "code",
   "execution_count": 3,
   "id": "0cdd580c",
   "metadata": {},
   "outputs": [
    {
     "data": {
      "text/plain": [
       "[('A', 'a', 1),\n",
       " ('DATA', 'data', 4),\n",
       " ('SCIENCE', 'science', 7),\n",
       " ('ACADEMY', 'academy', 7),\n",
       " ('OFERCE', 'oferce', 6),\n",
       " ('OS', 'os', 2),\n",
       " ('MELHORES', 'melhores', 8),\n",
       " ('CURSOS', 'cursos', 6),\n",
       " ('DE', 'de', 2),\n",
       " ('ANÁLISE', 'análise', 7),\n",
       " ('DE', 'de', 2),\n",
       " ('DADOS', 'dados', 5),\n",
       " ('DO', 'do', 2),\n",
       " ('BRASIL', 'brasil', 6)]"
      ]
     },
     "execution_count": 3,
     "metadata": {},
     "output_type": "execute_result"
    }
   ],
   "source": [
    "# Exercício Resolvido\n",
    "palavras = 'A Data Science Academy oferce os melhores cursos de análise de dados do Brasil'.split()\n",
    "\n",
    "# criando a função\n",
    "def t(x):\n",
    "    return x.upper(), x.lower(), len(x)\n",
    "\n",
    "# aplicando a função em cada item da lista\n",
    "list(map(t, palavras))"
   ]
  },
  {
   "cell_type": "markdown",
   "id": "1e0c5b5b",
   "metadata": {},
   "source": [
    "## Exercício 03"
   ]
  },
  {
   "cell_type": "markdown",
   "id": "6fb235ae",
   "metadata": {},
   "source": [
    "Calcule a matriz transposta da matriz abaixo.<br>\n",
    "Caso não saiba o que é matriz transposta, visite este link: https://pt.wikipedia.org/wiki/Matriz_transposta<br>\n",
    "Matriz transposta é um conceito fundamental na construção de redes neurais artificiais, base de sistemas de IA.<br>\n",
    "`matrix = [[1, 2],[3,4],[5,6],[7,8]]`"
   ]
  },
  {
   "cell_type": "code",
   "execution_count": 4,
   "id": "baeca1f8",
   "metadata": {},
   "outputs": [
    {
     "name": "stdout",
     "output_type": "stream",
     "text": [
      "[[1, 3, 5, 7], [2, 4, 6, 8]]\n"
     ]
    }
   ],
   "source": [
    "matriz = [[1, 2],[3,4],[5,6],[7,8]]\n",
    "transposta = [[linha[i] for linha in matriz] for i in range(2)]\n",
    "\n",
    "print(transposta)"
   ]
  },
  {
   "cell_type": "markdown",
   "id": "fd855038",
   "metadata": {},
   "source": [
    "## Exercício 04"
   ]
  },
  {
   "cell_type": "markdown",
   "id": "72495cf0",
   "metadata": {},
   "source": [
    "Crie duas funções, uma para elevar um número ao quadrado e outra para elevar ao cubo.<br>\n",
    "Aplique as duas funções aos elementos da lista abaixo.<br>\n",
    "Obs: As duas funções devem ser aplicadas simultaneamente.<br>\n",
    "`lista = [0, 1, 2, 3, 4]`"
   ]
  },
  {
   "cell_type": "code",
   "execution_count": 5,
   "id": "956f2dde",
   "metadata": {},
   "outputs": [
    {
     "name": "stdout",
     "output_type": "stream",
     "text": [
      "[0, 0]\n",
      "[1, 1]\n",
      "[4, 8]\n",
      "[9, 27]\n",
      "[16, 64]\n"
     ]
    }
   ],
   "source": [
    "# criando a lista\n",
    "lista = [0, 1, 2, 3, 4]\n",
    "\n",
    "# função para elevar ao quadrado\n",
    "def quadrado(x):\n",
    "    return x**2\n",
    "\n",
    "# função para elevar ao cubo\n",
    "def cubo(x):\n",
    "    return x**3\n",
    "\n",
    "# List Comprehension\n",
    "resultado = [[quadrado(i), cubo(i)] for i in lista]\n",
    "\n",
    "# loop para mostrar o resultado\n",
    "for r in resultado:\n",
    "    print(r)"
   ]
  },
  {
   "cell_type": "markdown",
   "id": "df39a723",
   "metadata": {},
   "source": [
    "## Exercício 05"
   ]
  },
  {
   "cell_type": "markdown",
   "id": "1bdccfb4",
   "metadata": {},
   "source": [
    "Abaixo você encontra duas listas. Faça com que cada elemento da listaA seja elevado<br>\n",
    "ao elemento correspondente na listaB.<br>\n",
    "`listaA = [2, 3, 4]`<br>\n",
    "`listaB = [10, 11, 12]`"
   ]
  },
  {
   "cell_type": "code",
   "execution_count": 6,
   "id": "99dc92b4",
   "metadata": {},
   "outputs": [
    {
     "data": {
      "text/plain": [
       "[1024, 177147, 16777216]"
      ]
     },
     "execution_count": 6,
     "metadata": {},
     "output_type": "execute_result"
    }
   ],
   "source": [
    "# criando duas listas\n",
    "listaA = [2, 3, 4]\n",
    "listaB = [10, 11, 12]\n",
    "\n",
    "# elevando cada elemento da listaA pela listaB\n",
    "list(map(pow, listaA, listaB))"
   ]
  },
  {
   "cell_type": "markdown",
   "id": "e2df5841",
   "metadata": {},
   "source": [
    "## Exercício 06"
   ]
  },
  {
   "cell_type": "markdown",
   "id": "71679f39",
   "metadata": {},
   "source": [
    "Considerando o range de valores abaixo.<br>\n",
    "Use a função `filter()` para retornar apenas os valores negativos.<br>\n",
    "`range(-5, 5)`"
   ]
  },
  {
   "cell_type": "code",
   "execution_count": 7,
   "id": "2ae3d787",
   "metadata": {},
   "outputs": [
    {
     "data": {
      "text/plain": [
       "[-5, -4, -3, -2, -1]"
      ]
     },
     "execution_count": 7,
     "metadata": {},
     "output_type": "execute_result"
    }
   ],
   "source": [
    "# filtrando somente valores negativos do range\n",
    "list(filter(lambda x: x < 0, range(-5, 5)))"
   ]
  },
  {
   "cell_type": "markdown",
   "id": "49cb728f",
   "metadata": {},
   "source": [
    "## Exercício 07"
   ]
  },
  {
   "cell_type": "markdown",
   "id": "278a7642",
   "metadata": {},
   "source": [
    "Usando a função `filter()`,<br>\n",
    "encontre os valores que são comuns às duas listas abaixo.<br>\n",
    "`a = [1, 2, 3, 5, 7, 9]`<br>\n",
    "`b = [2, 3, 5, 6, 7, 8]`"
   ]
  },
  {
   "cell_type": "code",
   "execution_count": 8,
   "id": "ca71395a",
   "metadata": {},
   "outputs": [
    {
     "data": {
      "text/plain": [
       "[2, 3, 5, 7]"
      ]
     },
     "execution_count": 8,
     "metadata": {},
     "output_type": "execute_result"
    }
   ],
   "source": [
    "# criando as duas listas\n",
    "a = [1, 2, 3, 5, 7, 9]\n",
    "b = [2, 3, 5, 6, 7, 8]\n",
    "\n",
    "list(filter((lambda x: x in a), b))"
   ]
  },
  {
   "cell_type": "markdown",
   "id": "6271a175",
   "metadata": {},
   "source": [
    "## Exercício 08"
   ]
  },
  {
   "cell_type": "markdown",
   "id": "1ade1946",
   "metadata": {},
   "source": [
    "Considere o código abaixo. Obtenha o mesmo resultado usando o pacote time."
   ]
  },
  {
   "cell_type": "code",
   "execution_count": 9,
   "id": "37d7d947",
   "metadata": {},
   "outputs": [
    {
     "name": "stdout",
     "output_type": "stream",
     "text": [
      "18/10/2021 06:17\n"
     ]
    }
   ],
   "source": [
    "# resultado esperado\n",
    "import datetime\n",
    "print(datetime.datetime.now().strftime(\"%d/%m/%Y %H:%M\"))"
   ]
  },
  {
   "cell_type": "code",
   "execution_count": 10,
   "id": "b766b927",
   "metadata": {},
   "outputs": [
    {
     "name": "stdout",
     "output_type": "stream",
     "text": [
      "18/10/2021 06:17\n"
     ]
    }
   ],
   "source": [
    "# resultado do exercício\n",
    "import time\n",
    "\n",
    "print(time.strftime(\"%d/%m/%Y %H:%M\"))"
   ]
  },
  {
   "cell_type": "markdown",
   "id": "1304d398",
   "metadata": {},
   "source": [
    "## Exercício 09"
   ]
  },
  {
   "cell_type": "markdown",
   "id": "d85568a1",
   "metadata": {},
   "source": [
    "Considere os dois dicionários abaixo.<br>\n",
    "Crie um terceiro dicionário com as chaves<br>\n",
    "do dicionário 1 e os valores do dicionário 2.<br>\n",
    "`dict1 = {'a':1, 'b':2}`<br>\n",
    "`dict2 = {'c':4, 'd':5}`"
   ]
  },
  {
   "cell_type": "code",
   "execution_count": 11,
   "id": "f105661d",
   "metadata": {},
   "outputs": [
    {
     "name": "stdout",
     "output_type": "stream",
     "text": [
      "{'a': 4, 'b': 5}\n"
     ]
    }
   ],
   "source": [
    "# criando os dicionários\n",
    "dict1 = {'a':1, 'b':2}\n",
    "dict2 = {'c':4, 'd':5}\n",
    "\n",
    "def trocandoValores(d1, d2):\n",
    "    dicTemp = {}\n",
    "    \n",
    "    for d1Key, d2Val in zip(d1, d2.values()):\n",
    "        dicTemp[d1Key] = d2Val\n",
    "        \n",
    "    return dicTemp\n",
    "\n",
    "dict3 = trocandoValores(dict1, dict2)\n",
    "print(dict3)"
   ]
  },
  {
   "cell_type": "code",
   "execution_count": null,
   "id": "1690eaa3",
   "metadata": {},
   "outputs": [],
   "source": []
  }
 ],
 "metadata": {
  "kernelspec": {
   "display_name": "Python 3",
   "language": "python",
   "name": "python3"
  },
  "language_info": {
   "codemirror_mode": {
    "name": "ipython",
    "version": 3
   },
   "file_extension": ".py",
   "mimetype": "text/x-python",
   "name": "python",
   "nbconvert_exporter": "python",
   "pygments_lexer": "ipython3",
   "version": "3.8.8"
  }
 },
 "nbformat": 4,
 "nbformat_minor": 5
}
