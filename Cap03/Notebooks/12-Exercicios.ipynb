{
 "cells": [
  {
   "cell_type": "markdown",
   "id": "b991fc56",
   "metadata": {},
   "source": [
    "<h1 align=\"center\">Exercícios</h1>"
   ]
  },
  {
   "cell_type": "markdown",
   "id": "f4e775e2",
   "metadata": {},
   "source": [
    "## Exercício 01"
   ]
  },
  {
   "cell_type": "markdown",
   "id": "0e8311d5",
   "metadata": {},
   "source": [
    "Crie uma lista de 3 elementos e calcule a terceira potência de cada elemento."
   ]
  },
  {
   "cell_type": "code",
   "execution_count": 1,
   "id": "4b59c22a",
   "metadata": {},
   "outputs": [
    {
     "data": {
      "text/plain": [
       "[8, 64, 216]"
      ]
     },
     "execution_count": 1,
     "metadata": {},
     "output_type": "execute_result"
    }
   ],
   "source": [
    "# criando a lista\n",
    "lista = [2, 4, 6]\n",
    "\n",
    "# calculando a terceira potência de cada elemento\n",
    "list(map(lambda x: x**3, lista))"
   ]
  },
  {
   "cell_type": "markdown",
   "id": "5f3f7c08",
   "metadata": {},
   "source": [
    "## Exercício 02"
   ]
  },
  {
   "cell_type": "markdown",
   "id": "374e3c5f",
   "metadata": {},
   "source": [
    "Reescreva o código abaixo, usando a função map(). O resultado final deve ser o mesmo!\n",
    "\n"
   ]
  },
  {
   "cell_type": "code",
   "execution_count": 2,
   "id": "13d0d27a",
   "metadata": {},
   "outputs": [
    {
     "name": "stdout",
     "output_type": "stream",
     "text": [
      "['A', 'a', 1]\n",
      "['DATA', 'data', 4]\n",
      "['SCIENCE', 'science', 7]\n",
      "['ACADEMY', 'academy', 7]\n",
      "['OFERCE', 'oferce', 6]\n",
      "['OS', 'os', 2]\n",
      "['MELHORES', 'melhores', 8]\n",
      "['CURSOS', 'cursos', 6]\n",
      "['DE', 'de', 2]\n",
      "['ANÁLISE', 'análise', 7]\n",
      "['DE', 'de', 2]\n",
      "['DADOS', 'dados', 5]\n",
      "['DO', 'do', 2]\n",
      "['BRASIL', 'brasil', 6]\n"
     ]
    }
   ],
   "source": [
    "# Código do exercício\n",
    "palavras = 'A Data Science Academy oferce os melhores cursos de análise de dados do Brasil'.split()\n",
    "resultado = [[w.upper(), w.lower(), len(w)] for w in palavras]\n",
    "for i in resultado:\n",
    "    print (i)"
   ]
  },
  {
   "cell_type": "code",
   "execution_count": 3,
   "id": "0cdd580c",
   "metadata": {},
   "outputs": [
    {
     "data": {
      "text/plain": [
       "[('A', 'a', 1),\n",
       " ('DATA', 'data', 4),\n",
       " ('SCIENCE', 'science', 7),\n",
       " ('ACADEMY', 'academy', 7),\n",
       " ('OFERCE', 'oferce', 6),\n",
       " ('OS', 'os', 2),\n",
       " ('MELHORES', 'melhores', 8),\n",
       " ('CURSOS', 'cursos', 6),\n",
       " ('DE', 'de', 2),\n",
       " ('ANÁLISE', 'análise', 7),\n",
       " ('DE', 'de', 2),\n",
       " ('DADOS', 'dados', 5),\n",
       " ('DO', 'do', 2),\n",
       " ('BRASIL', 'brasil', 6)]"
      ]
     },
     "execution_count": 3,
     "metadata": {},
     "output_type": "execute_result"
    }
   ],
   "source": [
    "# Exercício Resolvido\n",
    "palavras = 'A Data Science Academy oferce os melhores cursos de análise de dados do Brasil'.split()\n",
    "\n",
    "# criando a função\n",
    "def t(x):\n",
    "    return x.upper(), x.lower(), len(x)\n",
    "\n",
    "# aplicando a função em cada item da lista\n",
    "list(map(t, palavras))"
   ]
  },
  {
   "cell_type": "markdown",
   "id": "1e0c5b5b",
   "metadata": {},
   "source": [
    "## Exercício 03"
   ]
  },
  {
   "cell_type": "markdown",
   "id": "6fb235ae",
   "metadata": {},
   "source": [
    "Calcule a matriz transposta da matriz abaixo.<br>\n",
    "Caso não saiba o que é matriz transposta, visite este link: https://pt.wikipedia.org/wiki/Matriz_transposta<br>\n",
    "Matriz transposta é um conceito fundamental na construção de redes neurais artificiais, base de sistemas de IA.<br>\n",
    "`matrix = [[1, 2],[3,4],[5,6],[7,8]]`"
   ]
  },
  {
   "cell_type": "code",
   "execution_count": 4,
   "id": "baeca1f8",
   "metadata": {},
   "outputs": [
    {
     "name": "stdout",
     "output_type": "stream",
     "text": [
      "[[1, 3, 5, 7], [2, 4, 6, 8]]\n"
     ]
    }
   ],
   "source": [
    "matriz = [[1, 2],[3,4],[5,6],[7,8]]\n",
    "transposta = [[linha[i] for linha in matriz] for i in range(2)]\n",
    "\n",
    "print(transposta)"
   ]
  },
  {
   "cell_type": "markdown",
   "id": "142b7dca",
   "metadata": {},
   "source": [
    "## Exercício 04"
   ]
  },
  {
   "cell_type": "markdown",
   "id": "e1f2b1f6",
   "metadata": {},
   "source": [
    "Crie duas funções, uma para elevar um número ao quadrado e outra para elevar ao cubo.<br>\n",
    "Aplique as duas funções aos elementos da lista abaixo.<br>\n",
    "Obs: As duas funções devem ser aplicadas simultaneamente.<br>\n",
    "`lista = [0, 1, 2, 3, 4]`"
   ]
  },
  {
   "cell_type": "code",
   "execution_count": 5,
   "id": "ffaca31a",
   "metadata": {},
   "outputs": [
    {
     "name": "stdout",
     "output_type": "stream",
     "text": [
      "[0, 0]\n",
      "[1, 1]\n",
      "[4, 8]\n",
      "[9, 27]\n",
      "[16, 64]\n"
     ]
    }
   ],
   "source": [
    "# criando a lista\n",
    "lista = [0, 1, 2, 3, 4]\n",
    "\n",
    "# função para elevar ao quadrado\n",
    "def quadrado(x):\n",
    "    return x**2\n",
    "\n",
    "# função para elevar ao cubo\n",
    "def cubo(x):\n",
    "    return x**3\n",
    "\n",
    "# List Comprehension\n",
    "resultado = [[quadrado(i), cubo(i)] for i in lista]\n",
    "\n",
    "# loop para mostrar o resultado\n",
    "for r in resultado:\n",
    "    print(r)"
   ]
  },
  {
   "cell_type": "code",
   "execution_count": null,
   "id": "e486766f",
   "metadata": {},
   "outputs": [],
   "source": []
  }
 ],
 "metadata": {
  "kernelspec": {
   "display_name": "Python 3",
   "language": "python",
   "name": "python3"
  },
  "language_info": {
   "codemirror_mode": {
    "name": "ipython",
    "version": 3
   },
   "file_extension": ".py",
   "mimetype": "text/x-python",
   "name": "python",
   "nbconvert_exporter": "python",
   "pygments_lexer": "ipython3",
   "version": "3.8.8"
  }
 },
 "nbformat": 4,
 "nbformat_minor": 5
}
