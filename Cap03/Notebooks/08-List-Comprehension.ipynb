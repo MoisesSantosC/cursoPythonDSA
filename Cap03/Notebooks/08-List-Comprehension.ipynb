{
 "cells": [
  {
   "cell_type": "markdown",
   "id": "e6433848",
   "metadata": {},
   "source": [
    "## List Comprehension"
   ]
  },
  {
   "cell_type": "code",
   "execution_count": 1,
   "id": "89522224",
   "metadata": {},
   "outputs": [],
   "source": [
    "# retornando cada caracter em uma sequência de caracteres\n",
    "lista = [x for x in 'python']"
   ]
  },
  {
   "cell_type": "code",
   "execution_count": 2,
   "id": "5db53236",
   "metadata": {},
   "outputs": [
    {
     "name": "stdout",
     "output_type": "stream",
     "text": [
      "['p', 'y', 't', 'h', 'o', 'n']\n"
     ]
    }
   ],
   "source": [
    "# imprimindo a lista\n",
    "print(lista)"
   ]
  },
  {
   "cell_type": "code",
   "execution_count": 3,
   "id": "54621500",
   "metadata": {},
   "outputs": [
    {
     "name": "stdout",
     "output_type": "stream",
     "text": [
      "[0, 1, 4, 9, 16, 25, 36, 49, 64, 81, 100]\n"
     ]
    }
   ],
   "source": [
    "# raiz quadrada em um range de números\n",
    "lista = [x**2 for x in range(0, 11)]\n",
    "\n",
    "# imprimindo a lista\n",
    "print(lista)"
   ]
  },
  {
   "cell_type": "code",
   "execution_count": 4,
   "id": "e9fd5a54",
   "metadata": {},
   "outputs": [
    {
     "name": "stdout",
     "output_type": "stream",
     "text": [
      "[0, 2, 4, 6, 8, 10]\n"
     ]
    }
   ],
   "source": [
    "# retornando apenas valores pares de um range de números\n",
    "lista = [x for x in range(11) if x % 2 == 0]\n",
    "\n",
    "# imprimindo a lista\n",
    "print(lista)"
   ]
  },
  {
   "cell_type": "code",
   "execution_count": 5,
   "id": "f89d9649",
   "metadata": {},
   "outputs": [
    {
     "name": "stdout",
     "output_type": "stream",
     "text": [
      "[32.0, 50.0, 68.18, 94.1]\n"
     ]
    }
   ],
   "source": [
    "# criando uma lista de valores\n",
    "celsius = [0,10, 20.1, 34.5]\n",
    "\n",
    "# convertendo celsius para fahrenheit\n",
    "fahrenheit = [ ((float(9)/5) * temp + 32) for temp in celsius]\n",
    "\n",
    "# imprimindo a lista\n",
    "print(fahrenheit)"
   ]
  },
  {
   "cell_type": "code",
   "execution_count": 6,
   "id": "9a77da8f",
   "metadata": {},
   "outputs": [
    {
     "name": "stdout",
     "output_type": "stream",
     "text": [
      "[0, 1, 16, 81, 256, 625, 1296, 2401, 4096, 6561, 10000]\n"
     ]
    }
   ],
   "source": [
    "# operações aninhadas\n",
    "# retornando x^2 para cada sequência de elementos\n",
    "lista = [x ** 2 for x in [x ** 2 for x in range(11)]]\n",
    "\n",
    "# imprimindo a lista\n",
    "print(lista)"
   ]
  }
 ],
 "metadata": {
  "kernelspec": {
   "display_name": "Python 3",
   "language": "python",
   "name": "python3"
  },
  "language_info": {
   "codemirror_mode": {
    "name": "ipython",
    "version": 3
   },
   "file_extension": ".py",
   "mimetype": "text/x-python",
   "name": "python",
   "nbconvert_exporter": "python",
   "pygments_lexer": "ipython3",
   "version": "3.8.8"
  }
 },
 "nbformat": 4,
 "nbformat_minor": 5
}
