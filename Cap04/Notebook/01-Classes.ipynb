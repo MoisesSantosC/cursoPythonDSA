{
 "cells": [
  {
   "cell_type": "markdown",
   "id": "1e0793b0",
   "metadata": {},
   "source": [
    "# Classes"
   ]
  },
  {
   "cell_type": "markdown",
   "id": "e05e2bfa",
   "metadata": {},
   "source": [
    "Para criar uma classe, usamos a palavra reservada **class**. O nome de sua classe segue a mesma conversão de nomes para criação de funções e variáveis, mas normalmente se usa a primeira letra maiúscula em cada palavra do nome da classe."
   ]
  },
  {
   "cell_type": "code",
   "execution_count": 1,
   "id": "a9eba2ba",
   "metadata": {},
   "outputs": [],
   "source": [
    "# criando uma classe chamada Livro\n",
    "class Livro():\n",
    "    \n",
    "    # este método vai inicializar cada objeto criado a partir desta classe\n",
    "    # o nome do método é __init__\n",
    "    # (self) é uma referência a cada atributo de um objeto criado a partir desta classe\n",
    "    def __init__(self):\n",
    "        \n",
    "        # atributos de cada objeto criado a partir desta classe\n",
    "        # o self indica que estes são atributos dos objetos\n",
    "        self.titulo = 'O monge e o Executivo'\n",
    "        self.isbn = 9988888\n",
    "        print('Construtor chamado para criar um objeto desta classe')\n",
    "        \n",
    "    # métodos são funções que recebem como parâmetro atributos do objeto criado\n",
    "    def imprime(self):\n",
    "        print('Foi criado o livro %s e ISBN %d' %(self.titulo, self.isbn))"
   ]
  },
  {
   "cell_type": "code",
   "execution_count": 2,
   "id": "d6a52de8",
   "metadata": {},
   "outputs": [
    {
     "name": "stdout",
     "output_type": "stream",
     "text": [
      "Construtor chamado para criar um objeto desta classe\n"
     ]
    }
   ],
   "source": [
    "# criando uma instância da classe Livro\n",
    "Livro1 = Livro()"
   ]
  },
  {
   "cell_type": "code",
   "execution_count": 3,
   "id": "9950b3a1",
   "metadata": {},
   "outputs": [
    {
     "data": {
      "text/plain": [
       "__main__.Livro"
      ]
     },
     "execution_count": 3,
     "metadata": {},
     "output_type": "execute_result"
    }
   ],
   "source": [
    "# tipo do objeto Livro1\n",
    "type(Livro1)"
   ]
  },
  {
   "cell_type": "code",
   "execution_count": 4,
   "id": "bac5e232",
   "metadata": {},
   "outputs": [
    {
     "name": "stdout",
     "output_type": "stream",
     "text": [
      "O monge e o Executivo\n",
      "9988888\n"
     ]
    }
   ],
   "source": [
    "# atributo do objeto Livro1\n",
    "print(Livro1.titulo)\n",
    "print(Livro1.isbn)"
   ]
  },
  {
   "cell_type": "code",
   "execution_count": 5,
   "id": "66f2b43b",
   "metadata": {},
   "outputs": [
    {
     "name": "stdout",
     "output_type": "stream",
     "text": [
      "Foi criado o livro O monge e o Executivo e ISBN 9988888\n"
     ]
    }
   ],
   "source": [
    "# método d objeto Livro1\n",
    "Livro1.imprime()"
   ]
  },
  {
   "cell_type": "code",
   "execution_count": 6,
   "id": "20bde14e",
   "metadata": {},
   "outputs": [],
   "source": [
    "# criando a classe Livro com parãmetros no método construtor\n",
    "class Livro():\n",
    "    def __init__(self, titulo, isbn):\n",
    "        self.titulo = titulo\n",
    "        self.isbn = isbn\n",
    "        print('Construtor chamado para criar um objeto desta classe')\n",
    "    \n",
    "    def imprime(self, titulo, isbn):\n",
    "        print('Este é o livro %s e ISBN %d' %(titulo, isbn))        "
   ]
  },
  {
   "cell_type": "code",
   "execution_count": 7,
   "id": "4ea5825e",
   "metadata": {},
   "outputs": [
    {
     "name": "stdout",
     "output_type": "stream",
     "text": [
      "Construtor chamado para criar um objeto desta classe\n"
     ]
    }
   ],
   "source": [
    "# criando o objeto Livro2 que é uma instância da classe Livro\n",
    "Livro2 = Livro('A menina que roubava Livros', 77886611)"
   ]
  },
  {
   "cell_type": "code",
   "execution_count": 8,
   "id": "bac2804a",
   "metadata": {},
   "outputs": [
    {
     "name": "stdout",
     "output_type": "stream",
     "text": [
      "A menina que roubava Livros\n",
      "77886611\n"
     ]
    }
   ],
   "source": [
    "# imprimindo os atributos do objeto\n",
    "print(Livro2.titulo)\n",
    "print(Livro2.isbn)"
   ]
  },
  {
   "cell_type": "code",
   "execution_count": 9,
   "id": "7cb58bec",
   "metadata": {},
   "outputs": [
    {
     "name": "stdout",
     "output_type": "stream",
     "text": [
      "Este é o livro A menina que roubava Livros e ISBN 77886611\n"
     ]
    }
   ],
   "source": [
    "Livro2.imprime('A menina que roubava Livros', 77886611)"
   ]
  },
  {
   "cell_type": "code",
   "execution_count": 10,
   "id": "1b535b41",
   "metadata": {},
   "outputs": [],
   "source": [
    "# criando a classe Cachorro\n",
    "class Cachorro():\n",
    "    def __init__(self, raca):\n",
    "        self.raca = raca\n",
    "        print('Construtor chamado para cirar um objeto desta classe')"
   ]
  },
  {
   "cell_type": "code",
   "execution_count": 11,
   "id": "bbc7d2cd",
   "metadata": {},
   "outputs": [
    {
     "name": "stdout",
     "output_type": "stream",
     "text": [
      "Construtor chamado para cirar um objeto desta classe\n"
     ]
    }
   ],
   "source": [
    "# criando um objeto a partir da classe Cachorro\n",
    "Rex = Cachorro(raca='Labrador')"
   ]
  },
  {
   "cell_type": "code",
   "execution_count": 12,
   "id": "bb1207ab",
   "metadata": {},
   "outputs": [
    {
     "name": "stdout",
     "output_type": "stream",
     "text": [
      "Construtor chamado para cirar um objeto desta classe\n"
     ]
    }
   ],
   "source": [
    "# criando um objeto a partir da classe Cachorro\n",
    "Golias = Cachorro(raca='Huskie')"
   ]
  },
  {
   "cell_type": "code",
   "execution_count": 13,
   "id": "23ecb9f7",
   "metadata": {},
   "outputs": [
    {
     "data": {
      "text/plain": [
       "'Labrador'"
      ]
     },
     "execution_count": 13,
     "metadata": {},
     "output_type": "execute_result"
    }
   ],
   "source": [
    "# atributo da classe Cachorro, utilizado pelo objeto criado\n",
    "Rex.raca"
   ]
  },
  {
   "cell_type": "code",
   "execution_count": 14,
   "id": "a2218e1c",
   "metadata": {},
   "outputs": [
    {
     "data": {
      "text/plain": [
       "'Huskie'"
      ]
     },
     "execution_count": 14,
     "metadata": {},
     "output_type": "execute_result"
    }
   ],
   "source": [
    "# atributo da classe Cachorro, utilizado pelo objeto criado\n",
    "Golias.raca"
   ]
  }
 ],
 "metadata": {
  "kernelspec": {
   "display_name": "Python 3",
   "language": "python",
   "name": "python3"
  },
  "language_info": {
   "codemirror_mode": {
    "name": "ipython",
    "version": 3
   },
   "file_extension": ".py",
   "mimetype": "text/x-python",
   "name": "python",
   "nbconvert_exporter": "python",
   "pygments_lexer": "ipython3",
   "version": "3.8.8"
  }
 },
 "nbformat": 4,
 "nbformat_minor": 5
}
