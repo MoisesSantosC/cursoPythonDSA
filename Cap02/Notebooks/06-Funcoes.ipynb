{
 "cells": [
  {
   "cell_type": "markdown",
   "id": "8318efb3",
   "metadata": {},
   "source": [
    "## Funções"
   ]
  },
  {
   "cell_type": "code",
   "execution_count": 1,
   "id": "1331764c",
   "metadata": {},
   "outputs": [],
   "source": [
    "# Definindo uma função\n",
    "def primeiraFunc():\n",
    "    print('Hello World')"
   ]
  },
  {
   "cell_type": "code",
   "execution_count": 2,
   "id": "a1a2a5df",
   "metadata": {},
   "outputs": [
    {
     "name": "stdout",
     "output_type": "stream",
     "text": [
      "Hello World\n"
     ]
    }
   ],
   "source": [
    "# Chamando a função para ela ser executada\n",
    "primeiraFunc()"
   ]
  },
  {
   "cell_type": "code",
   "execution_count": 3,
   "id": "3aa640c1",
   "metadata": {},
   "outputs": [],
   "source": [
    "# Definindo uma funlçao com parâmetro\n",
    "def segundaFunc(nome):\n",
    "    print('Hello %s' %(nome))"
   ]
  },
  {
   "cell_type": "code",
   "execution_count": 4,
   "id": "5deb501c",
   "metadata": {},
   "outputs": [
    {
     "name": "stdout",
     "output_type": "stream",
     "text": [
      "Hello Moisés\n"
     ]
    }
   ],
   "source": [
    "## Chamando a função\n",
    "segundaFunc('Moisés')"
   ]
  },
  {
   "cell_type": "code",
   "execution_count": 5,
   "id": "554a9d3c",
   "metadata": {},
   "outputs": [],
   "source": [
    "# Definindo uma função\n",
    "def funcLeitura():\n",
    "    for i in range(0, 5):\n",
    "        print('Número ' + str(i))"
   ]
  },
  {
   "cell_type": "code",
   "execution_count": 6,
   "id": "1ef64e7b",
   "metadata": {},
   "outputs": [
    {
     "name": "stdout",
     "output_type": "stream",
     "text": [
      "Número 0\n",
      "Número 1\n",
      "Número 2\n",
      "Número 3\n",
      "Número 4\n"
     ]
    }
   ],
   "source": [
    "# Chamando a função\n",
    "funcLeitura()"
   ]
  },
  {
   "cell_type": "code",
   "execution_count": 7,
   "id": "9b8668d9",
   "metadata": {},
   "outputs": [],
   "source": [
    "# Função para somar dois números\n",
    "def addNum(firstnum, secondnum):\n",
    "    print(\"Primeiro número: \" + str(firstnum))\n",
    "    print(\"Segundo número: \" + str(secondnum))\n",
    "    print(\"Soma:\", firstnum + secondnum)"
   ]
  },
  {
   "cell_type": "code",
   "execution_count": 8,
   "id": "b82cea38",
   "metadata": {},
   "outputs": [
    {
     "name": "stdout",
     "output_type": "stream",
     "text": [
      "Primeiro número: 10\n",
      "Segundo número: 55\n",
      "Soma: 65\n"
     ]
    }
   ],
   "source": [
    "addNum(10, 55)"
   ]
  },
  {
   "cell_type": "markdown",
   "id": "6e30715b",
   "metadata": {},
   "source": [
    "## Variáveis locais e globais"
   ]
  },
  {
   "cell_type": "code",
   "execution_count": 9,
   "id": "b6b36612",
   "metadata": {},
   "outputs": [],
   "source": [
    "# Variável Global\n",
    "var_global = 10  # esta é uma variável global\n",
    "\n",
    "def multiply(num1, num2):\n",
    "    var_global = num1 * num2  # esta é uma variável local. Por mais que esteja com o nome de variável global\n",
    "    print('Este valor é da variável dentro da função:', var_global)"
   ]
  },
  {
   "cell_type": "code",
   "execution_count": 10,
   "id": "48037155",
   "metadata": {},
   "outputs": [
    {
     "name": "stdout",
     "output_type": "stream",
     "text": [
      "Este valor é da variável dentro da função: 125\n"
     ]
    }
   ],
   "source": [
    "# chamando a função\n",
    "multiply(5, 25)"
   ]
  },
  {
   "cell_type": "code",
   "execution_count": 11,
   "id": "fb7edf02",
   "metadata": {},
   "outputs": [
    {
     "name": "stdout",
     "output_type": "stream",
     "text": [
      "Este valor é da variável fora da função (global): 10\n"
     ]
    }
   ],
   "source": [
    "print('Este valor é da variável fora da função (global):', var_global)"
   ]
  },
  {
   "cell_type": "code",
   "execution_count": 12,
   "id": "eb5510f4",
   "metadata": {},
   "outputs": [
    {
     "name": "stdout",
     "output_type": "stream",
     "text": [
      "125\n",
      "10\n"
     ]
    }
   ],
   "source": [
    "# maneira correta\n",
    "var_global = 10\n",
    "\n",
    "def multiply(num1, num2):\n",
    "    var_local = num1 * num2\n",
    "    print(var_local)\n",
    "\n",
    "multiply(5, 25)\n",
    "print(var_global)"
   ]
  },
  {
   "cell_type": "code",
   "execution_count": 13,
   "id": "e24d854a",
   "metadata": {},
   "outputs": [
    {
     "ename": "NameError",
     "evalue": "name 'var_local' is not defined",
     "output_type": "error",
     "traceback": [
      "\u001b[1;31m---------------------------------------------------------------------------\u001b[0m",
      "\u001b[1;31mNameError\u001b[0m                                 Traceback (most recent call last)",
      "\u001b[1;32m<ipython-input-13-4c34873b22ea>\u001b[0m in \u001b[0;36m<module>\u001b[1;34m\u001b[0m\n\u001b[0;32m      1\u001b[0m \u001b[1;31m# Variáveis dentro de função não podem ser acessadas de fora\u001b[0m\u001b[1;33m\u001b[0m\u001b[1;33m\u001b[0m\u001b[1;33m\u001b[0m\u001b[0m\n\u001b[1;32m----> 2\u001b[1;33m \u001b[0mprint\u001b[0m\u001b[1;33m(\u001b[0m\u001b[0mvar_local\u001b[0m\u001b[1;33m)\u001b[0m  \u001b[1;31m# irá gerar um erro\u001b[0m\u001b[1;33m\u001b[0m\u001b[1;33m\u001b[0m\u001b[0m\n\u001b[0m",
      "\u001b[1;31mNameError\u001b[0m: name 'var_local' is not defined"
     ]
    }
   ],
   "source": [
    "# Variáveis dentro de função não podem ser acessadas de fora\n",
    "print(var_local)  # irá gerar um erro"
   ]
  },
  {
   "cell_type": "markdown",
   "id": "dec1c79f",
   "metadata": {},
   "source": [
    "## Funções Built-in"
   ]
  },
  {
   "cell_type": "code",
   "execution_count": 14,
   "id": "c0d63d21",
   "metadata": {},
   "outputs": [
    {
     "data": {
      "text/plain": [
       "56"
      ]
     },
     "execution_count": 14,
     "metadata": {},
     "output_type": "execute_result"
    }
   ],
   "source": [
    "# retorna o valor absoluto\n",
    "abs(-56)"
   ]
  },
  {
   "cell_type": "code",
   "execution_count": 15,
   "id": "d4db216f",
   "metadata": {},
   "outputs": [
    {
     "data": {
      "text/plain": [
       "False"
      ]
     },
     "execution_count": 15,
     "metadata": {},
     "output_type": "execute_result"
    }
   ],
   "source": [
    "# retorna um valor booleano\n",
    "bool(0)"
   ]
  },
  {
   "cell_type": "code",
   "execution_count": 16,
   "id": "d94073e0",
   "metadata": {},
   "outputs": [
    {
     "data": {
      "text/plain": [
       "True"
      ]
     },
     "execution_count": 16,
     "metadata": {},
     "output_type": "execute_result"
    }
   ],
   "source": [
    "# retorna um valor booleano\n",
    "bool(1)"
   ]
  },
  {
   "cell_type": "code",
   "execution_count": 17,
   "id": "e5c3d149",
   "metadata": {},
   "outputs": [
    {
     "name": "stdout",
     "output_type": "stream",
     "text": [
      "4\n"
     ]
    }
   ],
   "source": [
    "# verificando a quantidade de elementos\n",
    "quant_elementos = len([10, 20, 30, 40])\n",
    "print(quant_elementos)"
   ]
  },
  {
   "cell_type": "code",
   "execution_count": 18,
   "id": "3f4464d2",
   "metadata": {},
   "outputs": [
    {
     "name": "stdout",
     "output_type": "stream",
     "text": [
      "d\n",
      "a\n"
     ]
    }
   ],
   "source": [
    "# definindo um array\n",
    "array = ['a', 'b', 'c', 'd']\n",
    "\n",
    "# verificando o valor máximo do array\n",
    "valor_max = max(array)\n",
    "# verificando o valor mínimo do array\n",
    "valor_min = min(array)\n",
    "\n",
    "print(valor_max)\n",
    "print(valor_min)"
   ]
  },
  {
   "cell_type": "code",
   "execution_count": 19,
   "id": "ddfa9447",
   "metadata": {},
   "outputs": [
    {
     "name": "stdout",
     "output_type": "stream",
     "text": [
      "74\n"
     ]
    }
   ],
   "source": [
    "# criando uma lista\n",
    "lista = [14, 15, 20, 25]\n",
    "\n",
    "# somando os valores da lista\n",
    "print(sum(lista))"
   ]
  },
  {
   "cell_type": "markdown",
   "id": "f7b8dd2f",
   "metadata": {},
   "source": [
    "## Funções str, int e float"
   ]
  },
  {
   "cell_type": "code",
   "execution_count": 20,
   "id": "2fd6c70f",
   "metadata": {},
   "outputs": [
    {
     "name": "stdout",
     "output_type": "stream",
     "text": [
      "Digite a sua idade: 14\n"
     ]
    },
    {
     "ename": "TypeError",
     "evalue": "'>' not supported between instances of 'str' and 'int'",
     "output_type": "error",
     "traceback": [
      "\u001b[1;31m---------------------------------------------------------------------------\u001b[0m",
      "\u001b[1;31mTypeError\u001b[0m                                 Traceback (most recent call last)",
      "\u001b[1;32m<ipython-input-20-b877b5be849e>\u001b[0m in \u001b[0;36m<module>\u001b[1;34m\u001b[0m\n\u001b[0;32m      2\u001b[0m \u001b[0midade\u001b[0m \u001b[1;33m=\u001b[0m \u001b[0minput\u001b[0m\u001b[1;33m(\u001b[0m\u001b[1;34m'Digite a sua idade: '\u001b[0m\u001b[1;33m)\u001b[0m  \u001b[1;31m# o tipo de dado é str (string/texto)\u001b[0m\u001b[1;33m\u001b[0m\u001b[1;33m\u001b[0m\u001b[0m\n\u001b[0;32m      3\u001b[0m \u001b[1;33m\u001b[0m\u001b[0m\n\u001b[1;32m----> 4\u001b[1;33m \u001b[1;32mif\u001b[0m \u001b[0midade\u001b[0m \u001b[1;33m>\u001b[0m \u001b[1;36m13\u001b[0m\u001b[1;33m:\u001b[0m  \u001b[1;31m# fazendo uma comparação str com int\u001b[0m\u001b[1;33m\u001b[0m\u001b[1;33m\u001b[0m\u001b[0m\n\u001b[0m\u001b[0;32m      5\u001b[0m     \u001b[0mprint\u001b[0m\u001b[1;33m(\u001b[0m\u001b[1;34m'Pode acessar o Facebook'\u001b[0m\u001b[1;33m)\u001b[0m\u001b[1;33m\u001b[0m\u001b[1;33m\u001b[0m\u001b[0m\n",
      "\u001b[1;31mTypeError\u001b[0m: '>' not supported between instances of 'str' and 'int'"
     ]
    }
   ],
   "source": [
    "# Erro ao executar por causa da conversão\n",
    "idade = input('Digite a sua idade: ')  # o tipo de dado é str (string/texto)\n",
    "\n",
    "if idade > 13:  # fazendo uma comparação str com int\n",
    "    print('Pode acessar o Facebook')"
   ]
  },
  {
   "cell_type": "code",
   "execution_count": 21,
   "id": "8927635c",
   "metadata": {},
   "outputs": [
    {
     "name": "stdout",
     "output_type": "stream",
     "text": [
      "Digite a sua idade: 14\n",
      "Pode acessar o Facebook\n"
     ]
    }
   ],
   "source": [
    "# usando o valor int para converter a entrada do usuário\n",
    "idade = int(input('Digite a sua idade: '))\n",
    "\n",
    "if idade > 13:\n",
    "    print('Pode acessar o Facebook')"
   ]
  },
  {
   "cell_type": "code",
   "execution_count": 22,
   "id": "c9d8e181",
   "metadata": {},
   "outputs": [
    {
     "name": "stdout",
     "output_type": "stream",
     "text": [
      "26\n"
     ]
    }
   ],
   "source": [
    "# convertendo um valor str para int\n",
    "print(int(\"26\"))"
   ]
  },
  {
   "cell_type": "code",
   "execution_count": 23,
   "id": "5e299a71",
   "metadata": {},
   "outputs": [
    {
     "name": "stdout",
     "output_type": "stream",
     "text": [
      "123.456\n"
     ]
    }
   ],
   "source": [
    "# convertendo um valor str para float\n",
    "print(float('123.456'))"
   ]
  },
  {
   "cell_type": "code",
   "execution_count": 24,
   "id": "197f938d",
   "metadata": {},
   "outputs": [
    {
     "name": "stdout",
     "output_type": "stream",
     "text": [
      "11\n"
     ]
    }
   ],
   "source": [
    "# convertendo um valor numérico em str\n",
    "print(str(11))"
   ]
  },
  {
   "cell_type": "markdown",
   "id": "092ced4a",
   "metadata": {},
   "source": [
    "## Criando funções usando outras funções"
   ]
  },
  {
   "cell_type": "code",
   "execution_count": 25,
   "id": "8759eb50",
   "metadata": {},
   "outputs": [],
   "source": [
    "# importando a biblioteca de matemática\n",
    "import math\n",
    "\n",
    "def numPrimo(num):\n",
    "    '''\n",
    "    Verificando se um número\n",
    "    é primo\n",
    "    '''\n",
    "    if (num % 2) == 0 and num > 2:\n",
    "        return 'Este número não é primo'\n",
    "    for i in range(3, int(math.sqrt(num)) + 1, 2):\n",
    "        if (num % i) == 0:\n",
    "            return 'Este número não é primo'\n",
    "    return 'ESte número é primo'"
   ]
  },
  {
   "cell_type": "code",
   "execution_count": 26,
   "id": "4f6583d5",
   "metadata": {},
   "outputs": [
    {
     "data": {
      "text/plain": [
       "'ESte número é primo'"
      ]
     },
     "execution_count": 26,
     "metadata": {},
     "output_type": "execute_result"
    }
   ],
   "source": [
    "# chamando a função\n",
    "numPrimo(541)"
   ]
  },
  {
   "cell_type": "markdown",
   "id": "e8de3dca",
   "metadata": {},
   "source": [
    "## Fazendo split dos dados"
   ]
  },
  {
   "cell_type": "code",
   "execution_count": 27,
   "id": "66666d69",
   "metadata": {},
   "outputs": [],
   "source": [
    "# fazendo o split dos dados\n",
    "def split_string(text):\n",
    "    return text.split(' ')"
   ]
  },
  {
   "cell_type": "code",
   "execution_count": 28,
   "id": "05e196ea",
   "metadata": {},
   "outputs": [],
   "source": [
    "# declarando a variável para fazer o split()\n",
    "texto = 'A função split() é bastante útil para separar grandes volumes de dados'"
   ]
  },
  {
   "cell_type": "code",
   "execution_count": 29,
   "id": "626df470",
   "metadata": {},
   "outputs": [
    {
     "name": "stdout",
     "output_type": "stream",
     "text": [
      "['A', 'função', 'split()', 'é', 'bastante', 'útil', 'para', 'separar', 'grandes', 'volumes', 'de', 'dados']\n"
     ]
    }
   ],
   "source": [
    "# criando uma lista utilizando o split() na string\n",
    "print(split_string(texto))"
   ]
  },
  {
   "cell_type": "code",
   "execution_count": 30,
   "id": "3b0eab62",
   "metadata": {},
   "outputs": [
    {
     "name": "stdout",
     "output_type": "stream",
     "text": [
      "['A', 'função', 'split()', 'é', 'bastante', 'útil', 'para', 'separar', 'grandes', 'volumes', 'de', 'dados']\n"
     ]
    }
   ],
   "source": [
    "# podemos atribuir o resultado de uma função para uma variável\n",
    "token = split_string(texto)\n",
    "\n",
    "print(token)"
   ]
  },
  {
   "cell_type": "code",
   "execution_count": 31,
   "id": "bc9ca06f",
   "metadata": {},
   "outputs": [],
   "source": [
    "# declarando uma variável\n",
    "caixa_baixa = 'ESTE TEXTO DEVERIA ESTAR TODO EM LOWERCASE'"
   ]
  },
  {
   "cell_type": "code",
   "execution_count": 32,
   "id": "2f10e573",
   "metadata": {},
   "outputs": [
    {
     "name": "stdout",
     "output_type": "stream",
     "text": [
      "este texto deveria estar todo em lowercase\n"
     ]
    }
   ],
   "source": [
    "# definindo a função\n",
    "def lowercase(text):\n",
    "    return text.lower()\n",
    "\n",
    "# atribuindo o resultado da função à uma variável\n",
    "lowercased_string = lowercase(caixa_baixa)\n",
    "\n",
    "print(lowercased_string)"
   ]
  },
  {
   "cell_type": "code",
   "execution_count": 33,
   "id": "2c557405",
   "metadata": {},
   "outputs": [],
   "source": [
    "# funções com número variável de argumentos\n",
    "def printVarInfo(arg1, *vartuple):\n",
    "    # imprimindo o valor do primeiro argumento\n",
    "    print('O parâmetro passado foi:', arg1)\n",
    "    \n",
    "    # imprimindo o valor do segundo argumento\n",
    "    for item in vartuple:\n",
    "        print('O parâmetro passado foi:', item)\n",
    "    return"
   ]
  },
  {
   "cell_type": "code",
   "execution_count": 34,
   "id": "34d7382b",
   "metadata": {},
   "outputs": [
    {
     "name": "stdout",
     "output_type": "stream",
     "text": [
      "O parâmetro passado foi: 10\n"
     ]
    }
   ],
   "source": [
    "# chamando a função com apenas 1 parâmetro\n",
    "printVarInfo(10)"
   ]
  },
  {
   "cell_type": "code",
   "execution_count": 35,
   "id": "ae6f8a9e",
   "metadata": {},
   "outputs": [
    {
     "name": "stdout",
     "output_type": "stream",
     "text": [
      "O parâmetro passado foi: Chocolate\n",
      "O parâmetro passado foi: Morango\n",
      "O parâmetro passado foi: Banana\n",
      "O parâmetro passado foi: Uva\n"
     ]
    }
   ],
   "source": [
    "# chamando a função com mais de 1 parâmetro\n",
    "printVarInfo('Chocolate', 'Morango', 'Banana', 'Uva')"
   ]
  },
  {
   "cell_type": "markdown",
   "id": "504b6a44",
   "metadata": {},
   "source": [
    "## Próximo Assunto"
   ]
  },
  {
   "cell_type": "markdown",
   "id": "7a50049e",
   "metadata": {},
   "source": [
    "### [Lambda](./07-Lambda.ipynb)"
   ]
  },
  {
   "cell_type": "markdown",
   "id": "4572ba9c",
   "metadata": {},
   "source": [
    "## Assunto Anterior"
   ]
  },
  {
   "cell_type": "markdown",
   "id": "80830aca",
   "metadata": {},
   "source": [
    "### [Métodos](./05-Metodos.ipynb)"
   ]
  }
 ],
 "metadata": {
  "kernelspec": {
   "display_name": "Python 3",
   "language": "python",
   "name": "python3"
  },
  "language_info": {
   "codemirror_mode": {
    "name": "ipython",
    "version": 3
   },
   "file_extension": ".py",
   "mimetype": "text/x-python",
   "name": "python",
   "nbconvert_exporter": "python",
   "pygments_lexer": "ipython3",
   "version": "3.8.8"
  }
 },
 "nbformat": 4,
 "nbformat_minor": 5
}
