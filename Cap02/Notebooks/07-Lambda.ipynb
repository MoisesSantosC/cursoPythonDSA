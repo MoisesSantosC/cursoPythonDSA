{
 "cells": [
  {
   "cell_type": "markdown",
   "id": "9e2e3813",
   "metadata": {},
   "source": [
    "## Expressões Lambda"
   ]
  },
  {
   "cell_type": "code",
   "execution_count": 10,
   "id": "d7cb070b",
   "metadata": {},
   "outputs": [
    {
     "data": {
      "text/plain": [
       "25"
      ]
     },
     "execution_count": 10,
     "metadata": {},
     "output_type": "execute_result"
    }
   ],
   "source": [
    "# definindo uma função com 3 linhas de código\n",
    "def potencia(num):\n",
    "    result = num ** 2\n",
    "    return result\n",
    "\n",
    "# chamando a função\n",
    "potencia(5)"
   ]
  },
  {
   "cell_type": "code",
   "execution_count": 12,
   "id": "2f526652",
   "metadata": {},
   "outputs": [
    {
     "data": {
      "text/plain": [
       "25"
      ]
     },
     "execution_count": 12,
     "metadata": {},
     "output_type": "execute_result"
    }
   ],
   "source": [
    "# definindo a mesma função com 2 linhas de código\n",
    "def potencia(num):\n",
    "    return num ** 2\n",
    "\n",
    "# chamando a função\n",
    "potencia(5)"
   ]
  },
  {
   "cell_type": "code",
   "execution_count": 13,
   "id": "b25d066c",
   "metadata": {},
   "outputs": [
    {
     "data": {
      "text/plain": [
       "25"
      ]
     },
     "execution_count": 13,
     "metadata": {},
     "output_type": "execute_result"
    }
   ],
   "source": [
    "# definindo a mesma função com 1 linha de código\n",
    "def potencia(num): return num ** 2\n",
    "\n",
    "# chamando a função\n",
    "potencia(5)"
   ]
  },
  {
   "cell_type": "code",
   "execution_count": 15,
   "id": "75a6264d",
   "metadata": {},
   "outputs": [
    {
     "data": {
      "text/plain": [
       "25"
      ]
     },
     "execution_count": 15,
     "metadata": {},
     "output_type": "execute_result"
    }
   ],
   "source": [
    "# definindo uma expressão lambda\n",
    "potencia = lambda num: num ** 2\n",
    "\n",
    "potencia(5)"
   ]
  },
  {
   "cell_type": "code",
   "execution_count": 16,
   "id": "d77c4536",
   "metadata": {},
   "outputs": [
    {
     "data": {
      "text/plain": [
       "True"
      ]
     },
     "execution_count": 16,
     "metadata": {},
     "output_type": "execute_result"
    }
   ],
   "source": [
    "# definindo uma expressão lambda\n",
    "par = lambda num: num % 2 == 0  # o retorno será um valor booleano\n",
    "\n",
    "# chamando a função\n",
    "par(10)"
   ]
  },
  {
   "cell_type": "code",
   "execution_count": 17,
   "id": "fabad03a",
   "metadata": {},
   "outputs": [
    {
     "data": {
      "text/plain": [
       "False"
      ]
     },
     "execution_count": 17,
     "metadata": {},
     "output_type": "execute_result"
    }
   ],
   "source": [
    "# chamando a função\n",
    "par(3)"
   ]
  },
  {
   "cell_type": "code",
   "execution_count": 23,
   "id": "dd2f2f56",
   "metadata": {},
   "outputs": [
    {
     "data": {
      "text/plain": [
       "'P'"
      ]
     },
     "execution_count": 23,
     "metadata": {},
     "output_type": "execute_result"
    }
   ],
   "source": [
    "# retornando o primeiro elemento de uma string\n",
    "first = lambda s: s[0]\n",
    "\n",
    "# chamando a função\n",
    "first('Python')"
   ]
  },
  {
   "cell_type": "code",
   "execution_count": 24,
   "id": "7abf24fc",
   "metadata": {},
   "outputs": [
    {
     "data": {
      "text/plain": [
       "'nohtyP'"
      ]
     },
     "execution_count": 24,
     "metadata": {},
     "output_type": "execute_result"
    }
   ],
   "source": [
    "# retornando a string ao contrário\n",
    "reverso = lambda s: s[::-1]\n",
    "\n",
    "# chamando a função\n",
    "reverso('Python')"
   ]
  },
  {
   "cell_type": "code",
   "execution_count": 25,
   "id": "765fbb84",
   "metadata": {},
   "outputs": [
    {
     "data": {
      "text/plain": [
       "30"
      ]
     },
     "execution_count": 25,
     "metadata": {},
     "output_type": "execute_result"
    }
   ],
   "source": [
    "# somando valores\n",
    "soma = lambda num1,num2: num1+num2\n",
    "\n",
    "# chamando a função\n",
    "soma(10, 20)"
   ]
  },
  {
   "cell_type": "markdown",
   "id": "504b6a44",
   "metadata": {},
   "source": [
    "## Próximo Assunto"
   ]
  },
  {
   "cell_type": "markdown",
   "id": "80830aca",
   "metadata": {},
   "source": [
    "### [Exercícios Loops e Condicionais ](./08-Exercicios-Loops-Condicionais.ipynb)"
   ]
  },
  {
   "cell_type": "markdown",
   "id": "4572ba9c",
   "metadata": {},
   "source": [
    "## Assunto Anterior"
   ]
  },
  {
   "cell_type": "markdown",
   "id": "7a50049e",
   "metadata": {},
   "source": [
    "### [Funções](./06-Funcoes.ipynb)"
   ]
  }
 ],
 "metadata": {
  "kernelspec": {
   "display_name": "Python 3",
   "language": "python",
   "name": "python3"
  },
  "language_info": {
   "codemirror_mode": {
    "name": "ipython",
    "version": 3
   },
   "file_extension": ".py",
   "mimetype": "text/x-python",
   "name": "python",
   "nbconvert_exporter": "python",
   "pygments_lexer": "ipython3",
   "version": "3.8.8"
  }
 },
 "nbformat": 4,
 "nbformat_minor": 5
}
