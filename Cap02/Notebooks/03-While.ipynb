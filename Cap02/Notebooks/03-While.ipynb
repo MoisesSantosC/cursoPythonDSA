{
 "cells": [
  {
   "cell_type": "markdown",
   "id": "083d8abb",
   "metadata": {},
   "source": [
    "## Loop While"
   ]
  },
  {
   "cell_type": "markdown",
   "id": "6eac9a8b",
   "metadata": {},
   "source": [
    "### Imprimindo valores de 0 a 9"
   ]
  },
  {
   "cell_type": "code",
   "execution_count": 1,
   "id": "426f9d2f",
   "metadata": {},
   "outputs": [
    {
     "name": "stdout",
     "output_type": "stream",
     "text": [
      "0\n",
      "1\n",
      "2\n",
      "3\n",
      "4\n",
      "5\n",
      "6\n",
      "7\n",
      "8\n",
      "9\n"
     ]
    }
   ],
   "source": [
    "counter = 0\n",
    "\n",
    "while counter < 10:\n",
    "    print(counter)\n",
    "    counter += 1  # ou counter = counter + 1"
   ]
  },
  {
   "cell_type": "markdown",
   "id": "33306d2b",
   "metadata": {},
   "source": [
    "### Usando o else para encerrar o loop while"
   ]
  },
  {
   "cell_type": "code",
   "execution_count": 2,
   "id": "1590ddb4",
   "metadata": {},
   "outputs": [
    {
     "name": "stdout",
     "output_type": "stream",
     "text": [
      "O valor de x nesta iteração é:  0\n",
      "x ainda e menor que 10, somando mais 1 a x\n",
      "\n",
      "O valor de x nesta iteração é:  1\n",
      "x ainda e menor que 10, somando mais 1 a x\n",
      "\n",
      "O valor de x nesta iteração é:  2\n",
      "x ainda e menor que 10, somando mais 1 a x\n",
      "\n",
      "O valor de x nesta iteração é:  3\n",
      "x ainda e menor que 10, somando mais 1 a x\n",
      "\n",
      "O valor de x nesta iteração é:  4\n",
      "x ainda e menor que 10, somando mais 1 a x\n",
      "\n",
      "Loop concluído!\n"
     ]
    }
   ],
   "source": [
    "x = 0\n",
    "\n",
    "while x < 5:\n",
    "    print('O valor de x nesta iteração é: ', x)\n",
    "    print('x ainda e menor que 10, somando mais 1 a x\\n')  # o \\n da um enter no final do print\n",
    "    x += 1\n",
    "else:\n",
    "    print('Loop concluído!')"
   ]
  },
  {
   "cell_type": "markdown",
   "id": "eecc6acb",
   "metadata": {},
   "source": [
    "### Pass, Break, Continue"
   ]
  },
  {
   "cell_type": "code",
   "execution_count": 3,
   "id": "57aeae29",
   "metadata": {},
   "outputs": [
    {
     "name": "stdout",
     "output_type": "stream",
     "text": [
      "0\n",
      "1\n",
      "2\n",
      "3\n"
     ]
    }
   ],
   "source": [
    "counter = 0\n",
    "\n",
    "while counter < 100:\n",
    "    # Condição para parar o loop\n",
    "    if counter == 4:\n",
    "        break  # interrompe o loop\n",
    "    else:\n",
    "        pass  # deixa o loop continuar\n",
    "    print(counter)\n",
    "    counter += 1"
   ]
  },
  {
   "cell_type": "code",
   "execution_count": 4,
   "id": "12043916",
   "metadata": {},
   "outputs": [
    {
     "name": "stdout",
     "output_type": "stream",
     "text": [
      "P\n",
      "y\n",
      "t\n",
      "o\n",
      "n\n"
     ]
    }
   ],
   "source": [
    "# Pulando uma iteração\n",
    "for verificador in 'Python':\n",
    "    if verificador == 'h':\n",
    "        continue\n",
    "    print(verificador)"
   ]
  },
  {
   "cell_type": "markdown",
   "id": "2b11a637",
   "metadata": {},
   "source": [
    "### While e For juntos"
   ]
  },
  {
   "cell_type": "code",
   "execution_count": 5,
   "id": "db43bedc",
   "metadata": {},
   "outputs": [
    {
     "name": "stdout",
     "output_type": "stream",
     "text": [
      "2 é um número primo\n",
      "3 é um número primo\n",
      "5 é um número primo\n",
      "7 é um número primo\n",
      "11 é um número primo\n",
      "13 é um número primo\n",
      "17 é um número primo\n",
      "19 é um número primo\n",
      "23 é um número primo\n",
      "29 é um número primo\n"
     ]
    }
   ],
   "source": [
    "for i in range(2, 30):\n",
    "    # Declarando as variáveis\n",
    "    j = 2\n",
    "    counter = 0\n",
    "    # Loop\n",
    "    while j < i:\n",
    "        if i % j == 0:\n",
    "            counter = 1\n",
    "            j += 1\n",
    "        else:\n",
    "            j += 1\n",
    "    \n",
    "    if counter == 0:\n",
    "        print(str(i) + ' é um número primo')\n",
    "        counter = 0\n",
    "    else:\n",
    "        counter = 0"
   ]
  },
  {
   "cell_type": "markdown",
   "id": "66c05ea1",
   "metadata": {},
   "source": [
    "## Próximo Assunto"
   ]
  },
  {
   "cell_type": "markdown",
   "id": "896751b1",
   "metadata": {},
   "source": [
    "### [Range](./04-Range.ipynb)"
   ]
  },
  {
   "cell_type": "markdown",
   "id": "cf6019f2",
   "metadata": {},
   "source": [
    "## Assunto Anterior"
   ]
  },
  {
   "cell_type": "markdown",
   "id": "74202f8c",
   "metadata": {},
   "source": [
    "### [For](./02-For.ipynb)"
   ]
  }
 ],
 "metadata": {
  "kernelspec": {
   "display_name": "Python 3",
   "language": "python",
   "name": "python3"
  },
  "language_info": {
   "codemirror_mode": {
    "name": "ipython",
    "version": 3
   },
   "file_extension": ".py",
   "mimetype": "text/x-python",
   "name": "python",
   "nbconvert_exporter": "python",
   "pygments_lexer": "ipython3",
   "version": "3.8.8"
  }
 },
 "nbformat": 4,
 "nbformat_minor": 5
}
