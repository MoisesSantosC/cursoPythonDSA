{
 "cells": [
  {
   "cell_type": "markdown",
   "id": "ba3cf483",
   "metadata": {},
   "source": [
    "## Range"
   ]
  },
  {
   "cell_type": "markdown",
   "id": "2dcea062",
   "metadata": {},
   "source": [
    "**OBS: A função range() _não é_ uma _estrutura de repetição_ como o _for e o while_.** <br>\n",
    "**Mas _é uma estrutura para repetir uma determinada regra_.**"
   ]
  },
  {
   "cell_type": "markdown",
   "id": "8c94fd03",
   "metadata": {},
   "source": [
    "### Imprimindo números pares entre 2 e 13"
   ]
  },
  {
   "cell_type": "code",
   "execution_count": 31,
   "id": "0c2e4707",
   "metadata": {},
   "outputs": [
    {
     "name": "stdout",
     "output_type": "stream",
     "text": [
      "2\n",
      "4\n",
      "6\n",
      "8\n",
      "10\n",
      "12\n"
     ]
    }
   ],
   "source": [
    "for i in range(2, 13, 2):\n",
    "    print(i)"
   ]
  },
  {
   "cell_type": "markdown",
   "id": "d28e2eae",
   "metadata": {},
   "source": [
    "### Imprimindo de 3 a 5"
   ]
  },
  {
   "cell_type": "code",
   "execution_count": 32,
   "id": "d4636b8f",
   "metadata": {},
   "outputs": [
    {
     "name": "stdout",
     "output_type": "stream",
     "text": [
      "3\n",
      "4\n",
      "5\n"
     ]
    }
   ],
   "source": [
    "for i in range(3, 6):\n",
    "    print(i)"
   ]
  },
  {
   "cell_type": "markdown",
   "id": "2ac387d7",
   "metadata": {},
   "source": [
    "### Usando valores negativos"
   ]
  },
  {
   "cell_type": "code",
   "execution_count": 34,
   "id": "87bb1e33",
   "metadata": {},
   "outputs": [
    {
     "name": "stdout",
     "output_type": "stream",
     "text": [
      "0\n",
      "-2\n",
      "-4\n",
      "-6\n",
      "-8\n",
      "-10\n"
     ]
    }
   ],
   "source": [
    "for i in range(0, -11, -2):\n",
    "    print(i)"
   ]
  },
  {
   "cell_type": "markdown",
   "id": "7447848d",
   "metadata": {},
   "source": [
    "### Usando o range no tamanho da lista"
   ]
  },
  {
   "cell_type": "markdown",
   "id": "504b6a44",
   "metadata": {},
   "source": [
    "## Próximo Assunto"
   ]
  },
  {
   "cell_type": "markdown",
   "id": "7a50049e",
   "metadata": {},
   "source": [
    "### [Métodos](./05-Metodos.ipynb)"
   ]
  },
  {
   "cell_type": "markdown",
   "id": "4572ba9c",
   "metadata": {},
   "source": [
    "## Assunto Anterior"
   ]
  },
  {
   "cell_type": "markdown",
   "id": "80830aca",
   "metadata": {},
   "source": [
    "### [While](./03-While.ipynb)"
   ]
  },
  {
   "cell_type": "code",
   "execution_count": 35,
   "id": "322f779f",
   "metadata": {
    "scrolled": true
   },
   "outputs": [
    {
     "name": "stdout",
     "output_type": "stream",
     "text": [
      "Morango\n",
      "Banana\n",
      "Abacaxi\n",
      "Uva\n"
     ]
    }
   ],
   "source": [
    "lista = ['Morango', 'Banana', 'Abacaxi', 'Uva']\n",
    "tamanho_lista = len(lista)\n",
    "\n",
    "# Percorrendo de 0 até o tamanho da lista\n",
    "for i in range(0, tamanho_lista):\n",
    "    # Mostrando o item da lista para cada índice do for\n",
    "    print(lista[i])"
   ]
  }
 ],
 "metadata": {
  "kernelspec": {
   "display_name": "Python 3",
   "language": "python",
   "name": "python3"
  },
  "language_info": {
   "codemirror_mode": {
    "name": "ipython",
    "version": 3
   },
   "file_extension": ".py",
   "mimetype": "text/x-python",
   "name": "python",
   "nbconvert_exporter": "python",
   "pygments_lexer": "ipython3",
   "version": "3.8.8"
  }
 },
 "nbformat": 4,
 "nbformat_minor": 5
}
