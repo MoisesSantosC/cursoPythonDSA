{
 "cells": [
  {
   "cell_type": "markdown",
   "id": "c1114f4f",
   "metadata": {},
   "source": [
    "## Métodos"
   ]
  },
  {
   "cell_type": "markdown",
   "id": "8ded9baf",
   "metadata": {},
   "source": [
    "### Criando uma lista e usando um método do objeto lista"
   ]
  },
  {
   "cell_type": "code",
   "execution_count": 1,
   "id": "a95f9bd0",
   "metadata": {},
   "outputs": [
    {
     "name": "stdout",
     "output_type": "stream",
     "text": [
      "[100, -2, 12, 65, 0, 10]\n"
     ]
    }
   ],
   "source": [
    "lista = [100, -2, 12, 65, 0]\n",
    "\n",
    "# usando o método do objeto lista\n",
    "lista.append(10)\n",
    "\n",
    "# imprimindo a lista\n",
    "print(lista)"
   ]
  },
  {
   "cell_type": "markdown",
   "id": "17c18ef3",
   "metadata": {},
   "source": [
    "### Usando o método para saber quantas vezes aparece algo na lista"
   ]
  },
  {
   "cell_type": "code",
   "execution_count": 2,
   "id": "2b545875",
   "metadata": {},
   "outputs": [
    {
     "name": "stdout",
     "output_type": "stream",
     "text": [
      "1\n"
     ]
    }
   ],
   "source": [
    "# sabendo quantas vezes aparece o número 10 na lista\n",
    "print(lista.count(10))"
   ]
  },
  {
   "cell_type": "markdown",
   "id": "9bb14385",
   "metadata": {},
   "source": [
    "### Mostrando todos os métodos e atributos de um objeto"
   ]
  },
  {
   "cell_type": "code",
   "execution_count": 3,
   "id": "330d4601",
   "metadata": {},
   "outputs": [
    {
     "name": "stdout",
     "output_type": "stream",
     "text": [
      "['__add__', '__class__', '__contains__', '__delattr__', '__delitem__', '__dir__', '__doc__', '__eq__', '__format__', '__ge__', '__getattribute__', '__getitem__', '__gt__', '__hash__', '__iadd__', '__imul__', '__init__', '__init_subclass__', '__iter__', '__le__', '__len__', '__lt__', '__mul__', '__ne__', '__new__', '__reduce__', '__reduce_ex__', '__repr__', '__reversed__', '__rmul__', '__setattr__', '__setitem__', '__sizeof__', '__str__', '__subclasshook__', 'append', 'clear', 'copy', 'count', 'extend', 'index', 'insert', 'pop', 'remove', 'reverse', 'sort']\n"
     ]
    }
   ],
   "source": [
    "print(dir(lista))"
   ]
  },
  {
   "cell_type": "markdown",
   "id": "ba7ce130",
   "metadata": {},
   "source": [
    "### Função `help()` explica como utilizar cada método do objeto"
   ]
  },
  {
   "cell_type": "code",
   "execution_count": 4,
   "id": "5c3b2848",
   "metadata": {},
   "outputs": [
    {
     "name": "stdout",
     "output_type": "stream",
     "text": [
      "Help on built-in function count:\n",
      "\n",
      "count(value, /) method of builtins.list instance\n",
      "    Return number of occurrences of value.\n",
      "\n",
      "None\n"
     ]
    }
   ],
   "source": [
    "print(help(lista.count))"
   ]
  },
  {
   "cell_type": "markdown",
   "id": "e28410c2",
   "metadata": {},
   "source": [
    "### Podemos chamar uma função dentro de outra"
   ]
  },
  {
   "cell_type": "code",
   "execution_count": 8,
   "id": "7d851c8d",
   "metadata": {},
   "outputs": [
    {
     "name": "stdout",
     "output_type": "stream",
     "text": [
      "['Isso', 'é', 'uma', 'string']\n"
     ]
    }
   ],
   "source": [
    "# Criando uma string\n",
    "texto = \"Isso é uma string\"\n",
    "\n",
    "# Chamando o método split dentro do método print\n",
    "print(texto.split())"
   ]
  },
  {
   "cell_type": "markdown",
   "id": "504b6a44",
   "metadata": {},
   "source": [
    "## Próximo Assunto"
   ]
  },
  {
   "cell_type": "markdown",
   "id": "7a50049e",
   "metadata": {},
   "source": [
    "### [Funções](./06-Funcoes.ipynb)"
   ]
  },
  {
   "cell_type": "markdown",
   "id": "4572ba9c",
   "metadata": {},
   "source": [
    "## Assunto Anterior"
   ]
  },
  {
   "cell_type": "markdown",
   "id": "80830aca",
   "metadata": {},
   "source": [
    "### [Range](./04-Range.ipynb)"
   ]
  }
 ],
 "metadata": {
  "kernelspec": {
   "display_name": "Python 3",
   "language": "python",
   "name": "python3"
  },
  "language_info": {
   "codemirror_mode": {
    "name": "ipython",
    "version": 3
   },
   "file_extension": ".py",
   "mimetype": "text/x-python",
   "name": "python",
   "nbconvert_exporter": "python",
   "pygments_lexer": "ipython3",
   "version": "3.8.8"
  }
 },
 "nbformat": 4,
 "nbformat_minor": 5
}
