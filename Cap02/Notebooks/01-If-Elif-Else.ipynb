{
 "cells": [
  {
   "cell_type": "markdown",
   "metadata": {},
   "source": [
    "## Condicional if\n"
   ]
  },
  {
   "cell_type": "code",
   "execution_count": 1,
   "metadata": {},
   "outputs": [
    {
     "name": "stdout",
     "output_type": "stream",
     "text": [
      "Condição verdadeira!\n"
     ]
    }
   ],
   "source": [
    "# condicional e a condição:\n",
    "if 5 > 2:\n",
    "    print('Condição verdadeira!')"
   ]
  },
  {
   "cell_type": "code",
   "execution_count": 2,
   "metadata": {},
   "outputs": [
    {
     "name": "stdout",
     "output_type": "stream",
     "text": [
      "Condição Falsa\n"
     ]
    }
   ],
   "source": [
    "# condicional e a condição:\n",
    "if 5 < 2:\n",
    "    print('Condição verdadeira')\n",
    "else:  # Só será executada se a condição anterior não for atendida\n",
    "    print('Condição Falsa')"
   ]
  },
  {
   "cell_type": "code",
   "execution_count": 3,
   "metadata": {},
   "outputs": [
    {
     "name": "stdout",
     "output_type": "stream",
     "text": [
      "Condição verdadeira!\n"
     ]
    }
   ],
   "source": [
    "# condicional e a condição:\n",
    "if 5 == 5:\n",
    "    print('Condição verdadeira!')"
   ]
  },
  {
   "cell_type": "markdown",
   "metadata": {},
   "source": [
    "## Condicionais aninhados"
   ]
  },
  {
   "cell_type": "code",
   "execution_count": 4,
   "metadata": {},
   "outputs": [
    {
     "name": "stdout",
     "output_type": "stream",
     "text": [
      "Você pode tirar a sua CNH!\n"
     ]
    }
   ],
   "source": [
    "idade = 18\n",
    "\n",
    "# criando a condição para tirar a cnh\n",
    "if idade > 17:\n",
    "    print('Você pode tirar a sua CNH!')"
   ]
  },
  {
   "cell_type": "code",
   "execution_count": 5,
   "metadata": {},
   "outputs": [
    {
     "name": "stdout",
     "output_type": "stream",
     "text": [
      "Ok Bob, você está autorizado a entrar!\n"
     ]
    }
   ],
   "source": [
    "nome = 'Bob'\n",
    "\n",
    "# criando condicional dentro de outra condicional\n",
    "if idade > 13:\n",
    "    # segunda condicional\n",
    "    if nome == 'Bob':\n",
    "        print('Ok Bob, você está autorizado a entrar!')\n",
    "    else:\n",
    "        print('Desculpe, mas você não pode entrar!')"
   ]
  },
  {
   "cell_type": "code",
   "execution_count": 6,
   "metadata": {},
   "outputs": [
    {
     "name": "stdout",
     "output_type": "stream",
     "text": [
      "Ok Bob, você está autorizado a entrar!\n"
     ]
    }
   ],
   "source": [
    "# criando o mesmo exemplo anterior com operador lógico\n",
    "idade = 13\n",
    "nome = 'Bob'\n",
    "\n",
    "if idade >= 13 and nome == 'Bob':\n",
    "    # esse comando só será executado se as duas condições anteriores forem atendidas\n",
    "    print('Ok Bob, você está autorizado a entrar!')\n",
    "else:\n",
    "    print('Desculpe, mas você não pode entrar!')"
   ]
  },
  {
   "cell_type": "markdown",
   "metadata": {},
   "source": [
    "## Elif"
   ]
  },
  {
   "cell_type": "code",
   "execution_count": 7,
   "metadata": {},
   "outputs": [
    {
     "name": "stdout",
     "output_type": "stream",
     "text": [
      "Hoje irá CHOVER!\n"
     ]
    }
   ],
   "source": [
    "# condicional elif\n",
    "dia = 'Terça'\n",
    "\n",
    "if dia == 'Segunda':\n",
    "    print('Hoje fará SOL!')\n",
    "elif dia == 'Terça':\n",
    "    print('Hoje irá CHOVER!')\n",
    "else:\n",
    "    print('Sem previsões para o dia selecionado!')"
   ]
  },
  {
   "cell_type": "markdown",
   "metadata": {},
   "source": [
    "## Operadores Lógicos"
   ]
  },
  {
   "cell_type": "code",
   "execution_count": 8,
   "metadata": {},
   "outputs": [
    {
     "name": "stdout",
     "output_type": "stream",
     "text": [
      "Você não pode dirigir ainda, mas já pode tirar a sua CNH!\n"
     ]
    }
   ],
   "source": [
    "idade = 18\n",
    "cnh = False\n",
    "\n",
    "if idade >= 18 and cnh == True:\n",
    "    # esse código só será executado se ambas as condições forem atendidas\n",
    "    print('Você pode dirigir!')\n",
    "elif idade >= 18 and cnh == False:\n",
    "    # esse código só será executado se apenas uma condição for atendida\n",
    "    print('Você não pode dirigir ainda, mas já pode tirar a sua CNH!')\n",
    "else:\n",
    "    # esse código só será executado se ambas as condições não forem atendidas\n",
    "    print('Você ainda não pode dirigir e nem tirar a CNH!')"
   ]
  }
 ],
 "metadata": {
  "interpreter": {
   "hash": "916dbcbb3f70747c44a77c7bcd40155683ae19c65e1c03b4aa3499c5328201f1"
  },
  "kernelspec": {
   "display_name": "Python 3",
   "language": "python",
   "name": "python3"
  },
  "language_info": {
   "codemirror_mode": {
    "name": "ipython",
    "version": 3
   },
   "file_extension": ".py",
   "mimetype": "text/x-python",
   "name": "python",
   "nbconvert_exporter": "python",
   "pygments_lexer": "ipython3",
   "version": "3.8.8"
  }
 },
 "nbformat": 4,
 "nbformat_minor": 2
}
