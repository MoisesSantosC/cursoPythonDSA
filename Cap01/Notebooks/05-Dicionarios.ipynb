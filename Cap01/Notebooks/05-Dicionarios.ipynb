{
 "cells": [
  {
   "cell_type": "markdown",
   "metadata": {},
   "source": [
    "## Dicionários"
   ]
  },
  {
   "cell_type": "code",
   "execution_count": 2,
   "metadata": {},
   "outputs": [
    {
     "name": "stdout",
     "output_type": "stream",
     "text": [
      "['Matheus', 24, 'Fernanda', 22, 'Tamires', 26, 'Cristiano', 20]\n"
     ]
    }
   ],
   "source": [
    "# Isso é uma lista\n",
    "lista_estudantes = ['Matheus', 24, 'Fernanda', 22, 'Tamires', 26, 'Cristiano', 20]\n",
    "print(lista_estudantes)"
   ]
  },
  {
   "cell_type": "code",
   "execution_count": 4,
   "metadata": {},
   "outputs": [
    {
     "name": "stdout",
     "output_type": "stream",
     "text": [
      "{'Matheus': 24, 'Fernanda': 22, 'Tamires': 26, 'Cristiano': 20}\n"
     ]
    }
   ],
   "source": [
    "# Isso é um dicionário\n",
    "dicionario_estudantes = {\"Matheus\": 24, \"Fernanda\": 22, \"Tamires\": 26, \"Cristiano\": 20}\n",
    "print(dicionario_estudantes)"
   ]
  },
  {
   "cell_type": "code",
   "execution_count": 7,
   "metadata": {},
   "outputs": [
    {
     "name": "stdout",
     "output_type": "stream",
     "text": [
      "24\n"
     ]
    }
   ],
   "source": [
    "# Retornando o valor de um índice indicando a chave\n",
    "print(dicionario_estudantes[\"Matheus\"])"
   ]
  },
  {
   "cell_type": "code",
   "execution_count": 8,
   "metadata": {},
   "outputs": [
    {
     "name": "stdout",
     "output_type": "stream",
     "text": [
      "{'Matheus': 24, 'Fernanda': 22, 'Tamires': 26, 'Cristiano': 20, 'Pedro': 23}\n"
     ]
    }
   ],
   "source": [
    "# Adicionando uma chave valor no dicionário\n",
    "dicionario_estudantes[\"Pedro\"] = 23\n",
    "print(dicionario_estudantes)"
   ]
  },
  {
   "cell_type": "code",
   "execution_count": 12,
   "metadata": {},
   "outputs": [
    {
     "name": "stdout",
     "output_type": "stream",
     "text": [
      "{}\n"
     ]
    }
   ],
   "source": [
    "# Limpando todo o conteúdo de um dicionário\n",
    "dicionario_estudantes.clear()\n",
    "print(dicionario_estudantes)"
   ]
  },
  {
   "cell_type": "code",
   "execution_count": null,
   "metadata": {},
   "outputs": [],
   "source": [
    "# Deletando um dicionário\n",
    "del dicionario_estudantes\n",
    "print(dicionario_estudantes)  # retorna um erro pois este dicionário não existe mais"
   ]
  },
  {
   "cell_type": "code",
   "execution_count": 25,
   "metadata": {},
   "outputs": [
    {
     "name": "stdout",
     "output_type": "stream",
     "text": [
      "{'Matheus': 24, 'Fernanda': 22, 'Tamires': 26, 'Cristiano': 20}\n"
     ]
    }
   ],
   "source": [
    "# Criando outro dicionário\n",
    "estudantes = {\"Matheus\": 24, \"Fernanda\": 22, \"Tamires\": 26, \"Cristiano\": 20}\n",
    "print(estudantes)"
   ]
  },
  {
   "cell_type": "code",
   "execution_count": 26,
   "metadata": {},
   "outputs": [
    {
     "name": "stdout",
     "output_type": "stream",
     "text": [
      "4\n"
     ]
    }
   ],
   "source": [
    "# Verificando o comprimento do dicionário\n",
    "print(len(estudantes))"
   ]
  },
  {
   "cell_type": "code",
   "execution_count": 27,
   "metadata": {},
   "outputs": [
    {
     "name": "stdout",
     "output_type": "stream",
     "text": [
      "dict_keys(['Matheus', 'Fernanda', 'Tamires', 'Cristiano'])\n"
     ]
    }
   ],
   "source": [
    "# Verificando quais são as chaves do dicionário\n",
    "print(estudantes.keys())"
   ]
  },
  {
   "cell_type": "code",
   "execution_count": 28,
   "metadata": {},
   "outputs": [
    {
     "name": "stdout",
     "output_type": "stream",
     "text": [
      "dict_values([24, 22, 26, 20])\n"
     ]
    }
   ],
   "source": [
    "# Verificando quais são os valores do dicionário\n",
    "print(estudantes.values())"
   ]
  },
  {
   "cell_type": "code",
   "execution_count": 29,
   "metadata": {},
   "outputs": [
    {
     "name": "stdout",
     "output_type": "stream",
     "text": [
      "dict_items([('Matheus', 24), ('Fernanda', 22), ('Tamires', 26), ('Cristiano', 20)])\n"
     ]
    }
   ],
   "source": [
    "# Verificando todos os itens do dicionário\n",
    "# Itens são a combinação de chave e valor\n",
    "print(estudantes.items())"
   ]
  },
  {
   "cell_type": "code",
   "execution_count": 31,
   "metadata": {},
   "outputs": [
    {
     "name": "stdout",
     "output_type": "stream",
     "text": [
      "{'Maria': 25, 'Erika': 28, 'Milton': 26}\n"
     ]
    }
   ],
   "source": [
    "# Criando outro dicionário\n",
    "estudantes2 = {\"Maria\":25, \"Erika\":28, \"Milton\": 26}\n",
    "print(estudantes2)"
   ]
  },
  {
   "cell_type": "code",
   "execution_count": 33,
   "metadata": {},
   "outputs": [
    {
     "name": "stdout",
     "output_type": "stream",
     "text": [
      "{'Matheus': 24, 'Fernanda': 22, 'Tamires': 26, 'Cristiano': 20, 'Maria': 25, 'Erika': 28, 'Milton': 26}\n"
     ]
    }
   ],
   "source": [
    "# Atualizando um dicionário à partir de outro dicionário\n",
    "estudantes.update(estudantes2)\n",
    "print(estudantes)"
   ]
  },
  {
   "cell_type": "code",
   "execution_count": 44,
   "metadata": {},
   "outputs": [
    {
     "name": "stdout",
     "output_type": "stream",
     "text": [
      "{}\n"
     ]
    }
   ],
   "source": [
    "# Criando um dicionário vazio\n",
    "dicionario = {}\n",
    "print(dicionario)"
   ]
  },
  {
   "cell_type": "code",
   "execution_count": 45,
   "metadata": {},
   "outputs": [
    {
     "name": "stdout",
     "output_type": "stream",
     "text": [
      "{'Chave1': 'Valor 1', 'Chave2': 'Valor 2', 'Chave3': 'Valor 3'}\n"
     ]
    }
   ],
   "source": [
    "# Adicionando elementos ao dicionário\n",
    "dicionario[\"Chave1\"] = \"Valor 1\"\n",
    "dicionario[\"Chave2\"] = \"Valor 2\"\n",
    "dicionario[\"Chave3\"] = \"Valor 3\"\n",
    "print(dicionario)"
   ]
  },
  {
   "cell_type": "code",
   "execution_count": 48,
   "metadata": {},
   "outputs": [
    {
     "name": "stdout",
     "output_type": "stream",
     "text": [
      "Valor 1 Valor 2 Valor 3\n"
     ]
    }
   ],
   "source": [
    "# Atribuindo o valor da chave em uma variável\n",
    "a = dicionario[\"Chave1\"]\n",
    "b = dicionario[\"Chave2\"]\n",
    "c = dicionario[\"Chave3\"]\n",
    "print(a, b, c)"
   ]
  },
  {
   "cell_type": "code",
   "execution_count": 50,
   "metadata": {},
   "outputs": [
    {
     "name": "stdout",
     "output_type": "stream",
     "text": [
      "{'Chave1': 123, 'Chave2': [22, 21, 1415], 'Chave3': ['Maçã', 'Leite', 'Batata']}\n"
     ]
    }
   ],
   "source": [
    "# Criando um dicionario de listas\n",
    "dicionario2 = {\"Chave1\":123, \"Chave2\":[22, 21, 1415], \"Chave3\":['Maçã', 'Leite', 'Batata']}\n",
    "print(dicionario2)"
   ]
  },
  {
   "cell_type": "code",
   "execution_count": 52,
   "metadata": {},
   "outputs": [
    {
     "name": "stdout",
     "output_type": "stream",
     "text": [
      "22\n"
     ]
    }
   ],
   "source": [
    "# Acessando um item da lista que está dentro do dicionário\n",
    "print(dicionario2[\"Chave2\"][0])"
   ]
  },
  {
   "cell_type": "markdown",
   "metadata": {},
   "source": [
    "## Criando dicionários aninhados"
   ]
  },
  {
   "cell_type": "code",
   "execution_count": 54,
   "metadata": {},
   "outputs": [
    {
     "name": "stdout",
     "output_type": "stream",
     "text": [
      "{'Chave1': {'Chave2_aninhada': {'Chave3_aninhada': 'Dicionário aninhado em Python'}}}\n"
     ]
    }
   ],
   "source": [
    "# Criando um dicionário aninhados\n",
    "dicionario_aninhado = {\"Chave1\":{\"Chave2_aninhada\":{\"Chave3_aninhada\":'Dicionário aninhado em Python'}}}\n",
    "print(dicionario_aninhado)"
   ]
  },
  {
   "cell_type": "code",
   "execution_count": 55,
   "metadata": {},
   "outputs": [
    {
     "name": "stdout",
     "output_type": "stream",
     "text": [
      "Dicionário aninhado em Python\n"
     ]
    }
   ],
   "source": [
    "# Retornando o elemento da lista aninhada\n",
    "print(dicionario_aninhado[\"Chave1\"]['Chave2_aninhada']['Chave3_aninhada'])"
   ]
  },
  {
   "cell_type": "markdown",
   "metadata": {},
   "source": [
    "## Próximo assunto"
   ]
  },
  {
   "cell_type": "markdown",
   "metadata": {},
   "source": [
    "### [Tuplas](./06-Tuplas.ipynb)"
   ]
  },
  {
   "cell_type": "markdown",
   "metadata": {},
   "source": [
    "## Assunto Anterior"
   ]
  },
  {
   "cell_type": "markdown",
   "metadata": {},
   "source": [
    "### [Listas](./04-Listas.ipynb)"
   ]
  }
 ],
 "metadata": {
  "interpreter": {
   "hash": "ae8c5c5a40807c087c14646a4d4b880f6b112cc7c66559dfe467c83f4d638990"
  },
  "kernelspec": {
   "display_name": "Python 3",
   "language": "python",
   "name": "python3"
  },
  "language_info": {
   "codemirror_mode": {
    "name": "ipython",
    "version": 3
   },
   "file_extension": ".py",
   "mimetype": "text/x-python",
   "name": "python",
   "nbconvert_exporter": "python",
   "pygments_lexer": "ipython3",
   "version": "3.8.8"
  }
 },
 "nbformat": 4,
 "nbformat_minor": 2
}
