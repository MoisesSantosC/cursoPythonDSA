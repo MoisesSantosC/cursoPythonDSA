{
 "cells": [
  {
   "cell_type": "markdown",
   "metadata": {
    "id": "69xNKI0XPrFO"
   },
   "source": [
    "## Criando e imprimindo Strings"
   ]
  },
  {
   "cell_type": "code",
   "execution_count": 35,
   "metadata": {
    "colab": {
     "base_uri": "https://localhost:8080/"
    },
    "executionInfo": {
     "elapsed": 428,
     "status": "ok",
     "timestamp": 1630012324490,
     "user": {
      "displayName": "Moisés Santos",
      "photoUrl": "",
      "userId": "06836740536009892256"
     },
     "user_tz": 180
    },
    "id": "V5BnXWi0gXEV",
    "outputId": "095bbadf-a8b4-4cba-b248-56775e579392"
   },
   "outputs": [
    {
     "name": "stdout",
     "output_type": "stream",
     "text": [
      "Oi\n"
     ]
    }
   ],
   "source": [
    "# Uma única palavra\n",
    "print('Oi') "
   ]
  },
  {
   "cell_type": "code",
   "execution_count": 36,
   "metadata": {
    "colab": {
     "base_uri": "https://localhost:8080/"
    },
    "executionInfo": {
     "elapsed": 23,
     "status": "ok",
     "timestamp": 1630012324491,
     "user": {
      "displayName": "Moisés Santos",
      "photoUrl": "",
      "userId": "06836740536009892256"
     },
     "user_tz": 180
    },
    "id": "f2BRXRKdP1au",
    "outputId": "36d898b9-4ac2-40e6-85d6-f14e84a4b5e6"
   },
   "outputs": [
    {
     "name": "stdout",
     "output_type": "stream",
     "text": [
      "Criando uma string em Python\n"
     ]
    }
   ],
   "source": [
    "# Uma frase\n",
    "print('Criando uma string em Python')"
   ]
  },
  {
   "cell_type": "code",
   "execution_count": 37,
   "metadata": {
    "colab": {
     "base_uri": "https://localhost:8080/"
    },
    "executionInfo": {
     "elapsed": 20,
     "status": "ok",
     "timestamp": 1630012324492,
     "user": {
      "displayName": "Moisés Santos",
      "photoUrl": "",
      "userId": "06836740536009892256"
     },
     "user_tz": 180
    },
    "id": "TaGD5m24P8gD",
    "outputId": "a90dbb87-a8b1-42d5-c6a2-965b85dddca1"
   },
   "outputs": [
    {
     "name": "stdout",
     "output_type": "stream",
     "text": [
      "Podemos usar aspas duplas e simples para strings em Python\n"
     ]
    }
   ],
   "source": [
    "# Podemos usar aspas duplas\n",
    "print(\"Podemos usar aspas duplas e simples para strings em Python\")"
   ]
  },
  {
   "cell_type": "code",
   "execution_count": 38,
   "metadata": {
    "colab": {
     "base_uri": "https://localhost:8080/"
    },
    "executionInfo": {
     "elapsed": 17,
     "status": "ok",
     "timestamp": 1630012324493,
     "user": {
      "displayName": "Moisés Santos",
      "photoUrl": "",
      "userId": "06836740536009892256"
     },
     "user_tz": 180
    },
    "id": "kpUl8EuoQRQU",
    "outputId": "4b0320d5-1fef-4f05-8b2c-2045c8bff825"
   },
   "outputs": [
    {
     "name": "stdout",
     "output_type": "stream",
     "text": [
      "Testando strings em 'Python'\n"
     ]
    }
   ],
   "source": [
    "# Podemos combinar aspas duplas e simples\n",
    "print(\"Testando strings em 'Python'\")"
   ]
  },
  {
   "cell_type": "code",
   "execution_count": 39,
   "metadata": {
    "colab": {
     "base_uri": "https://localhost:8080/"
    },
    "executionInfo": {
     "elapsed": 13,
     "status": "ok",
     "timestamp": 1630012324493,
     "user": {
      "displayName": "Moisés Santos",
      "photoUrl": "",
      "userId": "06836740536009892256"
     },
     "user_tz": 180
    },
    "id": "aDHJG5KSJcs_",
    "outputId": "86b32685-5a0d-45e1-901d-e748def5ac65"
   },
   "outputs": [
    {
     "name": "stdout",
     "output_type": "stream",
     "text": [
      "Essa \n",
      "String \n",
      "tem quebras de \n",
      "linhas\n"
     ]
    }
   ],
   "source": [
    "# Quebra de linha dentro de uma string utilizando o \\n\n",
    "print('Essa \\nString \\ntem quebras de \\nlinhas')"
   ]
  },
  {
   "cell_type": "markdown",
   "metadata": {
    "id": "Phwc1qOVQk28"
   },
   "source": [
    "## Indexando Strings"
   ]
  },
  {
   "cell_type": "code",
   "execution_count": 40,
   "metadata": {
    "executionInfo": {
     "elapsed": 221,
     "status": "ok",
     "timestamp": 1630012326991,
     "user": {
      "displayName": "Moisés Santos",
      "photoUrl": "",
      "userId": "06836740536009892256"
     },
     "user_tz": 180
    },
    "id": "-t0IpTsrQd9R"
   },
   "outputs": [],
   "source": [
    "# Atribuindo uma string à variável\n",
    "s = 'Data Science Academy'"
   ]
  },
  {
   "cell_type": "code",
   "execution_count": 41,
   "metadata": {
    "colab": {
     "base_uri": "https://localhost:8080/"
    },
    "executionInfo": {
     "elapsed": 25,
     "status": "ok",
     "timestamp": 1630012327251,
     "user": {
      "displayName": "Moisés Santos",
      "photoUrl": "",
      "userId": "06836740536009892256"
     },
     "user_tz": 180
    },
    "id": "O5cP3klzKGgF",
    "outputId": "73e214d2-915f-4639-e930-1d6bfdf37089"
   },
   "outputs": [
    {
     "name": "stdout",
     "output_type": "stream",
     "text": [
      "Data Science Academy\n"
     ]
    }
   ],
   "source": [
    "# Imprimindo toda a string\n",
    "print(s)"
   ]
  },
  {
   "cell_type": "code",
   "execution_count": 42,
   "metadata": {
    "colab": {
     "base_uri": "https://localhost:8080/"
    },
    "executionInfo": {
     "elapsed": 22,
     "status": "ok",
     "timestamp": 1630012327253,
     "user": {
      "displayName": "Moisés Santos",
      "photoUrl": "",
      "userId": "06836740536009892256"
     },
     "user_tz": 180
    },
    "id": "StE1wzZxKNDW",
    "outputId": "94b6edf7-367c-4903-a11b-6ed31d4d16f2"
   },
   "outputs": [
    {
     "name": "stdout",
     "output_type": "stream",
     "text": [
      "D\n",
      "a\n",
      "t\n"
     ]
    }
   ],
   "source": [
    "# Primeiro elemento da string\n",
    "# O primeiro elemento sempre começa pelo 0\n",
    "print(s[0])  \n",
    "\n",
    "# segundo elemento\n",
    "print(s[1])\n",
    "\n",
    "# terceiro elemento\n",
    "print(s[2])"
   ]
  },
  {
   "cell_type": "markdown",
   "metadata": {
    "id": "qFXZHxhaKnvl"
   },
   "source": [
    "Podemos usar os dois ponto (:) para executar um slicing que faz a leitura de tudo até um ponto designado."
   ]
  },
  {
   "cell_type": "code",
   "execution_count": 43,
   "metadata": {
    "colab": {
     "base_uri": "https://localhost:8080/"
    },
    "executionInfo": {
     "elapsed": 21,
     "status": "ok",
     "timestamp": 1630012327255,
     "user": {
      "displayName": "Moisés Santos",
      "photoUrl": "",
      "userId": "06836740536009892256"
     },
     "user_tz": 180
    },
    "id": "VHJwxdwYKe44",
    "outputId": "005833e5-b889-4c76-957b-a7e89939c552"
   },
   "outputs": [
    {
     "name": "stdout",
     "output_type": "stream",
     "text": [
      "Data Science Academy\n"
     ]
    }
   ],
   "source": [
    "# Retorna todos os elmentos da string, começando pela \n",
    "# posição 0 até o fim da string\n",
    "print(s[0:])"
   ]
  },
  {
   "cell_type": "code",
   "execution_count": 44,
   "metadata": {
    "colab": {
     "base_uri": "https://localhost:8080/"
    },
    "executionInfo": {
     "elapsed": 20,
     "status": "ok",
     "timestamp": 1630012327256,
     "user": {
      "displayName": "Moisés Santos",
      "photoUrl": "",
      "userId": "06836740536009892256"
     },
     "user_tz": 180
    },
    "id": "FVFK2dg8LBW8",
    "outputId": "178750a8-626b-4ffd-b950-1d02d73df2e3"
   },
   "outputs": [
    {
     "name": "stdout",
     "output_type": "stream",
     "text": [
      "Data\n"
     ]
    }
   ],
   "source": [
    "# Retornando tudo até uma certa posição\n",
    "print(s[:4])"
   ]
  },
  {
   "cell_type": "code",
   "execution_count": 45,
   "metadata": {
    "colab": {
     "base_uri": "https://localhost:8080/"
    },
    "executionInfo": {
     "elapsed": 321,
     "status": "ok",
     "timestamp": 1630012327559,
     "user": {
      "displayName": "Moisés Santos",
      "photoUrl": "",
      "userId": "06836740536009892256"
     },
     "user_tz": 180
    },
    "id": "PTn6rKw1LqSV",
    "outputId": "072a812f-d316-40a2-924e-ddb2964baa6e"
   },
   "outputs": [
    {
     "name": "stdout",
     "output_type": "stream",
     "text": [
      "y\n"
     ]
    }
   ],
   "source": [
    "# Retonando o último elemento\n",
    "print(s[-1])"
   ]
  },
  {
   "cell_type": "code",
   "execution_count": 46,
   "metadata": {
    "colab": {
     "base_uri": "https://localhost:8080/"
    },
    "executionInfo": {
     "elapsed": 15,
     "status": "ok",
     "timestamp": 1630012327561,
     "user": {
      "displayName": "Moisés Santos",
      "photoUrl": "",
      "userId": "06836740536009892256"
     },
     "user_tz": 180
    },
    "id": "V2lQxL6ANMKV",
    "outputId": "b43c0910-d371-43d8-ba1e-5619fdc534e9"
   },
   "outputs": [
    {
     "name": "stdout",
     "output_type": "stream",
     "text": [
      "Dt cec cdm\n",
      "Dacn am\n",
      "ymedacA ecneicS ataD\n"
     ]
    }
   ],
   "source": [
    "# retornando e pulando n posições\n",
    "print(s[::2])  # retornando valores a cada duas posições\n",
    "print(s[::3])  # retornando valores a cada três posições\n",
    "print(s[::-1])  # retorna o texto ao contrário"
   ]
  },
  {
   "cell_type": "markdown",
   "metadata": {
    "id": "AsfAIcjUMRm7"
   },
   "source": [
    "## Propriedades de String"
   ]
  },
  {
   "cell_type": "code",
   "execution_count": 47,
   "metadata": {
    "colab": {
     "base_uri": "https://localhost:8080/"
    },
    "executionInfo": {
     "elapsed": 7,
     "status": "ok",
     "timestamp": 1630012329548,
     "user": {
      "displayName": "Moisés Santos",
      "photoUrl": "",
      "userId": "06836740536009892256"
     },
     "user_tz": 180
    },
    "id": "QwH6lgDTL0qk",
    "outputId": "65b0fa3a-ef4a-4d89-ddbf-4757a951c4b5"
   },
   "outputs": [
    {
     "name": "stdout",
     "output_type": "stream",
     "text": [
      "Data Science Academy\n"
     ]
    }
   ],
   "source": [
    "# Imprimindo a string\n",
    "print(s)"
   ]
  },
  {
   "cell_type": "code",
   "execution_count": 48,
   "metadata": {
    "colab": {
     "base_uri": "https://localhost:8080/"
    },
    "executionInfo": {
     "elapsed": 12,
     "status": "ok",
     "timestamp": 1630012332701,
     "user": {
      "displayName": "Moisés Santos",
      "photoUrl": "",
      "userId": "06836740536009892256"
     },
     "user_tz": 180
    },
    "id": "ueDfGZL2RMPl",
    "outputId": "b1f98147-1442-4660-b1b1-c612a843825d"
   },
   "outputs": [
    {
     "name": "stdout",
     "output_type": "stream",
     "text": [
      "Data Science Academy é onde eu faço o curso de Python Fundamentos para Análise de Dados\n"
     ]
    }
   ],
   "source": [
    "# Concatenando strings\n",
    "s2 = ' é onde eu faço o curso de Python Fundamentos para Análise de Dados'\n",
    "print(s + s2)"
   ]
  },
  {
   "cell_type": "code",
   "execution_count": 49,
   "metadata": {
    "colab": {
     "base_uri": "https://localhost:8080/"
    },
    "executionInfo": {
     "elapsed": 241,
     "status": "ok",
     "timestamp": 1630012335598,
     "user": {
      "displayName": "Moisés Santos",
      "photoUrl": "",
      "userId": "06836740536009892256"
     },
     "user_tz": 180
    },
    "id": "PUSuxadFS1Un",
    "outputId": "5b60c050-ea35-429b-9ea3-a30e3f30ba07"
   },
   "outputs": [
    {
     "name": "stdout",
     "output_type": "stream",
     "text": [
      "Data Science Academy é onde eu faço o curso de Python Fundamentos para Análise de Dados\n"
     ]
    }
   ],
   "source": [
    "# Gravando uma concatenação dentro da mesma variável\n",
    "s = s + s2\n",
    "print(s)"
   ]
  },
  {
   "cell_type": "code",
   "execution_count": 51,
   "metadata": {
    "colab": {
     "base_uri": "https://localhost:8080/"
    },
    "executionInfo": {
     "elapsed": 273,
     "status": "ok",
     "timestamp": 1630012431694,
     "user": {
      "displayName": "Moisés Santos",
      "photoUrl": "",
      "userId": "06836740536009892256"
     },
     "user_tz": 180
    },
    "id": "EfXb7_bkTMpI",
    "outputId": "cb2c455e-94e8-4472-b4f5-d47beb2bf425"
   },
   "outputs": [
    {
     "name": "stdout",
     "output_type": "stream",
     "text": [
      "www\n"
     ]
    }
   ],
   "source": [
    "# Podemos multiplicar uma string\n",
    "letra = 'w'\n",
    "print(letra * 3)"
   ]
  },
  {
   "cell_type": "markdown",
   "metadata": {
    "id": "PTmy_SIDUAT5"
   },
   "source": [
    "## Funções Built-in de Strings"
   ]
  },
  {
   "cell_type": "code",
   "execution_count": 52,
   "metadata": {
    "colab": {
     "base_uri": "https://localhost:8080/"
    },
    "executionInfo": {
     "elapsed": 13,
     "status": "ok",
     "timestamp": 1630012485209,
     "user": {
      "displayName": "Moisés Santos",
      "photoUrl": "",
      "userId": "06836740536009892256"
     },
     "user_tz": 180
    },
    "id": "M84RXcsoT2K2",
    "outputId": "cf4852e2-618d-47f8-c024-57b1fe686426"
   },
   "outputs": [
    {
     "name": "stdout",
     "output_type": "stream",
     "text": [
      "Data Science Academy é onde eu faço o curso de Python Fundamentos para Análise de Dados\n"
     ]
    }
   ],
   "source": [
    "# Imprimindo a string\n",
    "print(s)"
   ]
  },
  {
   "cell_type": "code",
   "execution_count": 53,
   "metadata": {
    "colab": {
     "base_uri": "https://localhost:8080/"
    },
    "executionInfo": {
     "elapsed": 288,
     "status": "ok",
     "timestamp": 1630012535995,
     "user": {
      "displayName": "Moisés Santos",
      "photoUrl": "",
      "userId": "06836740536009892256"
     },
     "user_tz": 180
    },
    "id": "fVzfmJ9DUKsE",
    "outputId": "c13b4634-fd3e-4b1d-d037-25fbe72078c5"
   },
   "outputs": [
    {
     "name": "stdout",
     "output_type": "stream",
     "text": [
      "DATA SCIENCE ACADEMY É ONDE EU FAÇO O CURSO DE PYTHON FUNDAMENTOS PARA ANÁLISE DE DADOS\n"
     ]
    }
   ],
   "source": [
    "# Transformando todo o texto em maiúscula\n",
    "print(s.upper())"
   ]
  },
  {
   "cell_type": "code",
   "execution_count": 54,
   "metadata": {
    "colab": {
     "base_uri": "https://localhost:8080/"
    },
    "executionInfo": {
     "elapsed": 330,
     "status": "ok",
     "timestamp": 1630012564053,
     "user": {
      "displayName": "Moisés Santos",
      "photoUrl": "",
      "userId": "06836740536009892256"
     },
     "user_tz": 180
    },
    "id": "WIh1deZsUXC3",
    "outputId": "85b4447f-9c22-459a-cdc6-cd12e0df5888"
   },
   "outputs": [
    {
     "name": "stdout",
     "output_type": "stream",
     "text": [
      "data science academy é onde eu faço o curso de python fundamentos para análise de dados\n"
     ]
    }
   ],
   "source": [
    "# Transformando todo o texto em minúscula\n",
    "print(s.lower())"
   ]
  },
  {
   "cell_type": "code",
   "execution_count": 55,
   "metadata": {
    "colab": {
     "base_uri": "https://localhost:8080/"
    },
    "executionInfo": {
     "elapsed": 264,
     "status": "ok",
     "timestamp": 1630012686393,
     "user": {
      "displayName": "Moisés Santos",
      "photoUrl": "",
      "userId": "06836740536009892256"
     },
     "user_tz": 180
    },
    "id": "bYVtu0b8Ud53",
    "outputId": "13a800f4-57d4-4e15-cfc8-fcb32877824a"
   },
   "outputs": [
    {
     "name": "stdout",
     "output_type": "stream",
     "text": [
      "['Data', 'Science', 'Academy', 'é', 'onde', 'eu', 'faço', 'o', 'curso', 'de', 'Python', 'Fundamentos', 'para', 'Análise', 'de', 'Dados']\n"
     ]
    }
   ],
   "source": [
    "# Dividindo a string por espaços em brando\n",
    "print(s.split())"
   ]
  },
  {
   "cell_type": "code",
   "execution_count": 56,
   "metadata": {
    "colab": {
     "base_uri": "https://localhost:8080/"
    },
    "executionInfo": {
     "elapsed": 340,
     "status": "ok",
     "timestamp": 1630012736665,
     "user": {
      "displayName": "Moisés Santos",
      "photoUrl": "",
      "userId": "06836740536009892256"
     },
     "user_tz": 180
    },
    "id": "RQs1ROp8U7yO",
    "outputId": "26426696-86fe-4b76-e174-78e82d7e3ba3"
   },
   "outputs": [
    {
     "name": "stdout",
     "output_type": "stream",
     "text": [
      "['Data Science Academ', ' é onde eu faço o curso de P', 'thon Fundamentos para Análise de Dados']\n"
     ]
    }
   ],
   "source": [
    "# Dividindo a string por um caracter específico\n",
    "print(s.split('y'))"
   ]
  },
  {
   "cell_type": "markdown",
   "metadata": {
    "id": "MIelV93EVOGY"
   },
   "source": [
    "## Funções Strings"
   ]
  },
  {
   "cell_type": "code",
   "execution_count": 58,
   "metadata": {
    "executionInfo": {
     "elapsed": 574,
     "status": "ok",
     "timestamp": 1630012837225,
     "user": {
      "displayName": "Moisés Santos",
      "photoUrl": "",
      "userId": "06836740536009892256"
     },
     "user_tz": 180
    },
    "id": "U5xBAh7gVIB0"
   },
   "outputs": [],
   "source": [
    "# Atribuindo um novo valor a variável \n",
    "s = 'seja bem vindo ao universo de Python'"
   ]
  },
  {
   "cell_type": "code",
   "execution_count": 59,
   "metadata": {
    "colab": {
     "base_uri": "https://localhost:8080/"
    },
    "executionInfo": {
     "elapsed": 320,
     "status": "ok",
     "timestamp": 1630012866548,
     "user": {
      "displayName": "Moisés Santos",
      "photoUrl": "",
      "userId": "06836740536009892256"
     },
     "user_tz": 180
    },
    "id": "OJGqt9d1VbdB",
    "outputId": "08c10c56-3417-4ff9-d249-22742e12dc46"
   },
   "outputs": [
    {
     "name": "stdout",
     "output_type": "stream",
     "text": [
      "Seja bem vindo ao universo de python\n"
     ]
    }
   ],
   "source": [
    "# Transformando o primeiro caracter em maiúsculo\n",
    "print(s.capitalize())"
   ]
  },
  {
   "cell_type": "code",
   "execution_count": 61,
   "metadata": {
    "colab": {
     "base_uri": "https://localhost:8080/"
    },
    "executionInfo": {
     "elapsed": 250,
     "status": "ok",
     "timestamp": 1630012923368,
     "user": {
      "displayName": "Moisés Santos",
      "photoUrl": "",
      "userId": "06836740536009892256"
     },
     "user_tz": 180
    },
    "id": "UBf2NZoAVnxI",
    "outputId": "8ca0a431-d834-455c-8038-588e543f455d"
   },
   "outputs": [
    {
     "name": "stdout",
     "output_type": "stream",
     "text": [
      "2\n"
     ]
    }
   ],
   "source": [
    "# Contando a quantidade de um caractere que aparecem na string\n",
    "print(s.count('a'))"
   ]
  },
  {
   "cell_type": "code",
   "execution_count": 66,
   "metadata": {
    "colab": {
     "base_uri": "https://localhost:8080/"
    },
    "executionInfo": {
     "elapsed": 419,
     "status": "ok",
     "timestamp": 1630013087577,
     "user": {
      "displayName": "Moisés Santos",
      "photoUrl": "",
      "userId": "06836740536009892256"
     },
     "user_tz": 180
    },
    "id": "zQrWUe9hVvK8",
    "outputId": "f5ac7961-aea0-4d5d-e7de-ecfc59096ce7"
   },
   "outputs": [
    {
     "name": "stdout",
     "output_type": "stream",
     "text": [
      "30\n"
     ]
    }
   ],
   "source": [
    "# Encontrar um caractere dentro da string\n",
    "# O valor retornado é o índice do elemento\n",
    "print(s.find('P'))"
   ]
  },
  {
   "cell_type": "code",
   "execution_count": 68,
   "metadata": {
    "colab": {
     "base_uri": "https://localhost:8080/"
    },
    "executionInfo": {
     "elapsed": 11,
     "status": "ok",
     "timestamp": 1630013161161,
     "user": {
      "displayName": "Moisés Santos",
      "photoUrl": "",
      "userId": "06836740536009892256"
     },
     "user_tz": 180
    },
    "id": "nP1GjmNvWBp-",
    "outputId": "8d7b8090-6cee-48a7-bf61-5190e76c9fd7"
   },
   "outputs": [
    {
     "name": "stdout",
     "output_type": "stream",
     "text": [
      "False\n"
     ]
    }
   ],
   "source": [
    "# Verifica se a string só tem espaços\n",
    "# O valor retornado é um valor booleano\n",
    "print(s.isspace())"
   ]
  },
  {
   "cell_type": "code",
   "execution_count": 69,
   "metadata": {
    "colab": {
     "base_uri": "https://localhost:8080/"
    },
    "executionInfo": {
     "elapsed": 662,
     "status": "ok",
     "timestamp": 1630013260757,
     "user": {
      "displayName": "Moisés Santos",
      "photoUrl": "",
      "userId": "06836740536009892256"
     },
     "user_tz": 180
    },
    "id": "C5xyHdG_W5cM",
    "outputId": "75e7d36c-5dfb-47b0-e0d0-8add4b406916"
   },
   "outputs": [
    {
     "name": "stdout",
     "output_type": "stream",
     "text": [
      "True\n"
     ]
    }
   ],
   "source": [
    "# Verifica se a string termina com um caracter específico\n",
    "# O valor retornado é um valor booleano\n",
    "print(s.endswith('n'))"
   ]
  },
  {
   "cell_type": "markdown",
   "metadata": {
    "id": "Z0J83Br2Wxo3"
   },
   "source": [
    "## Comparando Strings"
   ]
  },
  {
   "cell_type": "code",
   "execution_count": 70,
   "metadata": {
    "colab": {
     "base_uri": "https://localhost:8080/"
    },
    "executionInfo": {
     "elapsed": 588,
     "status": "ok",
     "timestamp": 1630013307996,
     "user": {
      "displayName": "Moisés Santos",
      "photoUrl": "",
      "userId": "06836740536009892256"
     },
     "user_tz": 180
    },
    "id": "k1FkjPFwWry1",
    "outputId": "36de167d-a837-4259-8942-fb5662ba7f62"
   },
   "outputs": [
    {
     "name": "stdout",
     "output_type": "stream",
     "text": [
      "True\n",
      "False\n",
      "False\n"
     ]
    }
   ],
   "source": [
    "print(\"Python\" == 'Python')\n",
    "print(\"Python\" == 'python')\n",
    "print(\"Python\" == 'R')"
   ]
  },
  {
   "cell_type": "markdown",
   "metadata": {},
   "source": [
    "## Próximo assunto"
   ]
  },
  {
   "cell_type": "markdown",
   "metadata": {},
   "source": [
    "### [Listas](./04-Listas.ipynb)"
   ]
  },
  {
   "cell_type": "markdown",
   "metadata": {},
   "source": [
    "## Assunto Anterior"
   ]
  },
  {
   "cell_type": "markdown",
   "metadata": {},
   "source": [
    "### [Variáveis](./02-Variaveis.ipynb)"
   ]
  }
 ],
 "metadata": {
  "colab": {
   "authorship_tag": "ABX9TyMKKcOTbrWTsRVJ3KYcQKI8",
   "collapsed_sections": [
    "69xNKI0XPrFO"
   ],
   "name": "03-Strings-e-Indexacao.ipynb",
   "provenance": []
  },
  "kernelspec": {
   "display_name": "Python 3",
   "language": "python",
   "name": "python3"
  },
  "language_info": {
   "codemirror_mode": {
    "name": "ipython",
    "version": 3
   },
   "file_extension": ".py",
   "mimetype": "text/x-python",
   "name": "python",
   "nbconvert_exporter": "python",
   "pygments_lexer": "ipython3",
   "version": "3.8.8"
  }
 },
 "nbformat": 4,
 "nbformat_minor": 1
}
