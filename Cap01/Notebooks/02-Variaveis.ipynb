{
 "cells": [
  {
   "cell_type": "markdown",
   "metadata": {},
   "source": [
    "## Variáveis e Operadores"
   ]
  },
  {
   "cell_type": "code",
   "execution_count": 1,
   "metadata": {
    "executionInfo": {
     "elapsed": 672,
     "status": "ok",
     "timestamp": 1629407768206,
     "user": {
      "displayName": "Moisés Santos",
      "photoUrl": "",
      "userId": "06836740536009892256"
     },
     "user_tz": 180
    },
    "id": "Ae-WWn8xQo5u"
   },
   "outputs": [],
   "source": [
    "# atribuindo o valor 1 à variável var_teste\n",
    "var_teste = 1"
   ]
  },
  {
   "cell_type": "code",
   "execution_count": 2,
   "metadata": {
    "colab": {
     "base_uri": "https://localhost:8080/"
    },
    "executionInfo": {
     "elapsed": 305,
     "status": "ok",
     "timestamp": 1629407790564,
     "user": {
      "displayName": "Moisés Santos",
      "photoUrl": "",
      "userId": "06836740536009892256"
     },
     "user_tz": 180
    },
    "id": "jRLe6_ETRWlE",
    "outputId": "4c8ced72-b852-4018-e02f-d6c6563387a6"
   },
   "outputs": [
    {
     "name": "stdout",
     "output_type": "stream",
     "text": [
      "1\n"
     ]
    }
   ],
   "source": [
    "# Imprimindo o valor da variável\n",
    "print(var_teste)"
   ]
  },
  {
   "cell_type": "code",
   "execution_count": 3,
   "metadata": {
    "id": "aBuVptXIRcF2"
   },
   "outputs": [
    {
     "ename": "NameError",
     "evalue": "name 'minha_variavel' is not defined",
     "output_type": "error",
     "traceback": [
      "\u001b[1;31m---------------------------------------------------------------------------\u001b[0m",
      "\u001b[1;31mNameError\u001b[0m                                 Traceback (most recent call last)",
      "\u001b[1;32m<ipython-input-3-dccd4e6d8864>\u001b[0m in \u001b[0;36m<module>\u001b[1;34m\u001b[0m\n\u001b[0;32m      1\u001b[0m \u001b[1;31m# Não podemos utilizar uma variável que não foi definida.\u001b[0m\u001b[1;33m\u001b[0m\u001b[1;33m\u001b[0m\u001b[1;33m\u001b[0m\u001b[0m\n\u001b[0;32m      2\u001b[0m \u001b[1;31m# Veja a mensagem de erro.\u001b[0m\u001b[1;33m\u001b[0m\u001b[1;33m\u001b[0m\u001b[1;33m\u001b[0m\u001b[0m\n\u001b[1;32m----> 3\u001b[1;33m \u001b[0mminha_variavel\u001b[0m\u001b[1;33m\u001b[0m\u001b[1;33m\u001b[0m\u001b[0m\n\u001b[0m",
      "\u001b[1;31mNameError\u001b[0m: name 'minha_variavel' is not defined"
     ]
    }
   ],
   "source": [
    "# Não podemos utilizar uma variável que não foi definida. \n",
    "# Veja a mensagem de erro.\n",
    "minha_variavel"
   ]
  },
  {
   "cell_type": "code",
   "execution_count": 4,
   "metadata": {
    "colab": {
     "base_uri": "https://localhost:8080/"
    },
    "executionInfo": {
     "elapsed": 262,
     "status": "ok",
     "timestamp": 1629408021223,
     "user": {
      "displayName": "Moisés Santos",
      "photoUrl": "",
      "userId": "06836740536009892256"
     },
     "user_tz": 180
    },
    "id": "5xrGsNEMRmzd",
    "outputId": "b809cd34-83a6-4bf9-9f31-c466e632a55a"
   },
   "outputs": [
    {
     "name": "stdout",
     "output_type": "stream",
     "text": [
      "2\n"
     ]
    }
   ],
   "source": [
    "# Atribuindo outro valor a mesma variável\n",
    "var_teste = 2\n",
    "print(var_teste)"
   ]
  },
  {
   "cell_type": "code",
   "execution_count": 5,
   "metadata": {
    "colab": {
     "base_uri": "https://localhost:8080/"
    },
    "executionInfo": {
     "elapsed": 299,
     "status": "ok",
     "timestamp": 1629408054562,
     "user": {
      "displayName": "Moisés Santos",
      "photoUrl": "",
      "userId": "06836740536009892256"
     },
     "user_tz": 180
    },
    "id": "h7zFwTNdSUe0",
    "outputId": "8b31f473-80a7-4c53-912b-a95789d94ae3"
   },
   "outputs": [
    {
     "data": {
      "text/plain": [
       "int"
      ]
     },
     "execution_count": 5,
     "metadata": {},
     "output_type": "execute_result"
    }
   ],
   "source": [
    "# Verificando o tipo da variável\n",
    "type(var_teste)"
   ]
  },
  {
   "cell_type": "code",
   "execution_count": 6,
   "metadata": {
    "colab": {
     "base_uri": "https://localhost:8080/"
    },
    "executionInfo": {
     "elapsed": 332,
     "status": "ok",
     "timestamp": 1629408161527,
     "user": {
      "displayName": "Moisés Santos",
      "photoUrl": "",
      "userId": "06836740536009892256"
     },
     "user_tz": 180
    },
    "id": "lIDiV_vnScms",
    "outputId": "1121f448-ab3e-48cb-f8d2-bfd3a7785c47"
   },
   "outputs": [
    {
     "name": "stdout",
     "output_type": "stream",
     "text": [
      "9.5\n"
     ]
    },
    {
     "data": {
      "text/plain": [
       "float"
      ]
     },
     "execution_count": 6,
     "metadata": {},
     "output_type": "execute_result"
    }
   ],
   "source": [
    "# Atribuindo um valor à variável\n",
    "var_teste2 = 9.5\n",
    "print(var_teste2)  # Imprimindo o valor da variável\n",
    "type(var_teste2)  # Imprimindo o tipo da variável"
   ]
  },
  {
   "cell_type": "markdown",
   "metadata": {
    "id": "ojXOexKNUNIX"
   },
   "source": [
    "## Declaração Múltipla"
   ]
  },
  {
   "cell_type": "code",
   "execution_count": 7,
   "metadata": {
    "executionInfo": {
     "elapsed": 318,
     "status": "ok",
     "timestamp": 1629408602766,
     "user": {
      "displayName": "Moisés Santos",
      "photoUrl": "",
      "userId": "06836740536009892256"
     },
     "user_tz": 180
    },
    "id": "ufJB7rjtS2tR"
   },
   "outputs": [],
   "source": [
    "# Declarando múltiplas variáveis e atribuindo valores\n",
    "pessoa1, pessoa2, pessoa3 = 'Maria', \"José\", \"Chris\""
   ]
  },
  {
   "cell_type": "code",
   "execution_count": 8,
   "metadata": {
    "colab": {
     "base_uri": "https://localhost:8080/"
    },
    "executionInfo": {
     "elapsed": 279,
     "status": "ok",
     "timestamp": 1629408628176,
     "user": {
      "displayName": "Moisés Santos",
      "photoUrl": "",
      "userId": "06836740536009892256"
     },
     "user_tz": 180
    },
    "id": "QBJVja41Uidk",
    "outputId": "8e15ce90-2550-4b93-dd36-e4986e0e6e1a"
   },
   "outputs": [
    {
     "name": "stdout",
     "output_type": "stream",
     "text": [
      "Maria\n",
      "José\n",
      "Chris\n"
     ]
    }
   ],
   "source": [
    "# Imprimindo os valores das variáveis\n",
    "print(pessoa1)\n",
    "print(pessoa2)\n",
    "print(pessoa3)"
   ]
  },
  {
   "cell_type": "code",
   "execution_count": 9,
   "metadata": {
    "colab": {
     "base_uri": "https://localhost:8080/"
    },
    "executionInfo": {
     "elapsed": 274,
     "status": "ok",
     "timestamp": 1629408797009,
     "user": {
      "displayName": "Moisés Santos",
      "photoUrl": "",
      "userId": "06836740536009892256"
     },
     "user_tz": 180
    },
    "id": "6oEPmFASUoqM",
    "outputId": "df6d2e62-449f-488c-a699-6f61c80374d2"
   },
   "outputs": [
    {
     "name": "stdout",
     "output_type": "stream",
     "text": [
      "Maçã\n",
      "Maçã\n",
      "Maçã\n"
     ]
    }
   ],
   "source": [
    "# Atribuindo o mesmo valor para mais de uma variável\n",
    "fruta1 = fruta2 = fruta3 = 'Maçã'\n",
    "# Imprimindo o valor das variáveis\n",
    "print(fruta1)\n",
    "print(fruta2)\n",
    "print(fruta3)"
   ]
  },
  {
   "cell_type": "markdown",
   "metadata": {
    "id": "pu51lAvSVYPi"
   },
   "source": [
    "## Podemos usar letras, números e underline na declaração de variáveis, mas não podemos começar com número."
   ]
  },
  {
   "cell_type": "code",
   "execution_count": 10,
   "metadata": {
    "colab": {
     "base_uri": "https://localhost:8080/"
    },
    "executionInfo": {
     "elapsed": 9,
     "status": "ok",
     "timestamp": 1629408920066,
     "user": {
      "displayName": "Moisés Santos",
      "photoUrl": "",
      "userId": "06836740536009892256"
     },
     "user_tz": 180
    },
    "id": "KbQPjv72VNQc",
    "outputId": "00f98bd3-4f72-415c-ebf9-c041d46bf21f"
   },
   "outputs": [
    {
     "name": "stdout",
     "output_type": "stream",
     "text": [
      "Nome da variável seguida por um número, pode.\n"
     ]
    }
   ],
   "source": [
    "# Contendo número no nome da variável\n",
    "x1 = \"Nome da variável seguida por um número, pode.\"\n",
    "print(x1)"
   ]
  },
  {
   "cell_type": "code",
   "execution_count": 11,
   "metadata": {
    "id": "oaNaDjVKVv8c"
   },
   "outputs": [
    {
     "ename": "SyntaxError",
     "evalue": "invalid syntax (<ipython-input-11-54c18d79203b>, line 2)",
     "output_type": "error",
     "traceback": [
      "\u001b[1;36m  File \u001b[1;32m\"<ipython-input-11-54c18d79203b>\"\u001b[1;36m, line \u001b[1;32m2\u001b[0m\n\u001b[1;33m    2x = 'Essa variável vai dar mensagem de erro, pois começa com um número.'\u001b[0m\n\u001b[1;37m     ^\u001b[0m\n\u001b[1;31mSyntaxError\u001b[0m\u001b[1;31m:\u001b[0m invalid syntax\n"
     ]
    }
   ],
   "source": [
    "# Nome de variável começando com número.\n",
    "2x = 'Essa variável vai dar mensagem de erro, pois começa com um número.'\n",
    "print(2x)"
   ]
  },
  {
   "cell_type": "markdown",
   "metadata": {
    "id": "b-XBLVllXXLv"
   },
   "source": [
    "## Atruibuindo varíaveis a outra variável"
   ]
  },
  {
   "cell_type": "code",
   "execution_count": 12,
   "metadata": {
    "colab": {
     "base_uri": "https://localhost:8080/"
    },
    "executionInfo": {
     "elapsed": 295,
     "status": "ok",
     "timestamp": 1629409435844,
     "user": {
      "displayName": "Moisés Santos",
      "photoUrl": "",
      "userId": "06836740536009892256"
     },
     "user_tz": 180
    },
    "id": "dGfiELcjV9yU",
    "outputId": "568250e8-57f2-4a32-cb10-aed65503ba69"
   },
   "outputs": [
    {
     "name": "stdout",
     "output_type": "stream",
     "text": [
      "12\n"
     ]
    }
   ],
   "source": [
    "largura = 3\n",
    "altura = 4\n",
    "area = largura * altura\n",
    "print(area)"
   ]
  },
  {
   "cell_type": "code",
   "execution_count": 13,
   "metadata": {
    "colab": {
     "base_uri": "https://localhost:8080/"
    },
    "executionInfo": {
     "elapsed": 259,
     "status": "ok",
     "timestamp": 1629409558693,
     "user": {
      "displayName": "Moisés Santos",
      "photoUrl": "",
      "userId": "06836740536009892256"
     },
     "user_tz": 180
    },
    "id": "LQZkLBPIXsWN",
    "outputId": "94e1cadd-64b5-49f5-8773-dede6b2432d1"
   },
   "outputs": [
    {
     "name": "stdout",
     "output_type": "stream",
     "text": [
      "14\n"
     ]
    }
   ],
   "source": [
    "perimetro = 2 * largura + 2 * altura\n",
    "print(perimetro)"
   ]
  },
  {
   "cell_type": "markdown",
   "metadata": {
    "id": "WgP3AlNXYeMa"
   },
   "source": [
    "## Operações com variáveis"
   ]
  },
  {
   "cell_type": "code",
   "execution_count": 14,
   "metadata": {
    "executionInfo": {
     "elapsed": 254,
     "status": "ok",
     "timestamp": 1629409928912,
     "user": {
      "displayName": "Moisés Santos",
      "photoUrl": "",
      "userId": "06836740536009892256"
     },
     "user_tz": 180
    },
    "id": "kgin8pmGYBR1"
   },
   "outputs": [],
   "source": [
    "idade1 = 25\n",
    "idade2 = 35"
   ]
  },
  {
   "cell_type": "code",
   "execution_count": 15,
   "metadata": {
    "colab": {
     "base_uri": "https://localhost:8080/"
    },
    "executionInfo": {
     "elapsed": 281,
     "status": "ok",
     "timestamp": 1629409961701,
     "user": {
      "displayName": "Moisés Santos",
      "photoUrl": "",
      "userId": "06836740536009892256"
     },
     "user_tz": 180
    },
    "id": "Vuc_S9IdYqnM",
    "outputId": "2862da8d-b9f5-4efc-9676-c8e75cbb9d6e"
   },
   "outputs": [
    {
     "name": "stdout",
     "output_type": "stream",
     "text": [
      "60\n"
     ]
    }
   ],
   "source": [
    "# Adição\n",
    "print(idade1 + idade2)"
   ]
  },
  {
   "cell_type": "code",
   "execution_count": 16,
   "metadata": {
    "colab": {
     "base_uri": "https://localhost:8080/"
    },
    "executionInfo": {
     "elapsed": 272,
     "status": "ok",
     "timestamp": 1629409970374,
     "user": {
      "displayName": "Moisés Santos",
      "photoUrl": "",
      "userId": "06836740536009892256"
     },
     "user_tz": 180
    },
    "id": "CETt3nuAZewE",
    "outputId": "758b8d38-c12f-4e9f-90df-a86c93a74b2c"
   },
   "outputs": [
    {
     "name": "stdout",
     "output_type": "stream",
     "text": [
      "10\n"
     ]
    }
   ],
   "source": [
    "# Subtração\n",
    "print(idade2 - idade1)"
   ]
  },
  {
   "cell_type": "code",
   "execution_count": 17,
   "metadata": {
    "colab": {
     "base_uri": "https://localhost:8080/"
    },
    "executionInfo": {
     "elapsed": 253,
     "status": "ok",
     "timestamp": 1629409979561,
     "user": {
      "displayName": "Moisés Santos",
      "photoUrl": "",
      "userId": "06836740536009892256"
     },
     "user_tz": 180
    },
    "id": "dpXXl7tmZwVE",
    "outputId": "db712abd-4513-40ab-efb9-9dad5cbcf384"
   },
   "outputs": [
    {
     "name": "stdout",
     "output_type": "stream",
     "text": [
      "875\n"
     ]
    }
   ],
   "source": [
    "# Multiplicação\n",
    "print(idade2 * idade1)"
   ]
  },
  {
   "cell_type": "code",
   "execution_count": 18,
   "metadata": {
    "colab": {
     "base_uri": "https://localhost:8080/"
    },
    "executionInfo": {
     "elapsed": 271,
     "status": "ok",
     "timestamp": 1629409991877,
     "user": {
      "displayName": "Moisés Santos",
      "photoUrl": "",
      "userId": "06836740536009892256"
     },
     "user_tz": 180
    },
    "id": "kcqQEXNcZylc",
    "outputId": "9f4dfc77-c8df-4c1a-e682-78762ad5fcce"
   },
   "outputs": [
    {
     "name": "stdout",
     "output_type": "stream",
     "text": [
      "0.7142857142857143\n"
     ]
    }
   ],
   "source": [
    "# Divisão inteira\n",
    "print(idade1 / idade2)"
   ]
  },
  {
   "cell_type": "code",
   "execution_count": 19,
   "metadata": {
    "colab": {
     "base_uri": "https://localhost:8080/"
    },
    "executionInfo": {
     "elapsed": 430,
     "status": "ok",
     "timestamp": 1629409995505,
     "user": {
      "displayName": "Moisés Santos",
      "photoUrl": "",
      "userId": "06836740536009892256"
     },
     "user_tz": 180
    },
    "id": "q5HDq0R8Z1mU",
    "outputId": "716fb9b9-982c-4627-ba4c-fdf462752ece"
   },
   "outputs": [
    {
     "name": "stdout",
     "output_type": "stream",
     "text": [
      "25\n"
     ]
    }
   ],
   "source": [
    "# Resto da divisão\n",
    "print(idade1 % idade2)"
   ]
  },
  {
   "cell_type": "markdown",
   "metadata": {
    "id": "3NE9BTS_Z4-U"
   },
   "source": [
    "## Concatenação de Variáveis"
   ]
  },
  {
   "cell_type": "code",
   "execution_count": 20,
   "metadata": {
    "colab": {
     "base_uri": "https://localhost:8080/"
    },
    "executionInfo": {
     "elapsed": 321,
     "status": "ok",
     "timestamp": 1629410125706,
     "user": {
      "displayName": "Moisés Santos",
      "photoUrl": "",
      "userId": "06836740536009892256"
     },
     "user_tz": 180
    },
    "id": "WbSyvibvZ2dN",
    "outputId": "0fab2095-3f73-4848-961e-a1addf80ffc1"
   },
   "outputs": [
    {
     "name": "stdout",
     "output_type": "stream",
     "text": [
      "Roberto Carlos\n"
     ]
    }
   ],
   "source": [
    "nome = 'Roberto'\n",
    "sobrenome = 'Carlos'\n",
    "# Neste caso, acontecerá uma concatenação de strings\n",
    "nome_completo = nome + ' ' + sobrenome  \n",
    "print(nome_completo)"
   ]
  },
  {
   "cell_type": "markdown",
   "metadata": {},
   "source": [
    "## Próximo assunto"
   ]
  },
  {
   "cell_type": "markdown",
   "metadata": {},
   "source": [
    "### [Strings e indexação](./03-Strings-e-Indexacao.ipynb)"
   ]
  },
  {
   "cell_type": "markdown",
   "metadata": {},
   "source": [
    "## Assunto Anterior"
   ]
  },
  {
   "cell_type": "markdown",
   "metadata": {},
   "source": [
    "### [Números](./01-Numeros.ipynb)"
   ]
  }
 ],
 "metadata": {
  "colab": {
   "authorship_tag": "ABX9TyOj0S6ahgtoxSruWQnsyL3U",
   "collapsed_sections": [],
   "name": "02-Variaveis.ipynb",
   "provenance": []
  },
  "kernelspec": {
   "display_name": "Python 3",
   "language": "python",
   "name": "python3"
  },
  "language_info": {
   "codemirror_mode": {
    "name": "ipython",
    "version": 3
   },
   "file_extension": ".py",
   "mimetype": "text/x-python",
   "name": "python",
   "nbconvert_exporter": "python",
   "pygments_lexer": "ipython3",
   "version": "3.8.8"
  }
 },
 "nbformat": 4,
 "nbformat_minor": 1
}
