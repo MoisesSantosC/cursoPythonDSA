{
 "cells": [
  {
   "cell_type": "markdown",
   "metadata": {
    "id": "wF1qKYa_Zf5Q"
   },
   "source": [
    "## Listas"
   ]
  },
  {
   "cell_type": "code",
   "execution_count": 1,
   "metadata": {
    "colab": {
     "base_uri": "https://localhost:8080/"
    },
    "executionInfo": {
     "elapsed": 1815,
     "status": "ok",
     "timestamp": 1630014771776,
     "user": {
      "displayName": "Moisés Santos",
      "photoUrl": "",
      "userId": "06836740536009892256"
     },
     "user_tz": 180
    },
    "id": "HOS5TuGXE8kq",
    "outputId": "06b082d1-50fd-4637-9be3-f863f0d6a35d"
   },
   "outputs": [
    {
     "name": "stdout",
     "output_type": "stream",
     "text": [
      "['ovos, farinha, leita, maçãs']\n"
     ]
    }
   ],
   "source": [
    "# Criando uma lista e imprimindo\n",
    "lista_do_mercado = ['ovos, farinha, leita, maçãs']  # lista de um elemento\n",
    "print(lista_do_mercado)"
   ]
  },
  {
   "cell_type": "code",
   "execution_count": 2,
   "metadata": {
    "colab": {
     "base_uri": "https://localhost:8080/"
    },
    "executionInfo": {
     "elapsed": 23,
     "status": "ok",
     "timestamp": 1630014771778,
     "user": {
      "displayName": "Moisés Santos",
      "photoUrl": "",
      "userId": "06836740536009892256"
     },
     "user_tz": 180
    },
    "id": "SJDix-_rZ892",
    "outputId": "518f9662-3f02-4fc8-b931-ff1c62f4ff35"
   },
   "outputs": [
    {
     "name": "stdout",
     "output_type": "stream",
     "text": [
      "['ovos', 'farinha', 'leite', 'maçãs']\n"
     ]
    }
   ],
   "source": [
    "# Criando outra lista de modo certo\n",
    "lista_do_mercado2 = ['ovos', 'farinha', 'leite', 'maçãs']  # lista de 4 elementos\n",
    "print(lista_do_mercado2)"
   ]
  },
  {
   "cell_type": "code",
   "execution_count": 3,
   "metadata": {
    "colab": {
     "base_uri": "https://localhost:8080/"
    },
    "executionInfo": {
     "elapsed": 21,
     "status": "ok",
     "timestamp": 1630014771779,
     "user": {
      "displayName": "Moisés Santos",
      "photoUrl": "",
      "userId": "06836740536009892256"
     },
     "user_tz": 180
    },
    "id": "5mvBaGO5aMa5",
    "outputId": "04e02f4d-ce44-40c7-9bc8-feaf3a46a61e"
   },
   "outputs": [
    {
     "name": "stdout",
     "output_type": "stream",
     "text": [
      "ovos, farinha, leita, maçãs\n",
      "ovos\n"
     ]
    }
   ],
   "source": [
    "# Extraindo o primeiro elemento de cada uma das listas\n",
    "print(lista_do_mercado[0])\n",
    "print(lista_do_mercado2[0])"
   ]
  },
  {
   "cell_type": "code",
   "execution_count": 4,
   "metadata": {
    "colab": {
     "base_uri": "https://localhost:8080/"
    },
    "executionInfo": {
     "elapsed": 19,
     "status": "ok",
     "timestamp": 1630014771780,
     "user": {
      "displayName": "Moisés Santos",
      "photoUrl": "",
      "userId": "06836740536009892256"
     },
     "user_tz": 180
    },
    "id": "ymAa-JoWao5I",
    "outputId": "2771cd44-afc8-4bd5-92d9-110574014742"
   },
   "outputs": [
    {
     "name": "stdout",
     "output_type": "stream",
     "text": [
      "[12.5, 100, 'Texto']\n"
     ]
    }
   ],
   "source": [
    "# Criando uma lista com tipos de dados diferentes\n",
    "lista3 = [12.5, 100, 'Texto']\n",
    "print(lista3)"
   ]
  },
  {
   "cell_type": "code",
   "execution_count": 5,
   "metadata": {
    "executionInfo": {
     "elapsed": 19,
     "status": "ok",
     "timestamp": 1630014771782,
     "user": {
      "displayName": "Moisés Santos",
      "photoUrl": "",
      "userId": "06836740536009892256"
     },
     "user_tz": 180
    },
    "id": "czZtI7q_bDVh"
   },
   "outputs": [],
   "source": [
    "# Atribuindo os valores da lista à outras variáveis\n",
    "item1 = lista3[0]\n",
    "item2 = lista3[1]\n",
    "item3 = lista3[2]"
   ]
  },
  {
   "cell_type": "code",
   "execution_count": 6,
   "metadata": {
    "colab": {
     "base_uri": "https://localhost:8080/"
    },
    "executionInfo": {
     "elapsed": 18,
     "status": "ok",
     "timestamp": 1630014771783,
     "user": {
      "displayName": "Moisés Santos",
      "photoUrl": "",
      "userId": "06836740536009892256"
     },
     "user_tz": 180
    },
    "id": "UD6tM1pBbXcJ",
    "outputId": "c59a5ef4-8349-4451-8034-b35e35c923dd"
   },
   "outputs": [
    {
     "name": "stdout",
     "output_type": "stream",
     "text": [
      "12.5 100 Texto\n"
     ]
    }
   ],
   "source": [
    "# Imprimindo as variáveis\n",
    "print(item1, item2, item3)"
   ]
  },
  {
   "cell_type": "markdown",
   "metadata": {
    "id": "L3heA9BDbi7q"
   },
   "source": [
    "## Atualizando um item da lista"
   ]
  },
  {
   "cell_type": "code",
   "execution_count": 7,
   "metadata": {
    "colab": {
     "base_uri": "https://localhost:8080/"
    },
    "executionInfo": {
     "elapsed": 16,
     "status": "ok",
     "timestamp": 1630014773930,
     "user": {
      "displayName": "Moisés Santos",
      "photoUrl": "",
      "userId": "06836740536009892256"
     },
     "user_tz": 180
    },
    "id": "PV3EDRfcbbL9",
    "outputId": "30b27072-c3dc-4ba0-f7d8-c33a16d80d85"
   },
   "outputs": [
    {
     "name": "stdout",
     "output_type": "stream",
     "text": [
      "leite\n"
     ]
    }
   ],
   "source": [
    "# imprimindo um item da lista\n",
    "print(lista_do_mercado2[2])"
   ]
  },
  {
   "cell_type": "code",
   "execution_count": 8,
   "metadata": {
    "executionInfo": {
     "elapsed": 11,
     "status": "ok",
     "timestamp": 1630014773931,
     "user": {
      "displayName": "Moisés Santos",
      "photoUrl": "",
      "userId": "06836740536009892256"
     },
     "user_tz": 180
    },
    "id": "Plj35Pukb0JY"
   },
   "outputs": [],
   "source": [
    "# Substituindo o valor de um item da lista\n",
    "lista_do_mercado2[2] = 'chocolate'"
   ]
  },
  {
   "cell_type": "code",
   "execution_count": 9,
   "metadata": {
    "colab": {
     "base_uri": "https://localhost:8080/"
    },
    "executionInfo": {
     "elapsed": 11,
     "status": "ok",
     "timestamp": 1630014773932,
     "user": {
      "displayName": "Moisés Santos",
      "photoUrl": "",
      "userId": "06836740536009892256"
     },
     "user_tz": 180
    },
    "id": "SMBINl8gb98l",
    "outputId": "0d28104c-454e-43f1-f10d-3dca776c4174"
   },
   "outputs": [
    {
     "name": "stdout",
     "output_type": "stream",
     "text": [
      "['ovos', 'farinha', 'chocolate', 'maçãs']\n"
     ]
    }
   ],
   "source": [
    "# imprimindo a lista com o novo item\n",
    "print(lista_do_mercado2)"
   ]
  },
  {
   "cell_type": "markdown",
   "metadata": {
    "id": "z8ccRS5GcFK_"
   },
   "source": [
    "## Deletando um item da lista"
   ]
  },
  {
   "cell_type": "code",
   "execution_count": 10,
   "metadata": {
    "executionInfo": {
     "elapsed": 9,
     "status": "ok",
     "timestamp": 1630014776999,
     "user": {
      "displayName": "Moisés Santos",
      "photoUrl": "",
      "userId": "06836740536009892256"
     },
     "user_tz": 180
    },
    "id": "r-yC-AO8cCbc"
   },
   "outputs": [],
   "source": [
    "# Deletando um item específico da lista\n",
    "# Só é possivel deletar um item através do índex que existe.\n",
    "del lista_do_mercado2[3]"
   ]
  },
  {
   "cell_type": "code",
   "execution_count": 11,
   "metadata": {
    "colab": {
     "base_uri": "https://localhost:8080/"
    },
    "executionInfo": {
     "elapsed": 181,
     "status": "ok",
     "timestamp": 1630014779155,
     "user": {
      "displayName": "Moisés Santos",
      "photoUrl": "",
      "userId": "06836740536009892256"
     },
     "user_tz": 180
    },
    "id": "QPaX9WqycUHb",
    "outputId": "1be94449-a267-408e-b33b-6ebe5e3f7a1f"
   },
   "outputs": [
    {
     "name": "stdout",
     "output_type": "stream",
     "text": [
      "['ovos', 'farinha', 'chocolate']\n"
     ]
    }
   ],
   "source": [
    "# Imprimindo a lista\n",
    "print(lista_do_mercado2)"
   ]
  },
  {
   "cell_type": "markdown",
   "metadata": {
    "id": "ltgPgenIc7af"
   },
   "source": [
    "## Lista de listas (Listas aninhadas)"
   ]
  },
  {
   "cell_type": "code",
   "execution_count": 12,
   "metadata": {
    "executionInfo": {
     "elapsed": 1314,
     "status": "ok",
     "timestamp": 1630015241322,
     "user": {
      "displayName": "Moisés Santos",
      "photoUrl": "",
      "userId": "06836740536009892256"
     },
     "user_tz": 180
    },
    "id": "7Ia5ElL-cs3O"
   },
   "outputs": [],
   "source": [
    "# Criando uma lista dentro de outra lista\n",
    "listas = [[1, 2, 3], ['Quatro', 'Cinco', 'Seis'], [7, 8, 9]]"
   ]
  },
  {
   "cell_type": "code",
   "execution_count": 13,
   "metadata": {
    "colab": {
     "base_uri": "https://localhost:8080/"
    },
    "executionInfo": {
     "elapsed": 272,
     "status": "ok",
     "timestamp": 1630015252876,
     "user": {
      "displayName": "Moisés Santos",
      "photoUrl": "",
      "userId": "06836740536009892256"
     },
     "user_tz": 180
    },
    "id": "A3qMAHc8erU_",
    "outputId": "17430dd5-a479-4e8b-98d4-838ac478af9d"
   },
   "outputs": [
    {
     "name": "stdout",
     "output_type": "stream",
     "text": [
      "[[1, 2, 3], ['Quatro', 'Cinco', 'Seis'], [7, 8, 9]]\n"
     ]
    }
   ],
   "source": [
    "# imprimindo a lista\n",
    "print(listas)"
   ]
  },
  {
   "cell_type": "code",
   "execution_count": 14,
   "metadata": {
    "colab": {
     "base_uri": "https://localhost:8080/"
    },
    "executionInfo": {
     "elapsed": 11,
     "status": "ok",
     "timestamp": 1630015323840,
     "user": {
      "displayName": "Moisés Santos",
      "photoUrl": "",
      "userId": "06836740536009892256"
     },
     "user_tz": 180
    },
    "id": "e3-ovmEUeuRk",
    "outputId": "c1c3133f-0163-4044-8336-2f8c2d51d846"
   },
   "outputs": [
    {
     "name": "stdout",
     "output_type": "stream",
     "text": [
      "[1, 2, 3]\n"
     ]
    }
   ],
   "source": [
    "# Atribuindo um item lista a uma variável\n",
    "a = listas[0]\n",
    "print(a)"
   ]
  },
  {
   "cell_type": "code",
   "execution_count": 15,
   "metadata": {
    "colab": {
     "base_uri": "https://localhost:8080/"
    },
    "executionInfo": {
     "elapsed": 260,
     "status": "ok",
     "timestamp": 1630015375081,
     "user": {
      "displayName": "Moisés Santos",
      "photoUrl": "",
      "userId": "06836740536009892256"
     },
     "user_tz": 180
    },
    "id": "5hKFKzpRe_uM",
    "outputId": "431d330e-918d-4929-f8a5-b7924b55814f"
   },
   "outputs": [
    {
     "name": "stdout",
     "output_type": "stream",
     "text": [
      "1\n"
     ]
    }
   ],
   "source": [
    "# Extraindo um item da lista\n",
    "b = a[0]\n",
    "print(b)"
   ]
  },
  {
   "cell_type": "markdown",
   "metadata": {
    "id": "duZujHjEfa5B"
   },
   "source": [
    "## Operações com Listas"
   ]
  },
  {
   "cell_type": "code",
   "execution_count": 16,
   "metadata": {
    "colab": {
     "base_uri": "https://localhost:8080/"
    },
    "executionInfo": {
     "elapsed": 12,
     "status": "ok",
     "timestamp": 1630015645324,
     "user": {
      "displayName": "Moisés Santos",
      "photoUrl": "",
      "userId": "06836740536009892256"
     },
     "user_tz": 180
    },
    "id": "O1cdL-rvgLbh",
    "outputId": "b8b692de-1ba9-4fdd-9936-622d2f953d66"
   },
   "outputs": [
    {
     "name": "stdout",
     "output_type": "stream",
     "text": [
      "[[1, 2, 3], ['Quatro', 'Cinco', 'Seis'], [7, 8, 9]]\n"
     ]
    }
   ],
   "source": [
    "# Imprimindo a lista\n",
    "print(listas)"
   ]
  },
  {
   "cell_type": "code",
   "execution_count": 17,
   "metadata": {
    "colab": {
     "base_uri": "https://localhost:8080/"
    },
    "executionInfo": {
     "elapsed": 364,
     "status": "ok",
     "timestamp": 1630015503292,
     "user": {
      "displayName": "Moisés Santos",
      "photoUrl": "",
      "userId": "06836740536009892256"
     },
     "user_tz": 180
    },
    "id": "XVaYBgrGfMKA",
    "outputId": "cae4e3d4-e70a-4ab7-f312-ed855d632548"
   },
   "outputs": [
    {
     "name": "stdout",
     "output_type": "stream",
     "text": [
      "1\n"
     ]
    }
   ],
   "source": [
    "# Atribuindo à variável a, o primeiro valor da primeira lista\n",
    "a = listas[0][0]\n",
    "print(a)"
   ]
  },
  {
   "cell_type": "code",
   "execution_count": 18,
   "metadata": {
    "colab": {
     "base_uri": "https://localhost:8080/"
    },
    "executionInfo": {
     "elapsed": 15,
     "status": "ok",
     "timestamp": 1630015575560,
     "user": {
      "displayName": "Moisés Santos",
      "photoUrl": "",
      "userId": "06836740536009892256"
     },
     "user_tz": 180
    },
    "id": "_E62jyuNfqEM",
    "outputId": "57647f8c-c206-4409-aa88-b04d18d9cd96"
   },
   "outputs": [
    {
     "name": "stdout",
     "output_type": "stream",
     "text": [
      "Seis\n"
     ]
    }
   ],
   "source": [
    "# Atribuindo à variável b, o terceiro valor da segunda lista\n",
    "b = listas[1][2]\n",
    "print(b)"
   ]
  },
  {
   "cell_type": "markdown",
   "metadata": {
    "id": "Yk8ss_qlgT6C"
   },
   "source": [
    "## Concatenar listas"
   ]
  },
  {
   "cell_type": "code",
   "execution_count": 19,
   "metadata": {
    "colab": {
     "base_uri": "https://localhost:8080/"
    },
    "executionInfo": {
     "elapsed": 474,
     "status": "ok",
     "timestamp": 1630015751283,
     "user": {
      "displayName": "Moisés Santos",
      "photoUrl": "",
      "userId": "06836740536009892256"
     },
     "user_tz": 180
    },
    "id": "CDRapCRuf7iv",
    "outputId": "b02c8dea-6a4f-4070-8c76-921c6dbc5b94"
   },
   "outputs": [
    {
     "name": "stdout",
     "output_type": "stream",
     "text": [
      "[1, 2, 3]\n"
     ]
    }
   ],
   "source": [
    "# Criando a primeira lista\n",
    "lista1 = [1, 2, 3]\n",
    "print(lista1)"
   ]
  },
  {
   "cell_type": "code",
   "execution_count": 20,
   "metadata": {
    "colab": {
     "base_uri": "https://localhost:8080/"
    },
    "executionInfo": {
     "elapsed": 257,
     "status": "ok",
     "timestamp": 1630015784912,
     "user": {
      "displayName": "Moisés Santos",
      "photoUrl": "",
      "userId": "06836740536009892256"
     },
     "user_tz": 180
    },
    "id": "V5-_8ARWgoAo",
    "outputId": "e4c080dd-1c5f-4af0-aa8f-aa99c2fc4c0e"
   },
   "outputs": [
    {
     "name": "stdout",
     "output_type": "stream",
     "text": [
      "[4, 5, 6]\n"
     ]
    }
   ],
   "source": [
    "# Criando a segunda lista\n",
    "lista2 = [4, 5, 6]\n",
    "print(lista2)"
   ]
  },
  {
   "cell_type": "code",
   "execution_count": 21,
   "metadata": {
    "colab": {
     "base_uri": "https://localhost:8080/"
    },
    "executionInfo": {
     "elapsed": 290,
     "status": "ok",
     "timestamp": 1630015822584,
     "user": {
      "displayName": "Moisés Santos",
      "photoUrl": "",
      "userId": "06836740536009892256"
     },
     "user_tz": 180
    },
    "id": "FkPumJBfgwPl",
    "outputId": "d306b90f-4ab3-4205-c9a0-19842cfee7d6"
   },
   "outputs": [
    {
     "name": "stdout",
     "output_type": "stream",
     "text": [
      "[1, 2, 3, 4, 5, 6]\n"
     ]
    }
   ],
   "source": [
    "# Concatenando lsitas\n",
    "lista_total = lista1 + lista2\n",
    "print(lista_total)"
   ]
  },
  {
   "cell_type": "markdown",
   "metadata": {
    "id": "pTqF6F7jg7OC"
   },
   "source": [
    "## Operador in"
   ]
  },
  {
   "cell_type": "code",
   "execution_count": 22,
   "metadata": {
    "colab": {
     "base_uri": "https://localhost:8080/"
    },
    "executionInfo": {
     "elapsed": 291,
     "status": "ok",
     "timestamp": 1630015977118,
     "user": {
      "displayName": "Moisés Santos",
      "photoUrl": "",
      "userId": "06836740536009892256"
     },
     "user_tz": 180
    },
    "id": "L_1Wvd2pg5bf",
    "outputId": "3bff348b-052d-4233-bbe4-241754ac9dac"
   },
   "outputs": [
    {
     "name": "stdout",
     "output_type": "stream",
     "text": [
      "[14, 17, 33, 45]\n"
     ]
    }
   ],
   "source": [
    "# Criando uma lista\n",
    "lista_numeros = [14, 17, 33, 45]\n",
    "print(lista_numeros)"
   ]
  },
  {
   "cell_type": "code",
   "execution_count": 23,
   "metadata": {
    "colab": {
     "base_uri": "https://localhost:8080/"
    },
    "executionInfo": {
     "elapsed": 13,
     "status": "ok",
     "timestamp": 1630016028789,
     "user": {
      "displayName": "Moisés Santos",
      "photoUrl": "",
      "userId": "06836740536009892256"
     },
     "user_tz": 180
    },
    "id": "yvqqbT4mhaul",
    "outputId": "734a1c22-8c3e-48ed-c1a0-d576d478c178"
   },
   "outputs": [
    {
     "name": "stdout",
     "output_type": "stream",
     "text": [
      "False\n"
     ]
    }
   ],
   "source": [
    "# Verificando se um valor pertence à lista\n",
    "# Retorna um valor booleano\n",
    "print(25 in lista_numeros)"
   ]
  },
  {
   "cell_type": "code",
   "execution_count": 24,
   "metadata": {
    "colab": {
     "base_uri": "https://localhost:8080/"
    },
    "executionInfo": {
     "elapsed": 249,
     "status": "ok",
     "timestamp": 1630016040073,
     "user": {
      "displayName": "Moisés Santos",
      "photoUrl": "",
      "userId": "06836740536009892256"
     },
     "user_tz": 180
    },
    "id": "r1MBADyxhpT9",
    "outputId": "470c8f07-f763-4bb5-d907-a1c4ffc74359"
   },
   "outputs": [
    {
     "name": "stdout",
     "output_type": "stream",
     "text": [
      "True\n"
     ]
    }
   ],
   "source": [
    "# Verificando se um valor pertence à lista\n",
    "# Retorna um valor booleano\n",
    "print(14 in lista_numeros)"
   ]
  },
  {
   "cell_type": "markdown",
   "metadata": {
    "id": "Mn4Em6FbhwZh"
   },
   "source": [
    "## Funções Built-in"
   ]
  },
  {
   "cell_type": "code",
   "execution_count": 25,
   "metadata": {
    "colab": {
     "base_uri": "https://localhost:8080/"
    },
    "executionInfo": {
     "elapsed": 434,
     "status": "ok",
     "timestamp": 1630016824902,
     "user": {
      "displayName": "Moisés Santos",
      "photoUrl": "",
      "userId": "06836740536009892256"
     },
     "user_tz": 180
    },
    "id": "Oc0Rafh-hui8",
    "outputId": "9a80e94e-4f30-469d-924d-40ad0eeb6848"
   },
   "outputs": [
    {
     "name": "stdout",
     "output_type": "stream",
     "text": [
      "[14, 17, 33, 45]\n",
      "4\n"
     ]
    }
   ],
   "source": [
    "# Retornando o comprimento de itens da lista\n",
    "print(lista_numeros)\n",
    "print(len(lista_numeros))"
   ]
  },
  {
   "cell_type": "code",
   "execution_count": 26,
   "metadata": {
    "colab": {
     "base_uri": "https://localhost:8080/"
    },
    "executionInfo": {
     "elapsed": 39,
     "status": "ok",
     "timestamp": 1630016824904,
     "user": {
      "displayName": "Moisés Santos",
      "photoUrl": "",
      "userId": "06836740536009892256"
     },
     "user_tz": 180
    },
    "id": "D-ZQPblnh6r8",
    "outputId": "9c96deee-0395-4b71-ef84-ec7b37cc66b4"
   },
   "outputs": [
    {
     "name": "stdout",
     "output_type": "stream",
     "text": [
      "45\n"
     ]
    }
   ],
   "source": [
    "# Retornando o maior valor da lista\n",
    "print(max(lista_numeros))"
   ]
  },
  {
   "cell_type": "code",
   "execution_count": 27,
   "metadata": {
    "colab": {
     "base_uri": "https://localhost:8080/"
    },
    "executionInfo": {
     "elapsed": 37,
     "status": "ok",
     "timestamp": 1630016824906,
     "user": {
      "displayName": "Moisés Santos",
      "photoUrl": "",
      "userId": "06836740536009892256"
     },
     "user_tz": 180
    },
    "id": "D4Y9-W7LiK0m",
    "outputId": "be7b15fc-4d2a-4973-c91c-29cd24d3d6d9"
   },
   "outputs": [
    {
     "name": "stdout",
     "output_type": "stream",
     "text": [
      "14\n"
     ]
    }
   ],
   "source": [
    "# Retornando o menor valor da lista\n",
    "print(min(lista_numeros))"
   ]
  },
  {
   "cell_type": "code",
   "execution_count": 28,
   "metadata": {
    "colab": {
     "base_uri": "https://localhost:8080/"
    },
    "executionInfo": {
     "elapsed": 36,
     "status": "ok",
     "timestamp": 1630016824906,
     "user": {
      "displayName": "Moisés Santos",
      "photoUrl": "",
      "userId": "06836740536009892256"
     },
     "user_tz": 180
    },
    "id": "FdPQsgNmih-s",
    "outputId": "e96ad24c-0505-4de0-9fd7-acf4debef0aa"
   },
   "outputs": [
    {
     "name": "stdout",
     "output_type": "stream",
     "text": [
      "[14, 17, 33, 45]\n"
     ]
    }
   ],
   "source": [
    "# imprimindo a lista\n",
    "print(lista_numeros)"
   ]
  },
  {
   "cell_type": "code",
   "execution_count": 29,
   "metadata": {
    "colab": {
     "base_uri": "https://localhost:8080/"
    },
    "executionInfo": {
     "elapsed": 34,
     "status": "ok",
     "timestamp": 1630016824907,
     "user": {
      "displayName": "Moisés Santos",
      "photoUrl": "",
      "userId": "06836740536009892256"
     },
     "user_tz": 180
    },
    "id": "nEKWFtAEiWhw",
    "outputId": "ff45301b-5f79-4810-f54e-4490e420679d"
   },
   "outputs": [
    {
     "name": "stdout",
     "output_type": "stream",
     "text": [
      "[14, 17, 33, 45, 2]\n"
     ]
    }
   ],
   "source": [
    "# Adicionando um item à lista\n",
    "lista_numeros.append(2)\n",
    "print(lista_numeros)"
   ]
  },
  {
   "cell_type": "code",
   "execution_count": 30,
   "metadata": {
    "colab": {
     "base_uri": "https://localhost:8080/"
    },
    "executionInfo": {
     "elapsed": 36,
     "status": "ok",
     "timestamp": 1630016824910,
     "user": {
      "displayName": "Moisés Santos",
      "photoUrl": "",
      "userId": "06836740536009892256"
     },
     "user_tz": 180
    },
    "id": "zpTYji0tiwFQ",
    "outputId": "fb128610-8cdd-47e0-eac8-3691a369bd02"
   },
   "outputs": [
    {
     "name": "stdout",
     "output_type": "stream",
     "text": [
      "2\n"
     ]
    }
   ],
   "source": [
    "# Contando quantas vezes tem o elemento na lista\n",
    "lista_numeros.append(2)  # adicionando novamente o número 2 à lista\n",
    "\n",
    "print(lista_numeros.count(2))"
   ]
  },
  {
   "cell_type": "code",
   "execution_count": 31,
   "metadata": {
    "colab": {
     "base_uri": "https://localhost:8080/"
    },
    "executionInfo": {
     "elapsed": 34,
     "status": "ok",
     "timestamp": 1630016824911,
     "user": {
      "displayName": "Moisés Santos",
      "photoUrl": "",
      "userId": "06836740536009892256"
     },
     "user_tz": 180
    },
    "id": "ysDK4jubjJCv",
    "outputId": "250a5c65-9e50-44f4-f443-1ff7c4047e18"
   },
   "outputs": [
    {
     "name": "stdout",
     "output_type": "stream",
     "text": [
      "['Recife', 'Manaus', 'Recife', 'Fortaleza', 'Palmas']\n"
     ]
    }
   ],
   "source": [
    "# Criando uma nova lista\n",
    "cidades = ['Recife', 'Manaus', 'Recife']\n",
    "cidades.extend(['Fortaleza', 'Palmas'])\n",
    "print(cidades)"
   ]
  },
  {
   "cell_type": "code",
   "execution_count": 32,
   "metadata": {
    "colab": {
     "base_uri": "https://localhost:8080/"
    },
    "executionInfo": {
     "elapsed": 33,
     "status": "ok",
     "timestamp": 1630016824913,
     "user": {
      "displayName": "Moisés Santos",
      "photoUrl": "",
      "userId": "06836740536009892256"
     },
     "user_tz": 180
    },
    "id": "dmbfdkTij_jw",
    "outputId": "7b403308-577f-4763-eaef-be410c963654"
   },
   "outputs": [
    {
     "name": "stdout",
     "output_type": "stream",
     "text": [
      "3\n"
     ]
    }
   ],
   "source": [
    "# Retornando o índice de um item na lista\n",
    "print(cidades.index('Fortaleza'))"
   ]
  },
  {
   "cell_type": "code",
   "execution_count": 33,
   "metadata": {
    "colab": {
     "base_uri": "https://localhost:8080/"
    },
    "executionInfo": {
     "elapsed": 33,
     "status": "ok",
     "timestamp": 1630016824915,
     "user": {
      "displayName": "Moisés Santos",
      "photoUrl": "",
      "userId": "06836740536009892256"
     },
     "user_tz": 180
    },
    "id": "J9RQn4qSkHuo",
    "outputId": "0104bf2c-b459-43ea-91d5-7dc23dec319e"
   },
   "outputs": [
    {
     "name": "stdout",
     "output_type": "stream",
     "text": [
      "['Recife', 'Manaus', 'Suzano', 'Recife', 'Fortaleza', 'Palmas']\n"
     ]
    }
   ],
   "source": [
    "# Adicionando um item na lista através de um índice específico\n",
    "cidades.insert(2, 'Suzano')\n",
    "print(cidades)"
   ]
  },
  {
   "cell_type": "code",
   "execution_count": 34,
   "metadata": {
    "colab": {
     "base_uri": "https://localhost:8080/"
    },
    "executionInfo": {
     "elapsed": 371,
     "status": "ok",
     "timestamp": 1630016825257,
     "user": {
      "displayName": "Moisés Santos",
      "photoUrl": "",
      "userId": "06836740536009892256"
     },
     "user_tz": 180
    },
    "id": "VSTfcg0PkgA9",
    "outputId": "2812792a-973c-46c9-d6f3-00670e61e3d4"
   },
   "outputs": [
    {
     "name": "stdout",
     "output_type": "stream",
     "text": [
      "['Recife', 'Manaus', 'Suzano', 'Recife', 'Palmas']\n"
     ]
    }
   ],
   "source": [
    "# Remove um item da lista\n",
    "cidades.remove('Fortaleza')\n",
    "print(cidades)"
   ]
  },
  {
   "cell_type": "code",
   "execution_count": 35,
   "metadata": {
    "colab": {
     "base_uri": "https://localhost:8080/"
    },
    "executionInfo": {
     "elapsed": 7,
     "status": "ok",
     "timestamp": 1630016892282,
     "user": {
      "displayName": "Moisés Santos",
      "photoUrl": "",
      "userId": "06836740536009892256"
     },
     "user_tz": 180
    },
    "id": "7dCtrnNrkpwM",
    "outputId": "e6948907-93d0-41ad-c504-6b12dba78489"
   },
   "outputs": [
    {
     "name": "stdout",
     "output_type": "stream",
     "text": [
      "['Palmas', 'Recife', 'Suzano', 'Manaus', 'Recife']\n"
     ]
    }
   ],
   "source": [
    "# Invertendo os valores da lista\n",
    "cidades.reverse()\n",
    "print(cidades)"
   ]
  },
  {
   "cell_type": "code",
   "execution_count": 36,
   "metadata": {
    "colab": {
     "base_uri": "https://localhost:8080/"
    },
    "executionInfo": {
     "elapsed": 9,
     "status": "ok",
     "timestamp": 1630016970185,
     "user": {
      "displayName": "Moisés Santos",
      "photoUrl": "",
      "userId": "06836740536009892256"
     },
     "user_tz": 180
    },
    "id": "eTua86gtk32d",
    "outputId": "fb9424a5-745c-420e-de26-573fbb183d8f"
   },
   "outputs": [
    {
     "name": "stdout",
     "output_type": "stream",
     "text": [
      "[10, 11, 12, 13, 14, 15]\n"
     ]
    }
   ],
   "source": [
    "# Criando um lista desordenada e ordenando-a\n",
    "x = [15, 14, 13, 12, 11, 10]\n",
    "x.sort()\n",
    "print(x)"
   ]
  },
  {
   "cell_type": "markdown",
   "metadata": {},
   "source": [
    "## Próximo assunto"
   ]
  },
  {
   "cell_type": "markdown",
   "metadata": {},
   "source": [
    "### [Dicionários](./05-Dicionarios.ipynb)"
   ]
  },
  {
   "cell_type": "markdown",
   "metadata": {},
   "source": [
    "## Assunto Anterior"
   ]
  },
  {
   "cell_type": "markdown",
   "metadata": {},
   "source": [
    "### [Strings e indexação](./03-Strings-e-Indexacao.ipynb)"
   ]
  }
 ],
 "metadata": {
  "colab": {
   "authorship_tag": "ABX9TyP7p9bWO0zBoLg/kNAHgdOI",
   "collapsed_sections": [
    "wF1qKYa_Zf5Q",
    "L3heA9BDbi7q",
    "z8ccRS5GcFK_"
   ],
   "name": "04-Listas.ipynb",
   "provenance": []
  },
  "kernelspec": {
   "display_name": "Python 3",
   "language": "python",
   "name": "python3"
  },
  "language_info": {
   "codemirror_mode": {
    "name": "ipython",
    "version": 3
   },
   "file_extension": ".py",
   "mimetype": "text/x-python",
   "name": "python",
   "nbconvert_exporter": "python",
   "pygments_lexer": "ipython3",
   "version": "3.8.8"
  }
 },
 "nbformat": 4,
 "nbformat_minor": 1
}
